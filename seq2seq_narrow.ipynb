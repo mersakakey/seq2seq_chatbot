{
  "nbformat": 4,
  "nbformat_minor": 0,
  "metadata": {
    "colab": {
      "provenance": [],
      "collapsed_sections": []
    },
    "kernelspec": {
      "name": "python3",
      "display_name": "Python 3"
    },
    "language_info": {
      "name": "python"
    }
  },
  "cells": [
    {
      "cell_type": "code",
      "metadata": {
        "id": "k5W7ScaXNJpT"
      },
      "source": [
        "import os\n",
        "os.environ['KMP_DUPLICATE_LIB_OK']='True'"
      ],
      "execution_count": 4,
      "outputs": []
    },
    {
      "cell_type": "code",
      "metadata": {
        "id": "6cg8FjGrOWvx"
      },
      "source": [
        "%matplotlib inline"
      ],
      "execution_count": 5,
      "outputs": []
    },
    {
      "cell_type": "code",
      "metadata": {
        "id": "a6PJQ32xOZM9"
      },
      "source": [
        "from __future__ import unicode_literals, print_function, division\n",
        "from io import open\n",
        "import unicodedata\n",
        "import string\n",
        "import re\n",
        "import random\n",
        "#!pip install pykakasi\n",
        "#import pykakasi\n",
        "import time\n",
        "\n",
        "import torch\n",
        "import torch.nn as nn\n",
        "from torch import optim\n",
        "import torch.nn.functional as F\n",
        "\n",
        "device = torch.device(\"cuda\" if torch.cuda.is_available() else \"cpu\")"
      ],
      "execution_count": 6,
      "outputs": []
    },
    {
      "cell_type": "code",
      "metadata": {
        "id": "G83GZMmG7FMu",
        "colab": {
          "base_uri": "https://localhost:8080/"
        },
        "outputId": "4b8a3ed5-b38b-4573-f54b-4ed268acc9d8"
      },
      "source": [
        "from google.colab import drive\n",
        "drive.mount('/content/drive')"
      ],
      "execution_count": 8,
      "outputs": [
        {
          "output_type": "stream",
          "name": "stdout",
          "text": [
            "Mounted at /content/drive\n"
          ]
        }
      ]
    },
    {
      "cell_type": "code",
      "metadata": {
        "id": "e0KvxjHKP6ME"
      },
      "source": [
        "##!wget https://download.pytorch.org/tutorial/data.zip > /dev/null\n",
        "#!unzip data.zip > /dev/null"
      ],
      "execution_count": 9,
      "outputs": []
    },
    {
      "cell_type": "code",
      "metadata": {
        "id": "k_6P1H_iP71k"
      },
      "source": [
        "SOS_token = 0\n",
        "EOS_token = 1\n",
        "\n",
        "class Lang:\n",
        "    def __init__(self, name):\n",
        "        self.name = name\n",
        "        self.word2index = {}\n",
        "        self.word2count = {}\n",
        "        self.index2word = {0: \"SOS\", 1: \"EOS\"}\n",
        "        self.n_words = 2  # Count SOS and EOS\n",
        "\n",
        "    def addSentence(self, sentence):\n",
        "        for word in sentence.split(' '):\n",
        "            self.addWord(word)\n",
        "\n",
        "    def addWord(self, word):\n",
        "        if word not in self.word2index:\n",
        "            self.word2index[word] = self.n_words\n",
        "            self.word2count[word] = 1\n",
        "            self.index2word[self.n_words] = word\n",
        "            self.n_words += 1\n",
        "        else:\n",
        "            self.word2count[word] += 1"
      ],
      "execution_count": 10,
      "outputs": []
    },
    {
      "cell_type": "code",
      "metadata": {
        "id": "aCya5I43QB2d"
      },
      "source": [
        "# Turn a Unicode string to plain ASCII, thanks to\n",
        "# https://stackoverflow.com/a/518232/2809427\n",
        "def unicodeToAscii(s):\n",
        "    return ''.join(\n",
        "        c for c in unicodedata.normalize('NFD', s)\n",
        "        if unicodedata.category(c) != 'Mn'\n",
        "    )\n",
        "\n",
        "# Lowercase, trim, and remove non-letter characters\n",
        "\n",
        "\n",
        "def normalizeString(s):\n",
        "    #s = unicodeToAscii(s.lower().strip())\n",
        "    #s = re.sub(r\"([.!?])\", r\" \\1\", s)\n",
        "    #s = re.sub(r\"[^a-zA-Z.!?]+\", r\" \", s)\n",
        "    return s"
      ],
      "execution_count": 11,
      "outputs": []
    },
    {
      "cell_type": "code",
      "metadata": {
        "id": "9TRlv9yaQMcr"
      },
      "source": [
        "def readLangs(lang1, lang2, reverse=False):\n",
        "    print(\"Reading lines...\")\n",
        "\n",
        "    # Read the file and split into lines\n",
        "    lines = open('chatJ.txt', encoding='utf-8').\\\n",
        "        read().strip().split('\\n')\n",
        "    # Split every line into pairs and normalize\n",
        "    pairs = [[normalizeString(s) for s in l.split(',')] for l in lines]\n",
        "    print(pairs, \"read\")\n",
        "    # Reverse pairs, make Lang instances\n",
        "    if reverse:\n",
        "        pairs = [list(reversed(p)) for p in pairs]\n",
        "        input_lang = Lang(lang2)\n",
        "        output_lang = Lang(lang1)\n",
        "    else:\n",
        "        input_lang = Lang(lang1)\n",
        "        output_lang = Lang(lang2)\n",
        "\n",
        "    return input_lang, output_lang, pairs"
      ],
      "execution_count": 12,
      "outputs": []
    },
    {
      "cell_type": "code",
      "metadata": {
        "id": "ldPcv1-Vy_Ya"
      },
      "source": [
        "def readTwoLangs(lang1, lang2, reverse=False):\n",
        "    print(\"Reading lines...\")\n",
        "\n",
        "    # Read the file and split into lines\n",
        "    lines1 = open('/content/drive/My Drive/Colab Notebooks/data/conv_in.txt', encoding='utf-8').\\\n",
        "        read().strip().split('\\n')\n",
        "    lines2 = open('/content/drive/My Drive/Colab Notebooks/data/conv_out.txt',encoding='utf-8').\\\n",
        "        read().strip().split('\\n')\n",
        "    # Split every line into pairs and normalize\n",
        "    pairs=[]\n",
        "    for i in range(len(lines1)):\n",
        "      pairs += [[normalizeString(lines1[i]),normalizeString(lines2[i])]]\n",
        "        \n",
        "    # Reverse pairs, make Lang instances\n",
        "    if reverse:\n",
        "        pairs = [list(reversed(p)) for p in pairs]\n",
        "        input_lang = Lang(lang2)\n",
        "        output_lang = Lang(lang1)\n",
        "    else:\n",
        "        input_lang = Lang(lang1)\n",
        "        output_lang = Lang(lang2)\n",
        "\n",
        "\n",
        "    return input_lang, output_lang, pairs"
      ],
      "execution_count": 13,
      "outputs": []
    },
    {
      "cell_type": "code",
      "metadata": {
        "id": "k_IvgxfaQOBc"
      },
      "source": [
        "MAX_LENGTH = 10\n",
        "\n",
        "eng_prefixes = (\n",
        "    \"i am \", \"i m \",\n",
        "    \"he is\", \"he s \",\n",
        "    \"she is\", \"she s \",\n",
        "    \"you are\", \"you re \",\n",
        "    \"we are\", \"we re \",\n",
        "    \"they are\", \"they re \"\n",
        ")\n",
        "\n",
        "\n",
        "def filterPair(p):\n",
        "    return len(p[0].split(' ')) < MAX_LENGTH and len(p[1].split(' ')) < MAX_LENGTH\n",
        "\n",
        "\n",
        "\n",
        "def filterPairs(pairs):\n",
        "    return [pair for pair in pairs if filterPair(pair)]"
      ],
      "execution_count": 14,
      "outputs": []
    },
    {
      "cell_type": "code",
      "metadata": {
        "id": "9lgQ_vXKRHl7",
        "colab": {
          "base_uri": "https://localhost:8080/"
        },
        "outputId": "3217915a-5e4a-40c1-b998-6dbcc594e50f"
      },
      "source": [
        "def prepareData(lang1, lang2, reverse=False):\n",
        "    input_lang, output_lang, pairs = readTwoLangs(lang1, lang2, reverse)\n",
        "    print(\"Read %s sentence pairs\" % len(pairs))\n",
        "    \n",
        "    pairs = filterPairs(pairs)\n",
        "\n",
        "    print(\"Trimmed to %s sentence pairs\" % len(pairs))\n",
        "    print(\"Counting words...\")\n",
        "\n",
        "    for pair in pairs:\n",
        "        input_lang.addSentence(pair[0])\n",
        "        output_lang.addSentence(pair[1])\n",
        "    print(\"Counted words:\")\n",
        "    print(input_lang.name, input_lang.n_words)\n",
        "    print(output_lang.name, output_lang.n_words)\n",
        "    return input_lang, output_lang, pairs\n",
        "\n",
        "\n",
        "input_lang, output_lang, pairs = prepareData('jap', 'jap', False)\n",
        "print(random.choice(pairs))"
      ],
      "execution_count": 15,
      "outputs": [
        {
          "output_type": "stream",
          "name": "stdout",
          "text": [
            "Reading lines...\n",
            "Read 29006 sentence pairs\n",
            "Trimmed to 2413 sentence pairs\n",
            "Counting words...\n",
            "Counted words:\n",
            "jap 1178\n",
            "jap 1114\n",
            "[' ぐ … … っ  ', ' う 、 やぁ ―― ！ ！  ']\n"
          ]
        }
      ]
    },
    {
      "cell_type": "code",
      "metadata": {
        "id": "X_5KQ6hARSrj"
      },
      "source": [
        "class EncoderRNN(nn.Module):\n",
        "    def __init__(self, input_size, hidden_size):\n",
        "        super(EncoderRNN, self).__init__()\n",
        "        self.hidden_size = hidden_size\n",
        "\n",
        "        self.embedding = nn.Embedding(input_size, hidden_size)\n",
        "        self.gru = nn.GRU(hidden_size, hidden_size)\n",
        "\n",
        "    def forward(self, input, hidden):\n",
        "        embedded = self.embedding(input).view(1, 1, -1)\n",
        "        output = embedded\n",
        "        output, hidden = self.gru(output, hidden)\n",
        "        return output, hidden\n",
        "\n",
        "    def initHidden(self):\n",
        "        return torch.zeros(1, 1, self.hidden_size, device=device)"
      ],
      "execution_count": 16,
      "outputs": []
    },
    {
      "cell_type": "code",
      "metadata": {
        "id": "v1Rqy-tQRUdF"
      },
      "source": [
        "class DecoderRNN(nn.Module):\n",
        "    def __init__(self, hidden_size, output_size):\n",
        "        super(DecoderRNN, self).__init__()\n",
        "        self.hidden_size = hidden_size\n",
        "\n",
        "        self.embedding = nn.Embedding(output_size, hidden_size)\n",
        "        self.gru = nn.GRU(hidden_size, hidden_size)\n",
        "        self.out = nn.Linear(hidden_size, output_size)\n",
        "        self.softmax = nn.LogSoftmax(dim=1)\n",
        "\n",
        "    def forward(self, input, hidden):\n",
        "        output = self.embedding(input).view(1, 1, -1)\n",
        "        output = F.relu(output)\n",
        "        output, hidden = self.gru(output, hidden)\n",
        "        output = self.softmax(self.out(output[0]))\n",
        "        return output, hidden\n",
        "\n",
        "    def initHidden(self):\n",
        "        return torch.zeros(1, 1, self.hidden_size, device=device)"
      ],
      "execution_count": 17,
      "outputs": []
    },
    {
      "cell_type": "code",
      "metadata": {
        "id": "sBWy1w1jRanT"
      },
      "source": [
        "class AttnDecoderRNN(nn.Module):\n",
        "    def __init__(self, hidden_size, output_size, dropout_p=0.1, max_length=MAX_LENGTH):\n",
        "        super(AttnDecoderRNN, self).__init__()\n",
        "        self.hidden_size = hidden_size\n",
        "        self.output_size = output_size\n",
        "        self.dropout_p = dropout_p\n",
        "        self.max_length = max_length\n",
        "\n",
        "        self.embedding = nn.Embedding(self.output_size, self.hidden_size)\n",
        "        self.attn = nn.Linear(self.hidden_size * 2, self.max_length)\n",
        "        self.attn_combine = nn.Linear(self.hidden_size * 2, self.hidden_size)\n",
        "        self.dropout = nn.Dropout(self.dropout_p)\n",
        "        self.gru = nn.GRU(self.hidden_size, self.hidden_size)\n",
        "        self.out = nn.Linear(self.hidden_size, self.output_size)\n",
        "\n",
        "    def forward(self, input, hidden, encoder_outputs):\n",
        "        embedded = self.embedding(input).view(1, 1, -1)\n",
        "        embedded = self.dropout(embedded)\n",
        "\n",
        "        attn_weights = F.softmax(\n",
        "            self.attn(torch.cat((embedded[0], hidden[0]), 1)), dim=1)\n",
        "        attn_applied = torch.bmm(attn_weights.unsqueeze(0),\n",
        "                                 encoder_outputs.unsqueeze(0))\n",
        "\n",
        "        output = torch.cat((embedded[0], attn_applied[0]), 1)\n",
        "        output = self.attn_combine(output).unsqueeze(0)\n",
        "\n",
        "        output = F.relu(output)\n",
        "        output, hidden = self.gru(output, hidden)\n",
        "\n",
        "        output = F.log_softmax(self.out(output[0]), dim=1)\n",
        "        return output, hidden, attn_weights\n",
        "\n",
        "    def initHidden(self):\n",
        "        return torch.zeros(1, 1, self.hidden_size, device=device)"
      ],
      "execution_count": 18,
      "outputs": []
    },
    {
      "cell_type": "code",
      "metadata": {
        "id": "1sLOhwfQRgFN"
      },
      "source": [
        "def indexesFromSentence(lang, sentence):\n",
        "    return [lang.word2index[word] for word in sentence.split(' ')]\n",
        "\n",
        "\n",
        "def tensorFromSentence(lang, sentence):\n",
        "    indexes = indexesFromSentence(lang, sentence)\n",
        "    indexes.append(EOS_token)\n",
        "    return torch.tensor(indexes, dtype=torch.long, device=device).view(-1, 1)\n",
        "\n",
        "\n",
        "def tensorsFromPair(pair):\n",
        "    input_tensor = tensorFromSentence(input_lang, pair[0])\n",
        "    target_tensor = tensorFromSentence(output_lang, pair[1])\n",
        "    return (input_tensor, target_tensor)"
      ],
      "execution_count": 19,
      "outputs": []
    },
    {
      "cell_type": "code",
      "metadata": {
        "id": "EcXr_yURRi4M"
      },
      "source": [
        "teacher_forcing_ratio = 0.5\n",
        "\n",
        "\n",
        "def train(input_tensor, target_tensor, encoder, decoder, encoder_optimizer, decoder_optimizer, criterion, max_length=MAX_LENGTH):\n",
        "    encoder_hidden = encoder.initHidden()\n",
        "\n",
        "    encoder_optimizer.zero_grad()\n",
        "    decoder_optimizer.zero_grad()\n",
        "\n",
        "    input_length = input_tensor.size(0)\n",
        "    target_length = target_tensor.size(0)\n",
        "\n",
        "    encoder_outputs = torch.zeros(max_length, encoder.hidden_size, device=device)\n",
        "\n",
        "    loss = 0\n",
        "\n",
        "    for ei in range(input_length):\n",
        "        encoder_output, encoder_hidden = encoder(\n",
        "            input_tensor[ei], encoder_hidden)\n",
        "        encoder_outputs[ei] = encoder_output[0, 0]\n",
        "\n",
        "    decoder_input = torch.tensor([[SOS_token]], device=device)\n",
        "\n",
        "    decoder_hidden = encoder_hidden\n",
        "\n",
        "    use_teacher_forcing = True if random.random() < teacher_forcing_ratio else False\n",
        "\n",
        "    if use_teacher_forcing:\n",
        "        # Teacher forcing: Feed the target as the next input\n",
        "        for di in range(target_length):\n",
        "            decoder_output, decoder_hidden, decoder_attention = decoder(\n",
        "                decoder_input, decoder_hidden, encoder_outputs)\n",
        "            loss += criterion(decoder_output, target_tensor[di])\n",
        "            decoder_input = target_tensor[di]  # Teacher forcing\n",
        "\n",
        "    else:\n",
        "        # Without teacher forcing: use its own predictions as the next input\n",
        "        for di in range(target_length):\n",
        "            decoder_output, decoder_hidden, decoder_attention = decoder(\n",
        "                decoder_input, decoder_hidden, encoder_outputs)\n",
        "            topv, topi = decoder_output.topk(1)\n",
        "            decoder_input = topi.squeeze().detach()  # detach from history as input\n",
        "\n",
        "            loss += criterion(decoder_output, target_tensor[di])\n",
        "            if decoder_input.item() == EOS_token:\n",
        "                break\n",
        "\n",
        "    loss.backward()\n",
        "\n",
        "    encoder_optimizer.step()\n",
        "    decoder_optimizer.step()\n",
        "\n",
        "    return loss.item() / target_length"
      ],
      "execution_count": 20,
      "outputs": []
    },
    {
      "cell_type": "code",
      "metadata": {
        "id": "vYPM6PdqRmXE"
      },
      "source": [
        "import time\n",
        "import math\n",
        "\n",
        "\n",
        "def asMinutes(s):\n",
        "    m = math.floor(s / 60)\n",
        "    s -= m * 60\n",
        "    return '%dm %ds' % (m, s)\n",
        "\n",
        "\n",
        "def timeSince(since, percent):\n",
        "    now = time.time()\n",
        "    s = now - since\n",
        "    es = s / (percent)\n",
        "    rs = es - s\n",
        "    return '%s (- %s)' % (asMinutes(s), asMinutes(rs))"
      ],
      "execution_count": 21,
      "outputs": []
    },
    {
      "cell_type": "code",
      "metadata": {
        "id": "FnBEcXvlRqWr"
      },
      "source": [
        "def trainIters(encoder, decoder, n_iters, print_every=1000, plot_every=100, learning_rate=0.01):\n",
        "    start = time.time()\n",
        "    plot_losses = []\n",
        "    print_loss_total = 0  # Reset every print_every\n",
        "    plot_loss_total = 0  # Reset every plot_every\n",
        "\n",
        "    encoder_optimizer = optim.SGD(encoder.parameters(), lr=learning_rate)\n",
        "    decoder_optimizer = optim.SGD(decoder.parameters(), lr=learning_rate)\n",
        "    training_pairs = [tensorsFromPair(random.choice(pairs))\n",
        "                      for i in range(n_iters)]\n",
        "    criterion = nn.NLLLoss()\n",
        "\n",
        "    for iter in range(1, n_iters + 1):\n",
        "        training_pair = training_pairs[iter - 1]\n",
        "        input_tensor = training_pair[0]\n",
        "        target_tensor = training_pair[1]\n",
        "\n",
        "        loss = train(input_tensor, target_tensor, encoder,\n",
        "                     decoder, encoder_optimizer, decoder_optimizer, criterion)\n",
        "        print_loss_total += loss\n",
        "        plot_loss_total += loss\n",
        "\n",
        "        if iter % print_every == 0:\n",
        "            print_loss_avg = print_loss_total / print_every\n",
        "            print_loss_total = 0\n",
        "            print('%s (%d %d%%) %.4f' % (timeSince(start, iter / n_iters),\n",
        "                                         iter, iter / n_iters * 100, print_loss_avg))\n",
        "\n",
        "        if iter % plot_every == 0:\n",
        "            plot_loss_avg = plot_loss_total / plot_every\n",
        "            plot_losses.append(plot_loss_avg)\n",
        "            plot_loss_total = 0\n",
        "\n",
        "    showPlot(plot_losses)"
      ],
      "execution_count": 22,
      "outputs": []
    },
    {
      "cell_type": "code",
      "metadata": {
        "id": "IBJX-nXpRrMe"
      },
      "source": [
        "import matplotlib.pyplot as plt\n",
        "plt.switch_backend('agg')\n",
        "import matplotlib.ticker as ticker\n",
        "import numpy as np\n",
        "\n",
        "\n",
        "def showPlot(points):\n",
        "    plt.figure()\n",
        "    fig, ax = plt.subplots()\n",
        "     #this locator puts ticks at regular intervals\n",
        "    loc = ticker.MultipleLocator(base=0.2)\n",
        "    ax.yaxis.set_major_locator(loc)\n",
        "    plt.plot(points)"
      ],
      "execution_count": 23,
      "outputs": []
    },
    {
      "cell_type": "code",
      "metadata": {
        "id": "rdbKJWLdRuXG"
      },
      "source": [
        "def evaluate(encoder, decoder, sentence, max_length=MAX_LENGTH):\n",
        "    with torch.no_grad():\n",
        "        input_tensor = tensorFromSentence(input_lang, sentence)\n",
        "        input_length = input_tensor.size()[0]\n",
        "        encoder_hidden = encoder.initHidden()\n",
        "\n",
        "        encoder_outputs = torch.zeros(max_length, encoder.hidden_size, device=device)\n",
        "\n",
        "        for ei in range(input_length):\n",
        "            encoder_output, encoder_hidden = encoder(input_tensor[ei],\n",
        "                                                     encoder_hidden)\n",
        "            encoder_outputs[ei] += encoder_output[0, 0]\n",
        "\n",
        "        decoder_input = torch.tensor([[SOS_token]], device=device)  # SOS\n",
        "\n",
        "        decoder_hidden = encoder_hidden\n",
        "\n",
        "        decoded_words = []\n",
        "        decoder_attentions = torch.zeros(max_length, max_length)\n",
        "\n",
        "        for di in range(max_length):\n",
        "            decoder_output, decoder_hidden, decoder_attention = decoder(\n",
        "                decoder_input, decoder_hidden, encoder_outputs)\n",
        "            decoder_attentions[di] = decoder_attention.data\n",
        "            topv, topi = decoder_output.data.topk(1)\n",
        "            if topi.item() == EOS_token:\n",
        "                decoded_words.append('<EOS>')\n",
        "                break\n",
        "            else:\n",
        "                decoded_words.append(output_lang.index2word[topi.item()])\n",
        "\n",
        "            decoder_input = topi.squeeze().detach()\n",
        "\n",
        "        return decoded_words, decoder_attentions[:di + 1]"
      ],
      "execution_count": 24,
      "outputs": []
    },
    {
      "cell_type": "code",
      "metadata": {
        "id": "1QwqLB53RwNi"
      },
      "source": [
        "def evaluateRandomly(encoder, decoder, n=10):\n",
        "    print(pairs)\n",
        "    for i in range(n):\n",
        "        pair = random.choice(pairs)\n",
        "        print('>', pair[0])\n",
        "        print('=', pair[1])\n",
        "        output_words, attentions = evaluate(encoder, decoder, pair[0])\n",
        "        output_sentence = ' '.join(output_words)\n",
        "        print('<', output_sentence)\n",
        "        print('')"
      ],
      "execution_count": 25,
      "outputs": []
    },
    {
      "cell_type": "code",
      "metadata": {
        "id": "m3DLKrYARyRt",
        "colab": {
          "base_uri": "https://localhost:8080/",
          "height": 350
        },
        "outputId": "5adf97cf-abb1-4d6d-d574-fa41c2e0d118"
      },
      "source": [
        "hidden_size = 256\n",
        "encoder1 = EncoderRNN(input_lang.n_words, hidden_size).to(device)\n",
        "attn_decoder1 = AttnDecoderRNN(hidden_size, output_lang.n_words, dropout_p=0.1).to(device)\n",
        "\n",
        "trainIters(encoder1, attn_decoder1, 50000, print_every=5000)"
      ],
      "execution_count": 26,
      "outputs": [
        {
          "output_type": "error",
          "ename": "KeyboardInterrupt",
          "evalue": "ignored",
          "traceback": [
            "\u001b[0;31m---------------------------------------------------------------------------\u001b[0m",
            "\u001b[0;31mKeyboardInterrupt\u001b[0m                         Traceback (most recent call last)",
            "\u001b[0;32m<ipython-input-26-7a4fc32a669e>\u001b[0m in \u001b[0;36m<module>\u001b[0;34m\u001b[0m\n\u001b[1;32m      3\u001b[0m \u001b[0mattn_decoder1\u001b[0m \u001b[0;34m=\u001b[0m \u001b[0mAttnDecoderRNN\u001b[0m\u001b[0;34m(\u001b[0m\u001b[0mhidden_size\u001b[0m\u001b[0;34m,\u001b[0m \u001b[0moutput_lang\u001b[0m\u001b[0;34m.\u001b[0m\u001b[0mn_words\u001b[0m\u001b[0;34m,\u001b[0m \u001b[0mdropout_p\u001b[0m\u001b[0;34m=\u001b[0m\u001b[0;36m0.1\u001b[0m\u001b[0;34m)\u001b[0m\u001b[0;34m.\u001b[0m\u001b[0mto\u001b[0m\u001b[0;34m(\u001b[0m\u001b[0mdevice\u001b[0m\u001b[0;34m)\u001b[0m\u001b[0;34m\u001b[0m\u001b[0;34m\u001b[0m\u001b[0m\n\u001b[1;32m      4\u001b[0m \u001b[0;34m\u001b[0m\u001b[0m\n\u001b[0;32m----> 5\u001b[0;31m \u001b[0mtrainIters\u001b[0m\u001b[0;34m(\u001b[0m\u001b[0mencoder1\u001b[0m\u001b[0;34m,\u001b[0m \u001b[0mattn_decoder1\u001b[0m\u001b[0;34m,\u001b[0m \u001b[0;36m50000\u001b[0m\u001b[0;34m,\u001b[0m \u001b[0mprint_every\u001b[0m\u001b[0;34m=\u001b[0m\u001b[0;36m5000\u001b[0m\u001b[0;34m)\u001b[0m\u001b[0;34m\u001b[0m\u001b[0;34m\u001b[0m\u001b[0m\n\u001b[0m",
            "\u001b[0;32m<ipython-input-22-29eaa6fdc28a>\u001b[0m in \u001b[0;36mtrainIters\u001b[0;34m(encoder, decoder, n_iters, print_every, plot_every, learning_rate)\u001b[0m\n\u001b[1;32m     17\u001b[0m \u001b[0;34m\u001b[0m\u001b[0m\n\u001b[1;32m     18\u001b[0m         loss = train(input_tensor, target_tensor, encoder,\n\u001b[0;32m---> 19\u001b[0;31m                      decoder, encoder_optimizer, decoder_optimizer, criterion)\n\u001b[0m\u001b[1;32m     20\u001b[0m         \u001b[0mprint_loss_total\u001b[0m \u001b[0;34m+=\u001b[0m \u001b[0mloss\u001b[0m\u001b[0;34m\u001b[0m\u001b[0;34m\u001b[0m\u001b[0m\n\u001b[1;32m     21\u001b[0m         \u001b[0mplot_loss_total\u001b[0m \u001b[0;34m+=\u001b[0m \u001b[0mloss\u001b[0m\u001b[0;34m\u001b[0m\u001b[0;34m\u001b[0m\u001b[0m\n",
            "\u001b[0;32m<ipython-input-20-77785d753587>\u001b[0m in \u001b[0;36mtrain\u001b[0;34m(input_tensor, target_tensor, encoder, decoder, encoder_optimizer, decoder_optimizer, criterion, max_length)\u001b[0m\n\u001b[1;32m     46\u001b[0m                 \u001b[0;32mbreak\u001b[0m\u001b[0;34m\u001b[0m\u001b[0;34m\u001b[0m\u001b[0m\n\u001b[1;32m     47\u001b[0m \u001b[0;34m\u001b[0m\u001b[0m\n\u001b[0;32m---> 48\u001b[0;31m     \u001b[0mloss\u001b[0m\u001b[0;34m.\u001b[0m\u001b[0mbackward\u001b[0m\u001b[0;34m(\u001b[0m\u001b[0;34m)\u001b[0m\u001b[0;34m\u001b[0m\u001b[0;34m\u001b[0m\u001b[0m\n\u001b[0m\u001b[1;32m     49\u001b[0m \u001b[0;34m\u001b[0m\u001b[0m\n\u001b[1;32m     50\u001b[0m     \u001b[0mencoder_optimizer\u001b[0m\u001b[0;34m.\u001b[0m\u001b[0mstep\u001b[0m\u001b[0;34m(\u001b[0m\u001b[0;34m)\u001b[0m\u001b[0;34m\u001b[0m\u001b[0;34m\u001b[0m\u001b[0m\n",
            "\u001b[0;32m/usr/local/lib/python3.7/dist-packages/torch/_tensor.py\u001b[0m in \u001b[0;36mbackward\u001b[0;34m(self, gradient, retain_graph, create_graph, inputs)\u001b[0m\n\u001b[1;32m    394\u001b[0m                 \u001b[0mcreate_graph\u001b[0m\u001b[0;34m=\u001b[0m\u001b[0mcreate_graph\u001b[0m\u001b[0;34m,\u001b[0m\u001b[0;34m\u001b[0m\u001b[0;34m\u001b[0m\u001b[0m\n\u001b[1;32m    395\u001b[0m                 inputs=inputs)\n\u001b[0;32m--> 396\u001b[0;31m         \u001b[0mtorch\u001b[0m\u001b[0;34m.\u001b[0m\u001b[0mautograd\u001b[0m\u001b[0;34m.\u001b[0m\u001b[0mbackward\u001b[0m\u001b[0;34m(\u001b[0m\u001b[0mself\u001b[0m\u001b[0;34m,\u001b[0m \u001b[0mgradient\u001b[0m\u001b[0;34m,\u001b[0m \u001b[0mretain_graph\u001b[0m\u001b[0;34m,\u001b[0m \u001b[0mcreate_graph\u001b[0m\u001b[0;34m,\u001b[0m \u001b[0minputs\u001b[0m\u001b[0;34m=\u001b[0m\u001b[0minputs\u001b[0m\u001b[0;34m)\u001b[0m\u001b[0;34m\u001b[0m\u001b[0;34m\u001b[0m\u001b[0m\n\u001b[0m\u001b[1;32m    397\u001b[0m \u001b[0;34m\u001b[0m\u001b[0m\n\u001b[1;32m    398\u001b[0m     \u001b[0;32mdef\u001b[0m \u001b[0mregister_hook\u001b[0m\u001b[0;34m(\u001b[0m\u001b[0mself\u001b[0m\u001b[0;34m,\u001b[0m \u001b[0mhook\u001b[0m\u001b[0;34m)\u001b[0m\u001b[0;34m:\u001b[0m\u001b[0;34m\u001b[0m\u001b[0;34m\u001b[0m\u001b[0m\n",
            "\u001b[0;32m/usr/local/lib/python3.7/dist-packages/torch/autograd/__init__.py\u001b[0m in \u001b[0;36mbackward\u001b[0;34m(tensors, grad_tensors, retain_graph, create_graph, grad_variables, inputs)\u001b[0m\n\u001b[1;32m    173\u001b[0m     Variable._execution_engine.run_backward(  # Calls into the C++ engine to run the backward pass\n\u001b[1;32m    174\u001b[0m         \u001b[0mtensors\u001b[0m\u001b[0;34m,\u001b[0m \u001b[0mgrad_tensors_\u001b[0m\u001b[0;34m,\u001b[0m \u001b[0mretain_graph\u001b[0m\u001b[0;34m,\u001b[0m \u001b[0mcreate_graph\u001b[0m\u001b[0;34m,\u001b[0m \u001b[0minputs\u001b[0m\u001b[0;34m,\u001b[0m\u001b[0;34m\u001b[0m\u001b[0;34m\u001b[0m\u001b[0m\n\u001b[0;32m--> 175\u001b[0;31m         allow_unreachable=True, accumulate_grad=True)  # Calls into the C++ engine to run the backward pass\n\u001b[0m\u001b[1;32m    176\u001b[0m \u001b[0;34m\u001b[0m\u001b[0m\n\u001b[1;32m    177\u001b[0m def grad(\n",
            "\u001b[0;31mKeyboardInterrupt\u001b[0m: "
          ]
        }
      ]
    },
    {
      "cell_type": "code",
      "metadata": {
        "id": "PMTbpLyGR1Gn",
        "colab": {
          "base_uri": "https://localhost:8080/"
        },
        "outputId": "c2e5eb17-dd37-49d0-b83c-66815a66445d"
      },
      "source": [
        "evaluateRandomly(encoder1, attn_decoder1)"
      ],
      "execution_count": 27,
      "outputs": [
        {
          "output_type": "stream",
          "name": "stdout",
          "text": [
            "[['\\ufeff ―― バル ？  ', '\\ufeff ―― っ ！  '], [' … … って いろ  ', ' 俺 が 、 必ず ――  '], [' ホント に ？  ', ' 本当に ！  '], [' ううん  ', ' で もっ  '], [' 勉強 に なっ た ねぇ  ', ' それにしても  '], [' お粗末さま でし た  ', ' パック  '], [' ん ？  ', ' なん だ 、 これ  '], [' … … あ ？  ', ' ひ  '], [' ―― っ ！  ', ' … … って いろ  '], [' 飲む か ？  ', ' 悪い  '], [' 魔法 器 ？  ', ' うむ  '], [' 大 ネズミ に  ', ' 毒  '], [' スケルトン に  ', ' 落とし穴  '], [' 我ら が 貴き ドラゴン 様 に  ', ' クソ っ たれ  '], [' う うむ  ', ' さあ ――  '], [' ＮＡＴＵＫＩ フラッシュ ！ ！  ', ' うわ 、 まぶし っ ！  '], [' くるん じゃ ね ？  ', ' 符丁 は ？  '], [' ―― 食らえ い ！  ', ' ―― ロム 爺 ！  '], [' え … … ？  ', ' ま ――  '], [' あなた … …  ', ' どういう つもり ―― ？  '], [' まさか ―― ！  ', ' フェルト ！ ？  '], [' あれ ―― ？  ', ' なん 、 で ？  '], [' うーん ！  ', ' ちゃーん ちゃ ー ちゃち ゃっちゃっちゃっちゃ ！  '], [' 逃げる  ', ' やっぱ 、 失敗 か … …  '], [' う ー ！  ', ' なあ 、 おっちゃん  '], [' ひ  ', ' わ ひ ゃ  '], [' い て ー っ つ の  ', ' 痛い ！  '], [' フェルト … …  ', ' ―― 誰 だ  '], [' ―― パック ！ 防げ ！ ！  ', ' パック … … っ  '], [' 押さ れ 始め た の  ', ' 行く ぞ ―― ッ ！  '], [' さ せっか ー っ ！  ', ' 悪い 子  '], [' ―― ―― ッ ！ ！  ', ' 行か せる と 思う ？  '], [' ノー カウント だ … …  ', ' ―― え ？  '], [' ひ ょえっ  ', ' ふ わっ  '], [' わかっ た 。 助ける よ  ', ' … … ラインハルト 、 か ？  '], [' ほ ぅ  ', ' お願い  '], [' ―― ―― ッ ！ ！  ', ' てめぇ ―― ッ ！  '], [' ふ ふっ  ', ' ―― エミ リア  '], [' ―― よし 、 これ で 大丈夫  ', ' うん  '], [' さて … …  ', ' もう お 嫁 に いけ ない  '], [' さて  ', ' あ 、 それ って  '], [' 使っ て 、 お客様  ', ' どうも  '], [' 冗談 で も ビックリ する  ', ' ヤバ い  '], [' これ と 同一 視 か よ  ', ' うーん  '], [' ―― えい  ', ' ―― ―― え ？  '], [' 十 四 歳 から です  ', ' 十 四 歳 から だ わ  '], [' マジ で ？  ', ' まじ と は ？  '], [' ひっ  ', ' あぶ ねぇ 、 助かっ た ぜ  '], [' あるいは 典型 的 な Ｍ  ', ' えむ ？  '], [' め っ  ', ' あ  '], ['  砕身  ', ' それ し て な  '], [' モフ っ ！ ？  ', ' すごい ね 、 スバル  '], [' なっ  ', ' あ 、 あー  '], [' はい はい  ', ' ほ へぇ  '], [' ぐはっ  ', ' どう し た の ！ ？  '], [' ああ 、 やっぱ 綺麗 だ  ', ' ―― スバル ！  '], [' がぶり  ', ' 躊躇 ない なぁ ！  '], [' そんな もん です か ねぇ  ', ' そんな もん です と もぉ  '], [' ベアトリス だ よ  ', ' もっと がっかり だ よ ！ ！  '], [' ―― う ？  ', ' なに 、 が … …  '], [' ―― あ ？  ', ' あ ぁぁぁああぁぁぁぁぁぁぁぁぁぁぁ ――  '], [' う にゃ ！  ', ' ぷっ  '], [' 仕方 ない こと だ わ  ', ' ―― あ ？  '], [' ―― ―― ッ ！  ', ' ―― ―― うう ぁ ！  '], [' ―― っ ら ぁ ！  ', ' ―― ―― ッ ！  '], [' ―― ―― ！ ！  ', ' ―― ―― ！  '], [' ―― ――  ', ' ―― スバル ？  '], [' じゃ 、 はい 、 あー ん  ', ' ―― へ ？  '], [' ごちそうさま でし た  ', ' はい 、 お粗末さま でし た  '], [' なあ 、 いったい なに が ――  ', ' ロズワール と … …  '], [' 中 を  ', ' ぁぁああぁああああぁぁぁぁあああぁぁあ ―― ッ ！  '], [' … … スバル  ', ' スバル  '], [' ごめん ――  ', ' スバル ―― ！  '], [' お 、 前 は … …  ', ' おいおい … …  '], [' あれ … … ？  ', ' ―― え ？  '], [' これ じゃ まるで … …  ', ' お ぁ … … ？  '], [' う ご ぁっ ――  ', ' ヤバ い … … ッ  '], [' い て ぇいてぇいてぇいてぇいてぇ ―― ッ  ', ' あ が ぁ ―― っ  '], [' ―― 痛 ぇ  ', ' ―― ―― ッ ！ ！  '], [' おおお おお ああ あ ああ ――  ', ' ―― 嘘 だろ  '], [' どうして … …  ', ' なん な の かしら  '], [' べ あ … …  ', ' 黙る の よ  '], [' ―― ラム  ', ' ご う ぉ ！  '], [' ―― ―― ッ ！  ', ' 待っ て ―― ！  '], [' え  ', ' あ  '], [' よし  ', ' スバル 、 き なさい  '], [' … … へ ？  ', ' いい から  '], [' … … うん  ', ' 特別 、 だから ね  '], [' わかっ てる  ', ' し ー  '], [' ベア … …  ', ' 食らう かしら  '], [' な ―― っ ！ ？  ', ' はなっ … … 下ろす かしら ！  '], [' 魔女 の 、 残り香 … …  ', ' なに かしら  '], [' それ 、 いただき  ', ' ？  '], [' いや  ', ' オレノゾクセイハキット 『 火 』 ダヨ ？  '], [' どうして 急 に 片言 ？  ', ' じゃ 、 失礼  '], [' なに を  ', ' 二 人 とも ！ ？  '], [' ―― ル  ', ' スバル ――  '], [' て へ  ', ' 可愛く ねぇ よ ！ ？  '], [' ―― ？  ', ' ハッ  '], [' お腹 痛い の ー ？  ', ' お腹 減っ た の ー ？  '], [' スバ ルー 、 悪い 顔 ―  ', ' 恐い 顔 ー  '], [' どっ た の ー  ', ' ボケ た の ー ？  '], [' ラム ち ー 、 冷たい  ', ' ラム ち ー 、 ひどい  '], [' レム りん ？  ', ' レム りん  '], [' 笑い ながら ー  ', ' そんなに 嬉しい か ー  '], [' 絶対 驚く って  ', ' 絶対 喜ぶ って  '], [' やっぱり こう なる か … …  ', ' いつも は 大人しい のに ー  '], [' あー あー  ', ' あー あー  '], [' 危険 すぎる 民間 療法 ！ ？  ', ' バルス 、 こ ない の ？  '], [' 七 回  ', ' は ？  '], [' はい はい 、 ご苦労さま  ', ' はい はい 、 お疲れさま  '], [' 来客 です か ？  ', ' 外出 です か ？  '], [' ―― は ？  ', ' 黒い 、 靄 … … ？  '], [' なあ 、 ベア 子  ', ' その 呼び 方 は … …  '], [' 姉 様 ―― ！ ？  ', ' ただし  '], [' 仕方 、 ない です ね  ', ' レム ？  '], [' 護身 用 です  ', ' いや でも それ は  '], [' ―― スバル ？  ', ' スバル 、 スバ … …  '], [' なに を 根拠 に … …  ', ' 根拠 なら ある とも  '], [' ―― ッ ！  ', ' しかも あいつ … …  '], [' とにかく 、 ゆっくり と … …  ', ' ―― ――  '], [' ―― う  ', ' おい 、 やめろ … …  '], [' し まい だ ぁ ！ ！  ', ' 勝 … … っ た か  '], [' おいおい 、 嘘 だろ … …  ', ' ―― 死ん だ な 、 これ  '], [' あ  ', ' お  '], [' ―― ―― しっ ！  ', ' つ 、 強 ぇぇぇぇええええ ！ ！  '], [' そこ ！  ', ' 今 ―― ！  '], [' おお おお おお ―― ！ ！  ', ' おご あ ああ ！ ？  '], [' ―― 必ず 、 助け ます  ', ' ぉぉう 、 いっ て … …  '], [' 光年 は 距離 だ よ  ', ' それ ぐらい 違う 星 の センス  '], [' そ ふ ほ ず ！  ', ' は ふ ！ は ふ ！  '], [' 役立た ず  ', ' う ぐぅ  '], [' 言 いやがる ぜ 、 この 姉  ', ' ラム 、 俺 は 実は ――  '], [' ―― き た か  ', ' 肩 まで … …  '], [' ―― バルス ？  ', ' 危 ね 危 ね 、 白昼夢  '], [' ラム ！  ', ' やっ てる わ  '], [' この 、 寒気 は ――  ', ' … … 万事休す か  '], [' ―― 角 よ  ', ' 目 、 覚め た の か  '], [' ―― は ？  ', ' ―― あふ  '], [' はい  ', ' ちょ ー ぱん  '], [' ―― お 姉ちゃん っ ！ ！  ', ' ―― ッ ！ ！  '], [' ふ ぁい ？  ', ' ―― ッ ！  '], [' ―― スバル くん ！ ！  ', ' ―― シャマク ！ ！  '], [' ―― あ ？  ', ' て 、 め ぇ … …  '], [' クソ っ たれ  ', ' お前 が くたばれ ―― ！  '], [' うう ぉああ ！ ？  ', ' いったい 、 なに が … …  '], [' スバル くん が … …  ', ' うん ？  '], [' ―― ええ 、 そうですね  ', ' い やん  '], [' なぁ 、 レム  ', ' オチ は ？  '], [' ―― え ？  ', ' 重い よー  '], [' はい 、 お 任せ ください  ', ' そういう の は いい から  '], [' ソルテ です ね  ', ' あと は 胡椒 ？  '], [' ううん  ', ' ―― 酸味  '], [' ええ 、 ボク ？  ', ' パック 、 お願い  '], [' ―― わから ん ！  ', ' やっぱり … …  '], [' まったく  ', ' 私 だって 、 そう だ から  '], [' お 察し し ます  ', ' ありがとう  '], [' 目 が  ', ' ―― 目 ？  '], [' ふーん 、 よく わかん ない  ', ' でも  '], [' … … そうね  ', ' なー ん ー だ ー よー  '], [' フーラ  ', ' うわ ぉう ！ ？  '], [' 肝 に 銘じ や ー す  ', ' よろしい  '], [' あら 、 本当に な の ？  ', ' ハッ  '], [' でも  ', ' そう じゃ ない なら どうして ？  '], [' 据え膳 ！  ', ' そんな こと より … …  '], [' 無事 、 到着 っと  ', ' ここ ？  '], [' でんわ ？  ', ' 可愛い ー ！  '], [' つい た わ  ', ' おっ と  '], [' スバル は 待っ て て  ', ' ほえ ？  '], [' ―― お ？  ', ' 妾 に 触れる で ない  '], [' 賭け 、 で どう じゃ ？  ', ' ―― 賭け ？  '], [' 返答 や いかに  ', ' こいつ は かなり の アホ だ  '], [' あの  ', ' ―― ん ぁ ？  '], [' だ 、 大丈夫 です か ？  ', ' き ゃっ  '], [' ―― 飽き た  ', ' 飽き … … はぁ ！ ？  '], [' 仕方 の ない 奴 め  ', ' ―― アクラ  '], [' さ 、 立て 立て  ', ' 痛い 痛い 泣い ちゃう  '], [' 妾 、 退屈  ', ' この 流れ で わがまま 言わ ない  '], [' ―― やっと 見つけ た  ', ' あ 、 エミリ … …  '], [' レム  ', ' はい  '], [' う わぁ 、 すげ ぇ  ', ' ―― スバル  '], [' うん 。 ―― 信じ てる  ', ' ちょっと お 花 を 摘み に  '], [' エミ リア を 、 助け よう  ', ' つまり そう 、 ラブ パワー  '], [' ―― ま  ', ' ま ？  '], [' 後々 の 、 ため の ？  ', ' ああ  '], [' ―― ――  ', ' つまら ん 奴 じゃ な  '], [' 鬼 が 笑う … … ！  ', ' 笑う 門 に は  '], [' ―― 同郷 か ？ アル  ', ' たぶん 、 な  '], [' ちょ … … っ  ', ' ―― リンガ 係 です か  '], [' お うふ  ', ' え ？  '], [' どうして … …  ', ' ん ？  '], [' 五 人 … … ？  ', ' そう 、 五 人 だ  '], [' はっ ！  ', ' では 、 ラインハルト 、 報告 を  '], [' 静か に  ', ' 騎士 ラインハルト  '], [' ならば なんと ？  ', ' ―― 運命 で ある 、 と  '], [' ―― 姫 さん 、 そいつ は  ', ' 堪忍 し て や ー  '], [' 同じく  ', ' 同じく 賛同 し ましょ う  '], [' ―― 待て  ', ' なん だい  '], [' ―― 落ち着き まし た か な  ', ' す 、 すんません  '], [' 出番 だ ね  ', ' おおきに  '], [' … … 公平  ', ' そう  '], [' ええ ！  ', ' おお ！  '], [' おか ん か ！  ', ' やらかし た ―― ！ ！  '], [' ぁぅ  ', ' うえ あ  '], [' ロズワール ！  ', ' ＭＯＴＴＯＭＯＴＴＯ ！  '], [' そう そう そう でしょ う  ', ' ロズワール ！  '], [' ―― あ ？  ', ' おい 、 おい … …  '], [' まさか 、 俺 を … …  ', ' ロム … …  '], [' ―― ――  ', ' 黙っ て いろ  '], [' ―― ―― っ  ', ' ―― スバル 殿 ？  '], [' ―― 口 を 慎め ！  ', ' ぐぅっ ！  '], [' もう いい じゃろ  ', ' 失礼 し ます  '], [' 御意 に  ', ' 失礼 ながら  '], [' あー  ', ' う ー  '], [' ―― ―― ！ ！  ', ' ―― ―― っ ！  '], [' ―― あ  ', ' やれやれ だ ぜ  '], [' ここ に  ', ' やれ  '], [' … … あ 、 ああ  ', ' ―― ――  '], [' ―― ――  ', ' ―― ふっ ！  '], [' … … 団長  ', ' やむを得 ん 。 指示 に 従え  '], [' … … へぇ  ', ' … … え ？  '], [' 美しく ない な  ', ' もう 認め た まえよ  '], [' ラインハルト  ', ' ―― そこ 、 どけ  '], [' ―― ―― ！  ', ' ―― はっ ！  '], [' なん の つもり だ  ', ' なん の つもり 、 ね  '], [' ―― ―― ！ ！  ', ' ―― ―― ル ！  '], [' ―― ―― バル ！  ', ' ―― ―― スバル ！ ！  '], [' ―― ――  ', ' ―― スバル  '], [' ねえ 、 スバル 、 答え て  ', ' ―― ――  '], [' だから 、 待て って  ', ' エミ リア … …  '], [' ふ ぁんぶる ―― っ ！ ？  ', ' まじ ょりかっ ！  '], [' ヴィルヘルム  ', ' は  '], [' いつ でも  ', ' ―― ―― ッ ！  '], [' 弱 ぇな  ', ' そう です ね  '], [' … … ち  ', ' だが よ  '], [' フェリックス 様 ――  ', ' う げっ  '], [' ん ー  ', ' レム ちゃん  '], [' いつ でも 、 どこ から でも  ', ' 無駄 が 多い  '], [' う が  ', ' ふらん けん っ ！  '], [' う … …  ', ' よい です か な ？  '], [' だけ て  ', ' せい  '], [' え ？  ', ' スバル くん 。 ―― お話 が  '], [' スバル くん ？  ', ' あ 、 ああ 、 悪い  '], [' お客様 、 大丈夫 です か ？  ', ' 大丈夫 だ  '], [' 条件 ？  ', ' ええ  '], [' 静か すぎる 、 だろ  ', ' な … … あ ！ ？  '], [' ―― レム  ', ' レム 、 は … …  '], [' ―― ？  ', ' こんな 、 仕掛け が … …  '], [' ―― ぁがぅぁ ！  ', ' ―― は ？  '], [' ―― スバル くん ？  ', ' ―― ――  '], [' ―― おい ？  ', ' スバル くん ？  '], [' 息災 で  ', ' 頑張っ て ねー  '], [' スバル くん 、 こちら へ  ', ' … … ぅ 、 あ ？  '], [' スバル くん 、 もっと こっち に  ', ' … … ん 、 うぅ  '], [' あまりに 静か すぎる … …  ', ' ―― 姉 様 ？  '], [' ―― ぼ  ', ' ―― ――  '], [' ―― し ぃっ ！  ', ' る ぁぁぁぁ ！  '], [' ―― る ぁ ！ ！  ', ' しま ―― ッ  '], [' ヒューマ ！ ！  ', ' ―― ―― ！ ！  '], [' ―― う ぁぅ ！  ', ' ―― ――  '], [' ―― ―― ！ ！  ', ' ―― エルヒューマ ！  '], [' が ぅるるるぅ ！  ', ' ―― ―― ッ ！ ！ ！  '], [' うぅ 、 あ ぅ … …  ', ' ―― スバル くん ！ ？  '], [' ―― ――  ', ' ―― ――  '], [' ―― ――  ', ' あぁ 、 つれない デス ね ！  '], [' 何事 デス か ね ？  ', ' ―― ――  '], [' ―― 見つけ 、 まし た  ', ' よかっ た 、 スバル くん ――  '], [' ―― ―― ！  ', ' る ぁぁ ！  '], [' ―― エル 、 ヒューマ ！ ！  ', ' ―― あぁ ！  '], [' ―― ム  ', ' … … れ む  '], [' … … め ろ  ', ' ―― ペテルギウス ぅぅぅぅぅ ！ ！  '], [' レム 、 レム … … ？  ', ' ―― ――  '], [' れ … …  ', ' れ 、 レム … … ？  '], [' ―― うぅ ！ ？  ', ' ―― マ  '], [' ―― づぁっ  ', ' レム 、 お前 … …  '], [' レム ？  ', ' い 、 き て  '], [' … … 軽い 、 な  ', ' いこ う 、 レム  '], [' ―― ッ ！  ', ' でも 、 歩く … …  '], [' ―― ――  ', ' スバル くん ？  '], [' ふむ 、 それ は 同感 です  ', ' さて  '], [' ふざけ ―― ！  ', ' ―― ――  '], [' 仮に ――  ', ' うん ？  '], [' くく 、 ふ  ', ' ―― ？  '], [' ―― あ ぃ  ', ' 大丈夫 そ だ な  '], [' レム 、 は … …  ', ' はい  '], [' スバル くん ？  ', ' ―― ―― ッ  '], [' ちょっと 待っ て ろ  ', ' 見つけ た  '], [' え 、 なん です ！ ？  ', ' なん でも ねぇ よ ！  '], [' ―― ？  ', ' ―― ―― あ ？  '], [' ―― ―― ッ ！  ', ' ―― ル くん ！  '], [' ―― ッ ！ ！  ', ' ―― ふ ぁ ！ ？  '], [' 戻れ  ', ' は ？  '], [' おい  ', ' なん です 、 ナツキ さん  '], [' ナツキ さん … …  ', ' オット … …  '], [' ひ ぐっ  ', ' 死に たく ない  '], [' ―― あれ 、 スバル ？  ', ' やっぱ スバル だ  '], [' どし た の 、 スバル  ', ' 小汚い 、 スバル  '], [' 臭い 、 スバル  ', ' お前 、 ら … …  '], [' ―― スバル ？  ', ' あれ 、 どし た の ？  '], [' あ 、 危ない って ！  ', ' あ 、 落ち ――  '], [' あ … …  ', ' もっと し て ほしかっ た ？  '], [' エミ リア 様 よ  ', ' 仕方 ない でしょ う  '], [' レム ？  ', ' ―― お前 も  '], [' ―― ――  ', ' ―― ふ  '], [' あ  ', ' ―― え ？  '], [' ぉぉぉぉぉっぉぉぉあああああああああ ―― ！！！！！ ', ' お 、 れ は … …  '], [' あっ た かしら  ', ' 割れ 、 て … …  '], [' 殺し て 、 くれ … …  ', ' ここ で 、 殺し て くれ  '], [' … … の よ  ', ' ―― え ？  '], [' 景色 が … … ！ ？  ', ' 最低  '], [' 同じ 、 だ な … …  ', ' ―― どけ  '], [' ―― ぶ が ぁ ！  ', ' ―― ご えっ ！  '], [' ―― っ  ', ' … … パック  '], [' ―― ――  ', ' ―― ――  '], [' ―― ッ  ', ' ―― ―― ぁ  '], [' ―― スバル くん ？  ', ' ―― くん ！  '], [' 決め た ん だ 、 レム  ', ' はい 、 スバル くん  '], [' だって  ', ' ―― ――  '], [' 諦める の は 簡単 です  ', ' ―― ――  '], [' ―― ――  ', ' レム は 知っ て い ます  '], [' … … レム  ', ' はい  '], [' ナツ キ ・ スバル  ', ' ああ  '], [' そんな 都合 の いい 話 が  ', ' ―― あ  '], [' ―― アナスタシア・ホーシン  ', ' おおきに  '], [' ―― っ  ', ' いや いやぁ  '], [' クルシュ さん 、 あんた が  ', ' ―― ――  '], [' レム  ', ' はい  '], [' ぶっ飛ばし ましょ う  ', ' 結論 早い な ！ ？  '], [' ヘータロー です  ', ' さらい たく なる ぐらい 可愛い な  '], [' 勝ち たい な  ', ' ―― ――  '], [' ―― 嘘 でしょ う ？  ', ' は  '], [' そ 、 れ は … …  ', ' レム 、 俺 は … …  '], [' はい  ', ' でも  '], [' スバル くん  ', ' … … なん だ  '], [' ―― ―― ッ ！  ', ' 総員 、 警戒 だ ――  '], [' ―― ――  ', ' ―― ―― っ  '], [' ―― ――  ', ' ―― 全員  '], [' ―― ぶちかませ ぇ ッ ！ ！  ', ' ―― アルヒューマ ！ ！  '], [' スバル くん  ', ' 恐い です か ？  '], [' ―― 刃 の 届く 距離  ', ' ―― 十 四 年  '], [' ち ぇぇぇぇぇぃぃぃっ ！ ！  ', ' ほ いさ ぁっ ！ ！  '], [' し ―― ッ ！ ！  ', ' ―― ―― ッ ！ ！  '], [' 左目 が 落ちる ―― ！  ', ' ―― 無様  '], [' ―― ―― ッ ！ ！  ', ' ―― ―― ぁ  '], [' はい ！ 行き ます ！  ', ' ―― 霧  '], [' ―― ！ ？  ', ' う げ ぇ ！  '], [' なに が … … ッ  ', ' 白 鯨 です ！ ！  '], [' う おお おお おお ！ ？  ', ' レム ！ ！  '], [' ウルヒューマ ！ ！  ', ' 止まら ねぇ ―― ―― ！ ！  '], [' り ぁぁぁぁぁ ―― ッ ！ ！  ', ' お 姉ちゃん 、 合わせ て ！  '], [' レム ！ ！  ', ' ―― ―― ッ ！ ！  '], [' ―― ―― ッ ！ ！  ', ' ヴィルヘルム さん ！ ！  '], [' ―― ――  ', ' くる  '], [' ぅ … … あ  ', ' ヴィル … …  '], [' 逃げろ ―― ！ ！  ', ' ぬ ―― ！ ？  '], [' あ … …  ', ' あかん ！ ！  '], [' う おお ！ ？  ', ' ―― ―― っ  '], [' え ？  ', ' 嘘 、 だろ … …  '], [' わ ―― ！  ', ' は ―― ！ ！  '], [' ―― ず ぁぁぁああああ ！ ！  ', ' ヴィルヘルム さん ！ ？  '], [' お 姉ちゃん は 黙っ て て  ', ' そう だ よ な  '], [' アル 、 ヒューマ  ', ' ―― お願い ！  '], [' ―― レム ！ ！  ', ' はい 、 スバル くん ！  '], [' 助かっ た ！  ', ' ごちそうさま です  '], [' ―― ――  ', ' 目 つき が 悪い な  '], [' 死に たく 、 ない … …  ', ' ―― ――  '], [' 屈辱 だ  ', ' ―― そう  '], [' 俺 の  ', ' … … … …  '], [' 守っ て くれる の ？  ', ' そう だ  '], [' 花 は 、 好き ？  ', ' 嫌い じゃ なく なっ た  '], [' ―― ―― ッ ！ ！  ', ' 無粋  '], [' ああ … … 嬉し … …  ', ' 待て よ … …  '], [' ―― 言質 、 頂き まし た  ', ' へ ？  '], [' ―― ――  ', ' ―― 感謝 を  '], [' 問題 ない  ', ' フェ リス ！  '], [' ―― ん ？  ', ' ―― なんで 、 てめぇ が  '], [' 悪 人面 ～ ', ' 神経 を 逆撫で し ます な  '], [' 御意 に  ', ' その 通り です ね  '], [' わ ―― ！  ', ' は ―― ！ ！  '], [' う ひ ゃ … …  ', ' 『 怠惰 』 で あれ ――  '], [' あ ？  ', ' なん 、 だ ？  '], [' ―― ああ ぁぁぁぁぁ ！ ！  ', ' これ … …  '], [' なに を ――  ', ' ぐ ―― ッ  '], [' ―― 承知  ', ' ち ―― っ  '], [' ヴィルヘルム さ ――  ', ' 言っ た はず です  '], [' ―― 兄ちゃん ？  ', ' あ ？  '], [' わ ―― ！  ', ' は ―― ―― ！ ！  '], [' 残念 です が  ', ' 馬鹿 、 な … … ！  '], [' おい 、 待て よ  ', ' 今 、 なん つっ た  '], [' そう です とも  ', ' ―― ラム が  '], [' え 、 スバル ―― ？  ', ' ひさ ――  '], [' 窓 が 割れ たら 一大事  ', ' ふ ぇ ！ ？  '], [' うん ？  ', ' おかえりなさい  '], [' ただいま  ', ' たら ら っ たら ら  '], [' ツーチョ ？  ', ' インカン ？  '], [' さようなら ――  ', ' う 、 お ！ ？  '], [' ―― ―― ！  ', ' ―― ぁさま  '], [' ―― ―― ッ ！ ！  ', ' なに 、 が … …  '], [' ―― ル ！ ！  ', ' スバル ―― ッ ！ ！  '], [' ぬう う ううん ！ ！  ', ' ―― ヴィルヘルム さん ！  '], [' ―― ―― ！ ！  ', ' ―― あ ァ ！ ？  '], [' ―― ぅあっ ！ ？  ', ' か ―― はっ  '], [' 斬る つっ たって … …  ', ' う 、 お … …  '], [' ―― ―― し ぃっ ！  ', ' エミ ――  '], [' ―― スバル ！  ', ' スバル き ゅん ！  '], [' 兄ちゃん ！  ', ' スバル ！  '], [' スバル 殿 … … ！  ', ' ―― ――  '], [' ―― ――  ', ' スバル … … ？  '], [' あ  ', ' ―― リア 、 ダメ だ ！  '], [' ようやく 捕まえ まし た ―― デス  ', ' に ゃっ ！ ？  '], [' 俺 は ――  ', ' あむ  '], [' もう 、 さ びしくしなくていいんだよ ？  ', ' ―― ―― ッ  '], [' という の が 建前  ', ' は ？  '], [' や 、 やる っ  ', ' そう こ なく ちゃ  '], [' 掻き 混ざれ ――  ', ' ―― ッ ！ ！  '], [' ―― ――  ', ' もう お手上げ じゃ ねぇ か ！  '], [' ―― ッ ！  ', ' ―― お  '], [' お前 は … …  ', ' ん ー ？  '], [' は ―― ―― ！  ', ' なん デス ！ ？  '], [' ほえ ー  ', ' もう 、 けっこう デス  '], [' は ―― ―― ！  ', ' お ぁ ！ ？  '], [' ぼーっと し て ない ！  ', ' 死ん じゃう です よ ！  '], [' ―― ―― ッ ！ ！  ', ' お前 は 最高 だ ―― ！  '], [' やる ぜ 、 ユリウス  ', ' いい の だ ね ？  '], [' ―― は ？  ', ' 驚く こと は ない  '], [' あぁ ―― 脳 が 、 震える  ', ' ―― ―― ッ ！  '], [' ユリウス ！ 解除 しろ ！ ！  ', ' わかっ た ！  '], [' ああ  ', ' やっぱり  '], [' うーむ  ', ' どう し まし た ？  '], [' ぁ … … サテラ  ', ' ―― ッ ！ ？  '], [' ―― ッ ！ ！  ', ' ぉぉぉぉぉぉぉぉぉぉぉぉぉぉ ――  '], [' 私 は … …  ', ' ―― ――  '], [' スバ ルー ！  ', ' スバル が 言っ て た ー  '], [' そんな こと … … っ  ', ' ―― ッ ！ ？  '], [' 離さ ない ！  ', ' 行っ ちゃ ダメー ！  '], [' ―― ！ ？  ', ' いったい 、 なに が … …  '], [' ―― スバル  ', ' ナツキ さん 、 あれ ！ ！  '], [' ―― ヴィルヘルム さん ！ ！  ', ' スバル 殿 ！ ？  '], [' それ じゃ 、 ダメ だ ！  ', ' ―― そう 、 か  '], [' ―― ―― ！  ', ' ―― ―― ！ ！  '], [' ―― ？  ', ' ―― ―― ！  '], [' ―― スバル ！ ！  ', ' ―― スバル  '], [' スバル  ', ' ―― お願い 、 スバル  '], [' ―― ――  ', ' スバル  '], [' あ  ', ' う  '], [' お  ', ' 買い物 、 終わっ た の ？  '], [' スバル くん ――  ', ' … … その 呼び 方  '], [' ―― リゲル 、 スピカ  ', ' ん ？  '], [' スバル くん  ', ' ん ？  '], [' … … クルシュ 様  ', ' それ より  '], [' ―― む ？  ', ' ―― ―― ？  '], [' ―― ッ ！ 敵襲 ！ ！  ', ' ―― 轢き殺せ ！ ！  '], [' おや ？  ', ' あ ァ ？  '], [' … … ああ  ', ' さ 、 さ 、 クルシュ 様  '], [' ―― ごめん  ', ' … … エミ リア たん  '], [' 一理 ある  ', ' でしょ ？  '], [' ほ い  ', ' はい  '], [' ―― ディスティニー 、 ドロォォォォォォォ ！  ', ' ＹＥＳ 、 ＹＥＳ 、 ＹＥＳ ！  '], [' だから さ … … 脱げよ  ', ' ―― ――  '], [' レム 、 き なさい  ', ' 姉 様 … … っ ！  '], [' ファ ネル の 実 ？  ', ' はい  '], [' レム さん ！ ？  ', ' 今 だけ です よ  '], [' ふ ぇ 、 フェ リス ？  ', ' だ ー か ー ら っ  '], [' はい 、 シャットアウト ！  ', ' ぷっ  '], [' わかる 気 が する  ', ' へ ？  '], [' ふ 、 ぇ … …  ', ' あれ ？  '], [' スバル の バカ ！ ！  ', ' 痛い 痛い ！  '], [' ふ ぁ ！ ？  ', ' フーレーデーリーカ  '], [' … … あぁ  ', ' お前 は … …  '], [' お前 … … ッ ！  ', ' ―― ――  '], [' ―― ――  ', ' あの ドリルロリ … …  '], [' いや 、 絶対 無理 だ けど  ', ' フレデリカ  '], [' ほしい こと ？  ', ' はい  '], [' へ 、 あ ？  ', ' は ッ  '], [' お 、 お前 は … …  ', ' あ ァ ？  '], [' ―― 魔女  ', ' エキドナ … …  '], [' ―― エキドナ  ', ' え ？  '], [' 変 な 、 視線 ？  ', ' ええ  '], [' ―― ツミハタダイタミニヨッテノミアガナワレル  ', ' ん あ ？  '], [' なん で だ よ ！  ', ' 仕方 ない じゃ ない か  '], [' … … … …  ', ' パック だ  '], [' 死ね ば よかっ た のに  ', ' 直球 すぎる ！ ！  '], [' なあ 、 そう だろ ？  ', ' あ ァ ？ 俺 様 ？  '], [' ロズワール 様  ', ' だ ー ぁが  '], [' ―― お  ', ' あ … …  '], [' いただき ます  ', ' いただき ます  '], [' 昼 まで 寝 てる  ', ' なん 、 だ … … ？  '], [' それで … …  ', ' うん ？  '], [' で 、 落ち着い た か ？  ', ' … … 微妙 な とこ  '], [' ―― ！ ？  ', ' 君 は … …  '], [' ―― 昴  ', ' ファーザーヘッド ！  '], [' 悪い 悪い  ', ' それ より  '], [' ―― ――  ', ' ―― っ ぐ  '], [' ―― ただいま  ', ' … … お はえ い  '], [' なんで 違う 話し てる の ？  ', ' 俺 は 俺 らしく 、 か  '], [' 昴  ', ' 昴 。 ―― 大丈夫 だ から  '], [' ―― いっ て らっしゃい  ', ' ―― ――  '], [' ―― いっ て き ます ！  ', ' ―― ――  '], [' ありがと な  ', ' ―― ――  '], [' エミ リア  ', ' あ … …  '], [' それにしても 、 意外 でし た ね  ', ' ん あ ？  '], [' と と ？  ', ' ―― は ？  '], [' なぁ 、 ガーフィール  ', ' ん っ だ よ  '], [' ―― ラム  ', ' 失礼 し ます  '], [' … … ぁ  ', ' なに し た ん だ ？  '], [' 待っ て ろ 、 エミ リア  ', ' ―― ――  '], [' 悪 だ くみ か よ  ', ' 悪 だ くみ だ よ ？  '], [' ―― あれ ？  ', ' どういう こと だ ？  '], [' う ぉう 、 プレッシャー  ', ' なかなか の お 手前 じゃ な  '], [' ―― スバル  ', ' なん だ ？  '], [' そろそろ 、 じゃ な  ', ' おお ？  '], [' ―― ？  ', ' よし  '], [' いいえ  ', ' んじゃ  '], [' て や  ', ' お 、 お 、 お ――  '], [' スバル ―― ！  ', ' とにかく 、 上 に ―― ！  '], [' ぎっ … … あがっ ！ ？  ', ' 見え て … … ！ ？  '], [' ひ ぁっ  ', ' 最悪 … … だ ！  '], [' ―― バル 様 ！ ！  ', ' ふれ で … …  '], [' ぁっあ ―― ！  ', ' ―― し ぃ ！ ！  '], [' ―― ぇ  ', ' これ … … ぁ  '], [' ―― ―― ォォァァァアッ ！ ！  ', ' ぉれぁ … …  '], [' れ ば  ', ' れ む … …  '], [' 禁書 庫 … … ！ ？  ', ' ―― ―― ！  '], [' ―― ―― っ  ', ' あっ  '], [' ぁ  ', ' ―― ―― ッ ！  '], [' う … … ？  ', ' 頭 、 痛 ぇ … …  '], [' ―― ―― ！  ', ' あ  '], [' ―― っ く  ', ' あ … …  '], [' ベア … …  ', ' やめ … … ベア トリス ！  '], [' … … ぅさま  ', ' ―― ――  '], [' ―― ―― あぁ ！  ', ' ―― エミ リア ！ ！  '], [' おはよう 、 スバル  ', ' ―― ――  '], [' ―― か 、 ふ  ', ' ふ … … ぇ ？  '], [' ―― ―― ぁ  ', ' ―― も 、 よわ ぃ  '], [' ―― ―― ッ  ', ' ―― ぁ 、 ふ  '], [' が ふっ 、 あ はっ ！  ', ' ぅああ 、 ああ ！ ？  '], [' ゆ び … … ！ ？  ', ' あ … …  '], [' … … 嘘 だろ  ', ' ―― ――  '], [' お 、 れ は  ', ' とにかく … …  '], [' な ―― ！ ？  ', ' さ ー ぁ  '], [' ―― ――  ', ' 俺 様 も … … ねェ  '], [' ―― ――  ', ' もう 、 無理 だろ … …  '], [' ―― ん  ', ' 誰 … … だ  '], [' あの です ね 、 ナツキ さん  ', ' … … ああ  '], [' ―― ぷっ  ', ' はい ？  '], [' ガーフ 、 ね  ', ' … … 知っ てん の か  '], [' ガーフィール ？  ', ' ―― ―― っ ！  '], [' さよなら 、 ガーフ  ', ' あ ば よ 、 ラム  '], [' ひ ぁ ！ ？  ', ' あ 、 ナツキ さん ！ ？  '], [' おい 、 パトラッシュ ！  ', ' ―― ―― ッ ！ ！  '], [' ―― ぁ  ', ' あ 、 れ は … …  '], [' ―― え ？  ', ' 先祖 、 返り … …  '], [' ―― ―― ッ ！  ', ' ―― ―― ！ ？  '], [' ―― ―― ッ ！ ！  ', ' ぁ  '], [' ―― ―― ！ ！  ', ' ―― ―― ッ ！ ？  '], [' ―― ――  ', ' ぉ 、 い … …  '], [' ―― ――  ', ' これ でも 、 食らえ ―― っ  '], [' やめろ ―― ！ ！  ', ' ―― ――  '], [' が 、 あぁ ―― ！ ？  ', ' ―― ―― ！ ！  '], [' ―― ――  ', ' ―― ―― ！  '], [' ―― ぁ  ', ' ―― ――  '], [' ―― ―― ぱとらっしゅ  ', ' ―― ――  '], [' ―― ぁ  ', ' ―― ―― ん  '], [' はぁ … … はぁ … …  ', ' ―― ――  '], [' ―― ――  ', ' 試し て 、 みる と いい  '], [' … … え ？  ', ' … … ふむ  '], [' ぇ … …  ', ' あ  '], [' ―― ――  ', ' … … … …  '], [' … … … … ん  ', ' ―― ―― ！ ？  '], [' ―― あ  ', ' や ぁだぁ … … もったいな ぁい  '], [' ―― ―― ！ ？  ', ' あ 、 むぅ  '], [' 対価 、 だ よ  ', ' 対価 … …  '], [' よし 、 決め た よ  ', ' これ を 、 いただこ う か  '], [' … … 嘘 だろ 、 おい  ', ' 影 … … だ  '], [' ―― ――  ', ' え 、 エミ リア ―― ！  '], [' ―― ―― ？  ', ' なん ――  '], [' ―― ―― ぁ ？  ', ' ―― ――  '], [' ―― ――  ', ' ―― ――  '], [' ぐえ ！  ', ' ―― ―― ！  '], [' う が ァ ―― ！  ', ' ―― ――  '], [' ―― 愛し てる  ', ' う 、 あ … …  '], [' ―― ―― ガッァァァァァア ！ ！  ', ' ―― ―― ッ ！ ！  '], [' ―― ――  ', ' ―― あー  '], [' う ー  ', ' ―― ――  '], [' ―― ォォォォン ！  ', ' ―― ―― ！ ？  '], [' ―― ――  ', ' ―― ルルルルルルルルルガァァァァァ ！  '], [' ―― 愛し てる  ', ' ―― スバル くん  '], [' ―― ――  ', ' ―― 愛し てる  '], [' ―― ――  ', ' ―― ――  '], [' ―― ―― ぉ  ', ' お 、 ぶ … … っ  '], [' ―― ――  ', ' ―― ―― ！  '], [' 油断 、 大敵 だ ！  ', ' ―― る ぁぁぁぁ ！  '], [' 取っ た ―― ！  ', ' ―― え ？  '], [' ―― ―― ！  ', ' 俺 が 、 必ず ――  '], [' ―― ――  ', ' ―― ――  '], [' … … ぇ ？  ', ' ぁ 、 う 、 え ？  '], [' ごめん  ', ' ところで  '], [' ―― エミ リア 様 ！  ', ' それと バルス 、 ご苦労 様  '], [' 聞き たい こと ？  ', ' そ 、 聞き たい こと  '], [' … … お前 も それ か  ', ' お前 も 、 だ ァ ？  '], [' ―― 二 人  ', ' あ ァ ？  '], [' その 価値 は 、 ある か  ', ' … … あ ァ ？  '], [' ―― ――  ', ' … … ぁ ？  '], [' ―― ――  ', ' … … ？  '], [' ―― ――  ', ' ―― うっ ！  '], [' ―― ――  ', ' ―― ――  '], [' しまっ … …  ', ' ―― ――  '], [' ―― ――  ', ' う お ！ ？  '], [' 指揮 権 … … ？  ', ' ほれ  '], [' … … ん ん ？  ', ' あの ー  '], [' ―― ――  ', ' 婆ちゃん ―― ッ ！ ！  '], [' 約束 だ から ね ！  ', ' うい うい  '], [' うぅ ～ ', ' ま ぁまぁそのあたりで … …  '], [' スバル 様 … …  ', ' って わけ で 、 ご 開帳  '], [' ああ 、 任せろ ――  ', ' ―― ――  '], [' ―― シャマク ！ ！  ', ' ベア トリス ！  '], [' ぺと 、 ら … …  ', ' ―― ―― ぅ  '], [' ん 、 わかっ た かしら  ', ' ―― ――  '], [' ―― ――  ', ' … … なんで だ  '], [' … … レム は  ', ' ―― ようやく 、 見つけ た わ  '], [' ―― ！ ？  ', ' 当たれ ―― ！  '], [' 何 を ――  ', ' ―― ウルシャマク  '], [' わ 、 悪 ぃ … …  ', ' 別に … …  '], [' ―― ぁ  ', ' ―― え ？  '], [' … … これ で  ', ' やっと … …  '], [' 待 … … ッ  ', ' ―― ―― ぅ  '], [' ―― ベア トリス  ', ' こ 、 れ ぁ … …  '], [' なん だ 、 これ ？  ', ' でかい ――  '], [' おい 、 パトラッシュ ？  ', ' パトラッシュ ！  '], [' ―― ――  ', ' ―― ――  '], [' ―― ぁ  ', ' リューズ 、 さん ？  '], [' … … 行け よ  ', ' ―― ――  '], [' ―― スバル ？  ', ' エミ リア  '], [' ―― さびしかっ た  ', ' … … え ？  '], [' あ … …  ', ' 気 に し ない  '], [' ―― ――  ', ' スバル くん  '], [' ―― ――  ', ' よく ぞ 見破っ た  '], [' ―― ――  ', ' ―― ――  '], [' ご 、 ふ … … ッ  ', ' ―― え ？  '], [' な 、 んで … …  ', ' ん ー ん ？  '], [' 羨ましい 、 ねー ぇ  ', ' ―― 羨ましい 、 だ と ？  '], [' 雪 、 だ ね  ', ' 雪 ―― ！ ？  '], [' そう すれ ば ――  ', ' ロズワール ぅぅぅぅ ！ ！  '], [' ―― う 、 く  ', ' ―― お わぁ ！  '], [' レム 、 だけ でも … …  ', ' ―― ――  '], [' ―― ――  ', ' ―― スバル ？  '], [' ほら 、 どうぞ 、 スバル  ', ' … … 膝枕 、 か  '], [' ―― ――  ', ' ぁ ――  '], [' スバル ――  ', ' ―― ――  '], [' … … … …  ', ' ―― ――  '], [' ―― ぅ ？  ', ' ―― ――  '], [' ―― って 、 言っ た のに  ', ' エミ リア 様 ？  '], [' ―― ――  ', ' ふ ぇり … …  '], [' ベア トリス 様 … …  ', ' ―― どうして  '], [' ―― あら  ', ' これ は … …  '], [' それ 、 は … …  ', ' … … … …  '], [' ―― ――  ', ' ラム  '], [' リア 、 お 別れ だ ――  ', ' そ … …  '], [' ―― ――  ', ' れ 、 む  '], [' ―― ――  ', ' ―― ――  '], [' ―― スバル くん ？  ', ' ―― お前 、 誰 だ  '], [' ―― ―― ッ ！ ？  ', ' あ ―― あ 、 あぁ ？  '], [' ―― ――  ', ' エキドナ  '], [' ―― ――  ', ' ―― ―― き た わ  '], [' ―― ――  ', ' ―― ――  '], [' ―― あ ？  ', ' ―― ―― ます  '], [' やめろ … …  ', ' 愛し て い ます  '], [' 坊や … …  ', ' そ 、 の 子 … …  '], [' あんた … … ッ  ', ' すばる ん ？  '], [' ―― 許す よ  ', ' ―― ――  '], [' 俺 が 、 必ず ――  ', ' ―― お前 を 救っ て みせる  '], [' ―― ――  ', ' パトラッシュ … …  '], [' ―― あ ？  ', ' ですから  '], [' お前 は 逃げ ない よ  ', ' ―― え  '], [' ―― ――  ', ' ―― ―― ！ ？  '], [' … … り なかっ た か  ', ' ―― あ ？  '], [' … … なんとか  ', ' よかっ た  '], [' ―― ―― ！  ', ' … … オットー ？  '], [' パトラッシュ … … ？  ', ' あの です ね … …  '], [' は  ', ' そんな こと か  '], [' ナツキ さん … …  ', ' … … … …  '], [' 期限 ？  ', ' ああ  '], [' へ ？  ', ' ひ  '], [' リゲル ！  ', ' … … なん だ よ  '], [' おわっ  ', ' ―― ――  '], [' ―― ―― っ  ', ' ―― ―― ？  '], [' エミ リア  ', ' ―― うん  '], [' ―― ――  ', ' それでも 、 だ  '], [' ―― っ  ', ' スバル は … …  '], [' ―― スバル ？  ', ' ―― ――  '], [' 提案 … … ？  ', ' あ … …  '], [' は  ', ' ―― ――  '], [' なん だい ？  ', ' … … 私 の 、 バカ  '], [' ―― ―― ！  ', ' ―― ぁ  '], [' さあ 、 どう かしら ね  ', ' … … る  '], [' いい の  ', ' … … エミ リア ？  '], [' 心配 し ない で 、 スバル  ', ' う 、 え … … ？  '], [' ん … … ありがと  ', ' … … 信じ てる から  '], [' スバル の 、 うそ つき  ', ' ―― ―― っ  '], [' ―― や ぁっ ！  ', ' ―― エミ リア ！ ！  '], [' ―― ――  ', ' ―― ナツキ さん ！  '], [' ―― ――  ', ' … … 強情 、 です ねえ  '], [' ―― ？  ', ' ―― ――  '], [' ―― ―― ぁ  ', ' えっ へん 、 でき まし た  '], [' ―― え ？  ', ' ―― ぁ 、 あ  '], [' ―― ――  ', ' これ で … … ！  '], [' … … 生意気  ', ' ね 、 エミ リア  '], [' … … ん  ', ' ―― 愛し て いる わ  '], [' だから 、 私 は … …  ', ' ―― ――  '], [' ―― ――  ', ' エミ リア は … …  '], [' はい 、 フォルトナ 母 様  ', ' … … エミ リア  '], [' いっそ … …  ', ' … … むぅ  '], [' … … むぅ  ', ' ふん だ 、 ジュース の バカ  '], [' よろしく お願い いたし ます  ', ' 森 の 奥 … …  '], [' へんてこりん … …  ', ' なん な ん だろ 。 ねー  '], [' どなた です か ？  ', ' ―― ――  '], [' ―― ――  ', ' … … ジュース 、 大丈夫 ？  '], [' ―― ――  ', ' ―― が 、 ふっ  '], [' ―― ―― っ  ', ' ベア トリス 様  '], [' ―― ――  ', ' ―― ――  '], [' ―― ――  ', ' ありがとう 。 ―― さようなら 、 ベティー  '], [' な 、 ァ ―― ！ ？  ', ' 喰らえ ―― ！ ！  '], [' ―― あ ァ ？  ', ' ―― ――  '], [' × ××××××××  ', ' ※※※※※※※※※※※※※ '], [' ＊＊＊＊＊＊＊＊＊＊＊＊＊＊＊！＊！＊ ', ' ふ ぁがとくがおいたじじじじ  '], [' ―― ――  ', ' あ ァ … … ？  '], [' 正直 、 驚い てる ぜ  ', ' … … そう 、 です か  '], [' まさか … …  ', ' ―― ―― ッ ！  '], [' し ！  ', ' ち ィッ ！  '], [' フーラ ！  ', ' ぐ ォ ！ ？  '], [' ―― ――  ', ' るる る るる ァァァァァ ！ ！  '], [' っ ざ 、 けん なァ ！  ', ' ―― ―― ッ づ ！  '], [' ―― ――  ', ' ―― もう 、 いい  '], [' ―― ――  ', ' あの ？  '], [' 情けない  ', ' ぐえっ ！  '], [' 簡単 よ  ', ' ちょ っ ！ ？  '], [' ―― ぶ  ', ' ―― ふっ  '], [' ―― ぁ  ', ' ―― ―― ッ ！  '], [' ―― ―― ッ ！ ！  ', ' ―― ―― っ ！  '], [' ―― アルフーラ  ', ' いや 、 まさか な  '], [' ―― ――  ', ' スバル は … …  '], [' … … そっ か  ', ' 怒っ て 、 ない ん だ  '], [' ―― ――  ', ' ―― ――  '], [' 好き だ ！ ！  ', ' 嘘つき ぃ ！ ！  '], [' 嫌 なら 、 よ けろ  ', ' ―― ――  '], [' ―― ん っ  ', ' ―― ―― づ  '], [' ―― ぁ  ', ' お前 が 好き だ  '], [' ―― ――  ', ' スバル ？  '], [' ガーフィール ！  ', ' ―― ち ィッ ！  '], [' ―― スバル  ', ' 大丈夫 だ 、 エミ リア  '], [' … … スバル  ', ' ―― ――  '], [' ―― ―― っ ！  ', ' ち ィッ ！  '], [' ―― ―― る ぁ ！  ', ' こ 、 ぁふ … … っ  '], [' 私 は ――  ', ' エミ リア  '], [' ―― うん  ', ' … … は ァ ！ ？  '], [' ―― ――  ', ' ―― ォォォォォォォ  '], [' ―― シャマァァァァク ！ ！  ', ' ―― ――  '], [' ぅ 、 あ … … っ  ', ' ありがとう よ  '], [' ―― ――  ', ' ―― ―― '], [' ご ぇっ ！  ', ' ―― ぐば ！  '], [' が ォッ  ', ' ぎ 、 ぃ ッ ！  '], [' ―― ――  ', ' ―― ―― ッ ！ ？  '], [' ―― ァ 、 は ァッ ！  ', ' う 、 ふ … … ぉ  '], [' おいおい … … 嘘 だろ  ', ' ―― ァ 、 舐めん 、 なァ  '], [' ―― ―― ッ ！ ！  ', ' ―― ご ェ ！ ？  '], [' ―― ―― ッ ！  ', ' 見 て いろ  '], [' おら ぁ ―― ！  ', ' ぎゃふ ―― ！ ？  '], [' ―― ――  ', ' 通訳 、 いり ます か ？  '], [' ―― ――  ', ' ガーフ  '], [' おい 、 ガーフィール  ', ' なん だ ァ ？  '], [' クソ っ たれ が  ', ' … … ッ だら ァ  '], [' つれ ない こと だ ね  ', ' ―― ――  '], [' … … … …  ', ' ―― あ ！  '], [' ちょっと 待て  ', ' なに ？  '], [' 今 、 なんて 言っ た ？  ', ' どこ の こと ？  '], [' はい 。 どうぞ  ', ' ―― っ っ ！  '], [' ね 、 スバル  ', ' ん ？  '], [' デート 二 回  ', ' はい はい  '], [' これ って … …  ', ' … … スバル の 、 バカ  '], [' そう 、 その スタンス だ よ  ', ' あ ァ ？  '], [' ―― ジュース  ', ' 申し訳 あり ませ ん  '], [' き た よう だ ね  ', ' ―― ――  '], [' ―― ―― ッ ！  ', ' か 、 母 様 … …  '], [' 必ず 、 助け に 戻る わ  ', ' ジュース ―― ！ ！  '], [' 良い 旅 を  ', ' ―― ――  '], [' ―― ――  ', ' 素晴らしい  '], [' パンドラ 様 ？  ', ' レグルス・コルニアス 司教  '], [' はい  ', ' き ます よ  '], [' は ―― ？  ', ' 言っ た はず … … デス  '], [' あの さぁ  ', ' ―― ―― ！ ？  '], [' リア 、 大好き  ', ' ―― アーチ 、 お願い  '], [' エミ リア … … ！  ', ' ―― 意外 だっ た ね  '], [' ぁ ――  ', ' … … フーラ ！ ！  '], [' ヒューマ ぁ … … ！  ', ' アーチ … … ？  '], [' ふう 、 いん … …  ', ' ―― ぁ  '], [' わた 、 し が … …  ', ' ―― ――  '], [' う 、 ふ … … っ  ', ' ―― う ？  '], [' さあ 、 開け て ください  ', ' 開ける  '], [' どっち の 、 希望 … …  ', ' ええ  '], [' ですから  ', ' … … ぇ ？  '], [' ―― ―― っ ！  ', ' … … エミ リア ？  '], [' ジュース ！  ', ' フォルトナ 様 ぁ ！  '], [' アルヒューマ ！ ！  ', ' 見え ざる 手 ぇ ！ ！  '], [' ―― ――  ', ' エミ リア 様 ？  '], [' えみ 、 り あ … …  ', ' か あ さま  '], [' リア  ', ' 泣き虫 な 子  '], [' ―― ――  ', ' フー イン を 、 開ける ？  '], [' ―― ぁさま  ', ' ―― ――  '], [' 後悔 なんて 、 し ない わ  ', ' … … … …  '], ['', ' ぐ 、 う … … っ  '], [' ―― ――  ', ' ―― ――  '], [' ―― ぁ  ', ' ―― ――  '], [' ―― ――  ', ' あら 、 可愛い メイド さん ね  '], [' ペ トラ ―― ！ ！  ', ' フレデリカ 姉 様 ！  '], [' ―― っ 、 はい  ', ' 行き なさい ！  '], [' はい ！  ', ' いい 子 ね  '], [' 驚く ほど の こと かしら ？  ', ' 蜘蛛 女 ―― ！  '], [' あの なァ  ', ' ―― ――  '], [' ガーフ ！  ', ' ―― し ゃらくせ ェ ！ ！  '], [' ―― ！ ？  ', ' ッ ら ァァァァ ！ ！  '], [' ―― ッ ！ ？  ', ' 素敵  '], [' ―― ―― っ ！  ', ' 姉 貴  '], [' ―― 信じ て い ます わ  ', ' ―― ――  '], [' 面白 ェ ―― ッ ！ ！  ', ' が ァ ァ ァ ！ ！  '], [' ば ァ ！  ', ' ―― ―― ッ ！  '], [' ―― ―― っ  ', ' すばる  '], [' ―― うん  ', ' とう ―― ちゃ く ！  '], [' あー  ', ' アーチ ！ 大丈夫 ？  '], [' どういう 意味 だ よ ！  ', ' ん ー  '], [' えー  ', ' えー じゃ ない ！  '], [' う ー  ', ' う ー で も ない ！  '], [' え いっ  ', ' あ ！  '], [' ―― ば あ  ', ' ば あ 、 じゃ ない ！  '], [' … … 私  ', ' ―― 行か なきゃ  '], [' ほら 、 いっ て らっしゃい  ', ' わ ふ  '], [' ―― ――  ', ' ジュース  '], [' … … エミ リア ？  ', ' あー  '], [' 邪魔  ', ' 一撃 か よ ！ ？  '], [' ―― ォォォ  ', ' スバル ！  '], [' ―― 危ない わ  ', ' ―― 避け ます の ！ ？  '], [' きゃ 、 ぁ ―― ！ ？  ', ' あの 馬鹿 ！ ！  '], [' ―― ――  ', ' ―― ――  '], [' ―― ――  ', ' ―― ―― ！  '], [' ―― ―― ？  ', ' ―― ―― ！  '], [' ―― ――  ', ' ―― ―― ッ  '], [' ―― ――  ', ' ―― ―― ！  '], [' ―― ルゥッ ！ ？  ', ' ―― ―― ！  '], [' ―― ――  ', ' ―― ――  '], [' ―― ――  ', ' ―― ――  '], [' ―― ―― ォォォ ！ ！  ', ' ―― ―― ！ ？  '], [' ―― ――  ', ' あ 、 あれ … … ？  '], [' 何 を … …  ', ' エルザ ！  '], [' ―― ―― ！ ？  ', ' 岩 豚 ちゃん ！ ？  '], [' ―― が ァッ ！ ？  ', ' ―― ―― っ  '], [' ―― ―― ！  ', ' ―― し ぃ ！  '], [' が ァァァッ ！ ！  ', ' ―― ――  '], [' り 、 ぃぃぃ ―― ！  ', ' しゃ ァ ―― ッ ！  '], [' ―― ―― ！ ？  ', ' ―― っ  '], [' ―― 部分 獣 化 ァ ！  ', ' き 、 ぁぁぁ ―― ッ ！  '], [' ―― ―― ッ ！ ！  ', ' ―― ワッグピッグ ！ ！  '], [' 岩 豚 ちゃん ！ ？  ', ' ―― ぐる ゥゥゥ ！ ！  '], [' あら  ', ' ―― あぁ  '], [' ぞくぞく し ちゃう  ', ' ―― ――  '], [' ―― ――  ', ' もう 、 疲れ た かしら  '], [' … … … …  ', ' でも  '], [' ―― ――  ', ' ―― ―― ぁ  '], [' ―― しまっ  ', ' あ づっ ！  '], [' … … まさか  ', ' エルザ 、 か … … ？  '], [' ―― ――  ', ' いや 、 違う … …  '], [' ―― あ ？  ', ' ―― ――  '], [' 冗談 じゃ 、 ねぇ ―― ！  ', ' 嘘 だろ … … ！ ？  '], [' ―― ォォォ ！ ！  ', ' っ だ ぁ ！ ？  '], [' ―― ァォォォ ！ ！  ', ' ベア トリス … … ！  '], [' こ 、 こ が … …  ', ' ―― ――  '], [' ―― ――  ', ' ―― ――  '], [' ―― ――  ', ' ―― ――  '], [' … … う 、 っ く  ', ' 俺 を 選べ 、 ベア トリス  '], [' ―― ――  ', ' ―― ――  '], [' … … あれ は  ', ' ぁ … …  '], [' オットー さん 、 あれ ！  ', ' あ だ ぁ ！ ？  '], [' … … 君 は  ', ' エキドナ … … ？  '], [' ―― ―― っ  ', ' ―― なん だ  '], [' 可愛い  ', ' 好き だ  '], [' え 、 エミ リア 様  ', ' は 、 はい  '], [' この ぐらい で は 、 ね  ', ' お返し だ  '], [' ―― エル 、 フーラ ！ ！  ', ' こんな 、 目 くらまし を ！  '], [' ―― ―― っ ！  ', ' … … ぁ 、 ぐっ  '], [' ―― な 、 に ？  ', ' それ は … … ！  '], [' ―― やっと 、 これ で  ', ' エキドナ ？  '], [' ミネルヴァ … …  ', ' ミネルヴァ … …  '], [' ―― え ？  ', ' ―― リア 様 ！  '], [' … … … …  ', ' どう し た の ？  '], [' ―― っ ！  ', ' それで … …  '], [' ―― ――  ', ' … … ラム  '], [' ―― ――  ', ' ロズワール … … ？  '], [' … … … …  ', ' ―― ！ ラム ？ ラム ！  '], [' ―― っ ！  ', ' … … … …  '], [' もう … …  ', ' もう 、 いい … …  '], [' ロズワール  ', ' ―― ――  '], [' スバル  ', ' おっ ふ 、 ひ ゃい  '], [' で ？  ', ' ちょうど いい 、 ハンデ かしら  '], [' ―― 恐い の かしら ？  ', ' いい や 、 恐く ない  '], [' ―― くる かしら  ', ' はん ？  '], [' なら 、 教え て やる かしら  ', ' どう すりゃ いい ！ ？  '], [' ―― ――  ', ' や ！  '], [' スバル 、 ベア トリス  ', ' スバル … …  '], [' 渡る の よ  ', ' おう  '], [' 左 を 頼む かしら  ', ' じゃ 、 右 は 任せ た  '], [' そろそろ 、 な の よ  ', ' ああ ？  '], [' … … スバル  ', ' ―― ―― っ  '], [' ―― アル ・ ヒューマ ！ ！  ', ' すげ ぇ … …  '], [' ご 不満 な の かしら ？  ', ' ホント に 、 すごい … …  '], [' ―― ――  ', ' スバル 、 ほら  '], [' ああ  ', ' ―― ――  '], [' 歯 を 食いしばる の よ  ', ' ―― ぐっ ！ ？  '], [' て へ ぺろ  ', ' ―― ――  '], [' … … なん の こと ？  ', ' いや  '], [' 三 行 で  ', ' それ は 厳しい  '], [' え へ ぺろ 、 かしら  ', ' 笑え ねぇ よ ！ ！  '], [' おい  ', ' 頼ん だ かしら  '], [' そう ？ え へ へ  ', ' わ ぶっ ！ ？  '], [' 私 ？  ', ' クリンド さん すげ ぇな ！ ？  '], [' スバル  ', ' ん あ  '], [' 私 を ？  ', ' ―― む 、 っ ぐ  '], [' ん ん ん ？  ', ' お 静か に  '], [' リューズ さん に ？  ', ' クリンド  '], [' ―― ――  ', ' … … あ  '], [' ―― ――  ', ' ユリウス 、 ラインハルト  '], [' あいつ ら … …  ', ' 背中  '], [' じゃ 、 いっ て くる  ', ' そう する と いい の よ  '], [' ―― ――  ', ' ―― ――  '], [' ―― ――  ', ' ―― ――  '], [' ―― ――  ', ' ―― ――  '], [' ドラゴン の 、 血  ', ' ―― ――  '], [' ―― ――  ', ' ―― うん  '], [' ―― ――  ', ' ―― ――  '], [' クルシュ 様 ？  ', ' ―― っ  '], [' ―― くどい ！  ', ' ―― っ  '], [' ―― ボルドー ！  ', ' ―― ――  '], [' ―― 白 鯨  ', ' ―― ――  '], [' ―― ――  ', ' ―― ぁ  '], [' ―― は  ', ' 受け取れ  '], [' ―― ―― ！  ', ' ―― ―― ！  '], [' よっ ！ ほっ 、 と ！  ', ' や 、 は 、 しょっ ！  '], [' いっ て らっしゃい な の よ  ', ' お前 も 道連れ だ ！  '], [' 頑張り ます  ', ' 一緒 に 頑張り ましょ う  '], [' おお … …  ', ' すげ ぇ … …  '], [' ―― ―― ッ ！  ', ' い 、 今 のっ て ？  '], [' ―― ――  ', ' 何 が おかしい ん 、 ユリウス  '], [' ―― なんか 聞こえる な  ', ' ―― ――  '], [' いい加減 に しろ  ', ' 冗談 だっ た です のに ぃ  '], [' いや 、 結構 です  ', ' あー  '], [' どっ せい ！  ', ' リリアナ 、 ステイ ！  '], [' はい 、 ごめんなさい  ', ' よろしい  '], [' そう だ ね  ', ' だ よ な 、 お母さん  '], [' いい から 、 ね ？  ', ' ―― ――  '], [' うる せ え ！  ', ' 知り合い ？  '], [' ―― お 祖父 様  ', ' ラインハルト 、 か  '], [' 惜しい な 。 焦っ た ね  ', ' 負け だ  '], [' ん ー ！  ', ' し ゃぁないなぁ  '], [' ―― ――  ', ' ―― ヴィルヘルム さん ？  '], [' いや 、 ない な  ', ' ない の よ  '], [' ―― ――  ', ' ―― ――  '], [' … … スバル 殿 ？  ', ' ―― ――  '], [' ―― ラインハルト  ', ' ―― ――  '], [' ―― ――  ', ' ―― ――  '], [' その 、 だ な … …  ', ' はい 、 なん でしょ う か  '], [' なん の つもり だ よ  ', ' 見 て の 通り だ  '], [' ス・バ・ル  ', ' スバル の エッチ  '], [' 感動 し まし た  ', ' 次 も 見 に き ます  '], [' ふざける な  ', ' ―― ――  '], [' 万雷 の ！ 拍手 を ！  ', ' ―― ―― ！  '], [' ―― ――  ', ' ぶ … …  '], [' ―― 気持ち 悪い  ', ' ―― ―― っ  '], [' ―― ――  ', ' ―― ――  '], [' ―― ――  ', ' ―― ――  '], [' う 、 ら ぁ ！  ', ' う 、 き ゃんっ ！  '], [' がっ つ ぉ ！ ？  ', ' っ だ ぁ ？  '], [' 鎖 か 、 厄介 だ な  ', ' ふふふ っ ！  '], [' ラインハルト ！ ！  ', ' ―― 殺せ ！ ！  '], [' ―― ――  ', ' ―― ――  '], [' ―― きた ！  ', ' ―― ――  '], [' ウル・ヒューマ ！ ！  ', ' え 、 エミ リア たん ？  '], [' … … し くっ た かしら  ', ' なに ？  '], [' ―― ち ぃっ ！  ', ' クソ 半 魔 ぁ ！  '], [' ―― クソ 虫 が  ', ' や べ  '], [' あっ ぶっ ！ ！  ', ' 蛆 蝿 が ぁ ！  '], [' ベア 子 ！  ', ' シャマク ！ ！  '], [' スバル ！ ！  ', ' ご ぇ ―― っ  '], [' ―― う 、 ぁ ！ ？  ', ' エミ リア ！ ？  '], [' ―― ――  ', ' ―― え  '], [' 動けよ ぉ 、 足 ぃっ ！  ', ' ん ん ん ～～！ '], [' えみ 、 り あ … …  ', ' お前 は … …  '], [' ―― ――  ', ' スバル  '], [' ベア トリス  ', ' わかっ てる の よ  '], [' 手応え が ねぇ ！  ', ' くる かしら ！ ！  '], [' お前 死ね  ', ' 死ん だ 方 が いい かしら  '], [' … … なに ？  ', ' どら ぁ ！  '], [' ―― っ  ', ' チャージ まだ かしら ！  '], [' うわっ ！ ？  ', ' … … 何 の つもり ？  '], [' ―― つけ た  ', ' ―― ？  '], [' … … ベア 子  ', ' どっち でも 、 いける の よ  '], [' ―― おっ と  ', ' … … ッ  '], [' あれ は … …  ', ' ―― ――  '], [' 考え た ん だ けど さ  ', ' ―― ！ ？  '], [' ベア トリス は ？  ', ' … … ベア トリス ちゃん  '], [' ―― ――  ', ' ベア トリス … … っ  '], [' 悪い 。 ありがとう  ', ' ええ ねん ええ ねん  '], [' ―― ――  ', ' 待ち や 、 リカード ！  '], [' ガーフィール ！ ？  ', ' ―― ――  '], [' きゃー っ  ', ' ―― ――  '], [' 即答 か よ ッ ！  ', ' … … は ァ  '], [' ガーフ 、 あれ ！  ', ' あ ァ ？  '], [' す 、 すげ ー ！  ', ' かっ ちょい ー ！  '], [' ゴージャス ！  ', ' タイガー ！ ！  '], [' ゴージャス ・ タイガー ！  ', ' お ォ よ ！  '], [' あ ァ ？  ', ' 悪 ィ 悪 ィ  '], [' お に ー さん ！  ', ' ―― フレド ！  '], [' ―― ――  ', ' ガーフ ？  '], [' ―― ――  ', ' お か ー さん  '], [' 不審 者 よっ  ', ' ええ ？  '], [' ―― ――  ', ' 俺 様 、 は … …  '], [' ―― ！ ？  ', ' リアラ 、 どうして … …  '], [' ―― ――  ', ' おい 、 ちび っ子 … …  '], [' ―― と ー や ！  ', ' ―― ！ ？  '], [' よーし よし  ', ' ―― ――  '], [' ―― ひ ゃっ  ', ' う ー う ー  '], [' あ ァ 、 うめ ェ なァ  ', ' ガーフ ？  '], [' ―― ――  ', ' 魔女 教 … … っ ！  '], [' ああ 、 ゴージャス さん ！  ', ' ―― っ  '], [' ―― ありがとう  ', ' どい た し まして ー ！  '], [' ん ー 、 ん ー  ', ' あん だ よ  '], [' ガーフ ―― ッ ！ ！  ', ' ―― ！ ？  '], [' ―― ッ  ', ' ―― ――  '], [' ―― ――  ', ' ―― ――  '], [' ―― ッ ら ァ ！  ', ' とりゃ ー っ ！  '], [' ―― が ァ ！  ', ' なん だ ァ ？  '], [' ここ で 一つ ―― ！  ', ' もら ―― っ  '], [' あ 、 がっ ！ ？  ', ' ―― ――  '], [' ―― ――  ', ' ―― ――  '], [' ガァァァァァッ ！ ！  ', ' ご っ 、 ぇ ッ  '], [' ―― ――  ', ' ―― ――  '], [' ―― ――  ', ' ―― は ァッ  '], [' が 、 ァァァァァ ―― ！  ', ' ―― ――  '], [' ―― ――  ', ' ―― ――  '], [' ―― ッ ！ ？  ', ' ―― ――  '], [' ―― ぉ 、 ガォォォォッ ！  ', ' ―― ――  '], [' ―― ――  ', ' ―― ぁ  '], [' ―― ――  ', ' え ？  '], [' ちび っ子 ？  ', ' ―― ――  '], [' ―― ――  ', ' なん 、 で だ … …  '], [' ―― ――  ', ' ―― ――  '], [' クルシュ 様 … …  ', ' はい はい 、 ほんなら まとめよ か  '], [' 脇の下 です か な  ', ' それから 光り輝く もの と  '], [' ―― いき ます ！  ', ' やっ た か ！ ？  '], [' こ ォ れ で ！  ', ' ―― しっ ！  '], [' し まい やぁ ！ ！  ', ' ―― ――  '], [' なァ ！ ？  ', ' ―― ――  '], [' なん や と ！ ？  ', ' ―― ――  '], [' ―― ――  ', ' 合成 魔法 、 フェイル・ゴーア ！  '], [' 当たっ て ！  ', ' お願い ！  '], [' あ あん ？  ', ' ―― ――  '], [' さ せ ぬ ！  ', ' ―― ――  '], [' ―― ――  ', ' おおお おお ―― ！ ！  '], [' ―― ――  ', ' あかん 、 そろそろ 動か れる で  '], [' え  ', ' スバル 様 ！  '], [' ―― ――  ', ' 放送 室 は ！ ？  '], [' ―― う ぁ ！  ', ' あ 、 ぅ ！  '], [' 行き たまえ ！  ', ' ―― クソ ！  '], [' ―― ？  ', ' ―― ッ ！  '], [' っ ら ぁ ―― ッ ！  ', ' なあ ！ ？  '], [' ―― ―― っ  ', ' クルシュ さん ！  '], [' はい ！  ', ' おおお が ああ ああ ！ ！  '], [' ―― ――  ', ' スバル 様 ？  '], [' ―― ――  ', ' ―― ――  '], [' ―― ――  ', ' ―― ――  '], [' ―― ――  ', ' ―― ――  '], [' ―― ――  ', ' ―― ――  '], [' ―― ――  ', ' ―― ――  '], [' ―― ――  ', ' ―― ――  '], [' ―― ――  ', ' ―― ――  '], [' ―― ――  ', ' ―― ――  '], [' ―― ――  ', ' ―― ――  '], [' ―― ――  ', ' ―― ――  '], [' ―― ――  ', ' ―― ――  '], [' ―― ――  ', ' ―― ――  '], [' ―― ――  ', ' ―― ――  '], [' ―― ――  ', ' ―― ――  '], [' ―― ――  ', ' ―― ――  '], [' ―― ――  ', ' ―― ――  '], [' ―― ――  ', ' ―― ――  '], [' ―― ――  ', ' ―― ――  '], [' ―― ――  ', ' ―― ――  '], [' ―― ――  ', ' ―― ――  '], [' ―― ――  ', ' ―― ――  '], [' ―― ――  ', ' ―― ――  '], [' ―― ――  ', ' ―― ――  '], [' ―― ――  ', ' ―― ――  '], [' ―― ――  ', ' ―― ――  '], [' ―― ――  ', ' ―― ――  '], [' ―― ――  ', ' ―― ――  '], [' ―― ――  ', ' ―― ――  '], [' ―― ――  ', ' ―― ――  '], [' ―― ――  ', ' ―― ――  '], [' ―― ――  ', ' ―― ――  '], [' ―― ――  ', ' ―― ――  '], [' ―― ――  ', ' ―― ――  '], [' ―― ――  ', ' ―― ――  '], [' ―― ――  ', ' ―― ――  '], [' ―― ――  ', ' ―― ――  '], [' ―― ――  ', ' ―― だ 、 これ  '], [' ―― ああ あ ！ ！  ', ' ―― ―― ッ ！  '], [' ―― ――  ', ' おっ と ぉ ？  '], [' しっ ！  ', ' 当たれ ！  '], [' いい です よー  ', ' なぁ ！ ？  '], [' ―― ――  ', ' ―― ぁ ？  '], [' ―― ――  ', ' ―― い 、 役立た ず ！  '], [' スバル 、 改めて 確かめ たい  ', ' … … … …  '], [' … … 俺 の せい だ  ', ' スバル 、 それ は  '], [' … … そう だ  ', ' ―― ――  '], [' 内容 次第  ', ' せ やろ なぁ … …  '], [' ―― っ ！  ', ' っと 、 待て って ！  '], [' 大将 … …  ', ' ―― ――  '], [' ―― ――  ', ' ―― ――  '], [' お 姉ちゃん … …  ', ' ―― やぁ  '], [' … … ぇ ？  ', ' ―― ――  '], [' ―― ――  ', ' … … や だ 、 よ  '], [' お 、 姉ちゃん … …  ', ' フレド … …  '], [' ―― ――  ', ' … … ち が 、 う  '], [' ―― 違う ！  ', ' 違う ！  '], [' ―― ―― ！  ', ' ―― ――  '], [' … … はぁ 、 しんどかっ た  ', ' ―― ――  '], [' ラインハルト  ', ' … … なん だい  '], [' ぴぃっ ！ ？  ', ' お前 、 リリアナ か ！ ？  '], [' そこ な 貴様 、 動く な  ', ' ―― っ  '], [' オットー 、 ちょっと いい か ？  ', ' はい 、 いい です よ  '], [' ふ 、 ぅ … … ？  ', ' ぐっ ！ ？  '], [' ―― ぐ 、 ぅ ！  ', ' が 、 ぁぁぁぁ ！ ？  '], [' ―― 手 ？  ', ' いや 、 でも … …  '], [' そう 言っ た じゃろ う  ', ' 言っ て ねぇ よ ！  '], [' ―― ―― ？  ', ' ふ が ふ が ？  '], [' レム … …  ', ' スバル くん … …  '], [' ―― うぅ ー  ', ' 恵方 巻 退避 ！  '], [' お 布団 セット ！  ', ' スピカセット ！  '], [' ―― ――  ', ' ぁ ー  '], [' ―― ――  ', ' ―― ――  '], [' ―― ――  ', ' ぁ ー  '], [' 捕まっ ちゃう ん です か  ', ' 捕まえ ちゃう わけ です よ  '], [' あむ  ', ' ―― ！ ？  '], [' 残念 、 弾か れ た ！  ', ' 弾く な よ ！  '], [' 正直 、 僕 は 反対 です  ', ' … … ラインハルト  '], [' ―― ぁ  ', ' あなた は … … ？  '], [' ―― ――  ', ' ここ 、 どこ な の ？  '], [' ええ … …  ', ' こちら へ  '], [' また 、 ショジョ の お話 ？  ', ' でも 、 動き にく そうね  '], [' ああ 、 そう し て ほしい  ', ' ―― 危ない ！  '], [' え ？  ', ' ―― ――  '], [' ―― ――  ', ' ―― ――  '], [' … … ？  ', ' これ は ね  '], [' そこ まで だ  ', ' ―― ――  '], [' 一撃 、 か  ', ' わかっ た 。 受けよ う  '], [' なん ―― っ  ', ' ―― 『 不死鳥 の 加護 』  '], [' ―― スバル  ', ' わかっ てる  '], [' 何 を … …  ', ' まさか … …  '], [' ラインハルト ！  ', ' ―― っ ！  '], [' 水 竜 ―― ！  ', ' ―― っ  '], [' スバル 、 僕 の 剣 を  ', ' お 、 おお … …  '], [' さて 、 と  ', ' ―― ―― ！  '], [' ―― ――  ', ' ユリウス  '], [' し ぃぃぃぃっ ！  ', ' ―― ――  '], [' ―― ぬ ぅ ッ  ', ' ぐ 、 ぶ  '], [' ―― ――  ', ' 舐める なぁ ッ ！ ！  '], [' ぬ ぅぅぅっ ！  ', ' ―― ッ  '], [' ―― ――  ', ' ―― ――  '], [' ―― ふ  ', ' お ぉぉぉぉぉ ッ ―― ！ ！  '], [' ―― ――  ', ' ―― ――  '], [' ―― っ だろ  ', ' ―― ――  '], [' ―― ぶ ぁ ッ  ', ' ―― ぁ  '], [' おおお おお ―― っ ！ ！  ', ' ―― っ ！  '], [' く ぁ ッ ！ ？  ', ' 試さ せ て もらう よ  '], [' ―― ！ ？  ', ' いったい 何 を ―― ！  '], [' 星 の 、 名前 だ  ', ' スバル ？  '], [' リカード ！ ！  ', ' ―― っ  '], [' 絶 掌  ', ' 逢 魔術 師  '], [' 双 剣 の 蛇  ', ' ―― ――  '], [' こういう こと です ―― ！  ', ' ―― ―― ッ ！ ！  '], [' キリ タカ さん ！  ', ' ―― 武運 を 祈る ！  '], [' はぁ ？  ', ' ―― ――  '], [' ―― ――  ', ' ぷは ァ ！  '], [' お 、 ぉぉぉぉぉ ッ ！  ', ' ―― ――  '], [' ―― ――  ', ' ―― ぁ  '], [' か  ', ' ご ぉぁ ッ ！  '], [' いっそ … …  ', ' ここ で … …  '], [' … … そんな わけ 、 ねェ  ', ' ―― く は  '], [' ―― ――  ', ' お 、 ォォォ ！  '], [' ―― ――  ', ' が 、 ァァァァァ ！ ！  '], [' ―― ――  ', ' が 、 ォ … … ッ  '], [' ぉ 、 ぉぉぉ 、 ォォォォォン ！  ', ' ―― ――  '], [' ―― ――  ', ' ―― ぅ  '], [' おっ は ー ！  ', ' あいあい 、 おっ はおっ は  '], [' あ 、 ベア トリス ちゃーん ！  ', ' ペ トラ かしら  '], [' む ー  ', ' ぶ ー かしら  '], [' ぐは ァ ！  ', ' が 、 ガーフィール ―― ！ ！  '], [' うい っす 、 生徒 会長  ', ' おはよう ござい ます 、 クルシュ さん  '], [' げ  ', ' ユリウス 先輩 、 ち ー っす  '], [' は ？  ', ' 青い 山脈 レシーブ ！  '], [' ふん がっ ！  ', ' し ー ！  '], [' ―― 起立  ', ' 礼  '], [' ―― おはよう ござい ます ！  ', ' 着席  '], [' 私 も 、 嫌い  ', ' 嫌い だっ た  '], [' ずっと 嫌 だっ た  ', ' 嫌い 、 本当に 嫌い  '], [' どう かし てる  ', ' 頭 が おかしい  '], [' 誰 が 好き に なる の  ', ' 自分 が 好き な だけ  '], [' でも ダメ だっ た  ', ' 嫌い  '], [' 死ね ば いい のに  ', ' 大 っ 嫌い  '], [' 喋り 方 が 嫌  ', ' 歩き 方 が 嫌  '], [' 性格 が 嫌  ', ' 人間 性 が 愛せ ない  '], [' 昨日 より 嫌い  ', ' 明日 の 方 が 嫌い  '], [' 気持ち 悪い  ', ' 変態  '], [' 頭 が 子ども  ', ' 子ども 以下  '], [' 地 竜 の 方 が マシ  ', ' 比較 対象 が ない  '], [' 生理 的 に 無理  ', ' 嫌い 嫌い 嫌い  '], [' 最悪  ', ' 最低 すぎる  '], [' 心 が 死ん で いく  ', ' 家族 の 仇  '], [' 腸 が 腐れ ば いい のに  ', ' 私 の 恋人 を 返し て  '], [' 心臓 、 心臓 … …  ', ' ―― ――  '], [' ん … …  ', ' え ？  '], [' ね 、 ちょっと いい ？  ', ' どう し た の ？  '], [' あなた の 、 心臓 の 鼓動  ', ' ―― ！  '], [' ―― ッッッ ！  ', ' っと ぉ ！  '], [' ごめんなさい 。 違う の  ', ' え … … ？  '], [' ありがとう  ', ' ―― っ  '], [' エミ リア  ', ' ―― ――  '], [' エミ リア  ', ' うん  '], [' 余裕 だ けど ？  ', ' ―― ――  '], [' スバル  ', ' ―― ――  '], [' はぁ ！ ？  ', ' ―― ――  '], [' ―― ――  ', ' ―― ――  '], [' っ ぶ はぁ ！  ', ' スバル ！  '], [' あ … …  ', ' 生き てる 、 よ な ？  '], [' 足下 、 濡れ てる ぞ  ', ' ―― ？  '], [' やっ た 。 やっと 当たる  ', ' お ま 、 お前 ―― ！  '], [' アイスブランド・アーツ ！  ', ' ご ぼっ ！  '], [' ―― ―― ッ ！ ！  ', ' ら ―― ァ ！ ！  '], [' ぶ ぉえ ―― ッ ！ ？  ', ' ぁ 、 ぁぉ … …  '], [' ぉ 、 ぁぁぅ … …  ', ' ぇぉ 、 ぅっ  '], [' ―― ――  ', ' ぁ 、 ひひ っ  '], [' ―― ？  ', ' ぁ 、 ぅ 、 ぉあ ？  '], [' スバル  ', ' ―― ――  '], [' あー もう 、 うっ さい なぁ  ', ' ―― ！ ？  '], [' 刺せ ―― ！  ', ' う 、 ああ あ ！ ！  '], [' は 、 は ぁっ  ', ' ぐ 、 ご ほっ  '], [' 戻れ ねぇ よ  ', ' ―― ――  '], [' ―― し ぃ ！  ', ' ぎ 、 ぃぃぃぃん ！  '], [' ―― ぅ  ', ' け ほっ 、 け ほっ  '], [' ―― っ  ', ' … … ぁ  '], [' お 、 ォォォォォ ！ ！  ', ' ―― ――  '], [' ―― ゴージャス ・ タイガー ！  ', ' あ ァ … … ？  '], [' ―― ――  ', ' ご 、 ゴージャス ・ タイガー ！  '], [' 戦っ て 、 勝っ て ！  ', ' 負け ない で ！  '], [' ―― ぉ 、 ォォォン ！ ！  ', ' ―― ――  '], [' ―― ――  ', ' あ ァ ―― すっきり し た  '], [' ―― ッッ ！ ！  ', ' ―― ァァァッ  '], [' ―― ぁぁ 、 が  ', ' が 、 ァォォォ ―― ッ ！  '], [' ―― ――  ', ' ―― ぁ  '], [' ―― ――  ', ' ―― 見事  '], [' え ？  ', ' それ って どういう こと ？  '], [' ―― ほう  ', ' ぎゃひっ ！  '], [' あれ … … なん でしょ  ', ' … … くる な  '], [' はぁ  ', ' ―― ここ じゃ な  '], [' ―― ――  ', ' ―― ――  '], [' ―― ――  ', ' ―― っ ！ ？  '], [' ―― 死ぬ が いい  ', ' ―― ぇ ？  '], [' ぎ 、 ぃぃぃぃっっっ ！  ', ' ―― ぐ 、 ぎっ  '], [' 帰り たい … …  ', ' ―― ぁ  '], [' げ  ', ' あら まぁ  '], [' ―― ――  ', ' ―― ――  '], [' ―― ――  ', ' ―― ――  '], [' ―― ――  ', ' ―― ッ ！  '], [' ―― ――  ', ' ―― ――  '], [' 消し飛べ ―― ッ ！ ！  ', ' ―― ――  '], [' ―― ――  ', ' ―― とくと 喰らえ  '], [' るる る ぅぅぅぁぁぁあああ ！  ', ' ち ぃ ッ ！  '], [' 俗物 が  ', ' ―― ――  '], [' ん ～～ っ ！  ', ' ―― あら 、 ら ？  '], [' い ーー 、 え ーー  ', ' お ーー 、 お ーー  '], [' 拳 王 の 掌 ――  ', ' お 、 ご ぇ ！ ？  '], [' ガストン ！  ', ' ―― エル ・ ヒューマ  '], [' アスタ 。 ルック フェルト 。 ヒックス  ', ' ぺろり  '], [' ベネット 。 カルシフス 。 アウグスト  ', ' ―― ！ ？  '], [' ―― っ ！  ', ' う あ ああ ―― ！  '], [' は ァ ？  ', ' ぐえっ 、 ご ほっ ！  '], [' ―― ッ ！  ', ' 嘘 な の よ  '], [' う おお お ！  ', ' これ でも 食らえ ！  '], [' あぶ ね … … ぐえ ！  ', ' すまん ！  '], [' ぎ 、 ォォ ！  ', ' 商人 ！  '], [' ―― ッ ！  ', ' ―― ―― ！  '], [' やっ た か ！ ？  ', ' やり まし た か ！ ？  '], [' ―― ！  ', ' ―― ムラク ！  '], [' 小細工 し た ところ で ――  ', ' ―― ――  '], [' 今度 こそ 終わり だ ！  ', ' ―― ――  '], [' ―― お ？  ', ' く 、 あ ！ ？  '], [' … … ぁ  ', ' ―― ――  '], [' しくじん な よ 、 チビッ 子  ', ' お前 こそ かしら 、 チビ  '], [' シャマク ！ ！  ', ' もが ァ ―― ！ ？  '], [' いっ け ―― っ ！ ！  ', ' な ―― ッ ！ ？  '], [' ―― ――  ', ' だが ――  '], [' ―― ――  ', ' ぢ 、 ぁぁぁぁ ！ ！  '], [' ―― ――  ', ' ―― ――  '], [' る 、 ぉぉぉぉ ！  ', ' ―― ――  '], [' ―― ッ  ', ' ―― ――  '], [' テレシア ―― ッ ！ ！  ', ' ―― ッ ！  '], [' ―― ――  ', ' ―― 親父 ？  '], [' ―― ッ  ', ' ―― ――  '], [' く … … っ  ', ' ―― っ ！ ？  '], [' ―― ――  ', ' ―― ――  '], [' ―― ――  ', ' ―― ――  '], [' ぐ 、 ぅ … … っ  ', ' ―― ――  '], [' … … 無念  ', ' ―― ――  '], [' テレシア 、 私 は … …  ', ' ―― ――  '], [' テレシア ―― ！ ！  ', ' ―― そこ まで だ  '], [' ―― ラインハルト  ', ' ―― ――  '], [' ―― ――  ', ' ―― ――  '], [' やめろ ―― ッ ！  ', ' ―― ――  '], [' 剣 を 持ち なさい 、 テレシア  ', ' ―― ――  '], [' ―― ――  ', ' バカ みたい … …  '], [' … … バカ 、 みたい  ', ' ヴィルヘルム・トリアス だ  '], [' いや 、 嫌い だ  ', ' どうして 剣 を 振る の ？  '], [' ―― ――  ', ' ヴィルヘルム … …  '], [' ―― ――  ', ' ―― いか なきゃ  '], [' テレシア 様 ！ ？  ', ' 死に たく 、 ない … …  '], [' ―― ――  ', ' ―― ――  '], [' ―― ――  ', ' テレシア 様 … … っ  '], [' ―― ――  ', ' 屈辱 だ  '], [' 功績 なんて … …  ', ' ―― ――  '], [' ―― ――  ', ' ―― ――  '], [' ―― っ  ', ' ―― ――  '], [' ―― ――  ', ' 俺 の  '], [' ―― ――  ', ' 俺 の 、 勝ち だ  '], [' そう だ  ', ' 守っ て くれる の ？  '], [' そう だ  ', ' 花 は 、 好き ？  '], [' ―― わかれ  ', ' やれやれ  '], [' ―― ――  ', ' … … ぁ  '], [' テレシア  ', ' ―― ん  '], [' テレシア … … 何 を ？  ', ' テレシア ？  '], [' 愛し て いる わ 、 ヴィルヘルム  ', ' ―― ――  '], [' ―― ――  ', ' ―― ？  '], [' 加護 が … …  ', ' ラインハルト ―― ！  '], [' ヴィルヘルム  ', ' 情けない 、 顔 … …  '], [' ―― ――  ', ' テレシア 、 私 は … …  '], [' ね 、 ヴィルヘルム … …  ', ' ―― ――  '], [' 私 は 、 お前 を ――  ', ' あなた は 、 私 を ――  '], [' ―― 愛し てる  ', ' ―― ――  '], [' ―― 触る な ！ ！  ', ' ―― ――  '], [' ラインハルト … …  ', ' ―― はい  '], [' わかっ てる わかっ てる って  ', ' ベア トリス  '], [' ―― スバル 殿 です か  ', ' … … はい 、 そう です  '], [' そんな こと ！  ', ' ―― ――  '], [' ヴィルヘルム さん 。 お疲れ様 でし た  ', ' ―― ――  '], [' はい ？  ', ' いえ  '], [' うん 、 わかっ てる  ', ' ナツキ さん 、 こっち です  '], [' けっ  ', ' 素直 じゃ ない 奴ら かしら  '], [' アイスブランド・アーツ ！  ', ' か ―― ふっ  '], [' お 、 お … … ？  ', ' スバル は 大 馬鹿 かしら  '], [' ―― ――  ', ' … … 待て  '], [' おい ？  ', ' 教え て … …  '], [' ―― あ ？  ', ' おい 、 ユリ ――  '], [' ―― ――  ', ' は ？  '], [' ―― ――  ', ' ベア トリス … …  '], [' ―― 賢者 シャウラ  ', ' あん ？  '], [' ―― ！ ？  ', ' 確か に  '], [' これ だ よ  ', ' です が … …  '], [' ―― じゃあ 、 始める わ ね  ', ' ―― ――  '], [' ―― ――  ', ' … … 辛い な  '], [' さい です か  ', ' ―― ――  '], [' なん でも ねぇ よ  ', ' ―― ――  '], [' 君 か 、 スバル  ', ' 俺 で 悪い か  '], [' ―― ――  ', ' ふ 、 は は … …  '], [' ―― 異議 あり ！ ！  ', ' え ！ ？  '], [' じゃあ … … ？  ', ' 決まっ てる だろ ？  '], [' え  ', ' すま ない  '], [' バルス の くせ に 、 うるさい  ', ' ぐあっ ！  '], [' ―― ？  ', ' どうか し た ？  '], [' ―― ありがとう 、 スバル くん  ', ' お  '], [' 時に 、 ナツキ くん  ', ' ん ？  '], [' スバル ！  ', ' ―― っ ！  '], [' ―― あ ァ ？  ', ' ―― ――  '], [' ―― ん  ', ' ―― ――  '], [' ―― ―― ', ''], ['知ら ない が ―― 、 ', ''], [' 惚れ ねェ  ', ' そっ か ー 、 ザンネン  '], [' ―― ――  ', ' あん だって ？  '], [' … … 母さん  ', ' ―― ――  '], [' ―― ぁ  ', ' ガーフィール 、 おいで  '], [' 惚れ ねェ  ', ' そっ か ー  '], [' ゴージャス ・ タイガー 、 また ね  ', ' ―― ――  '], [' ―― ――  ', ' ―― ――  '], [' 惚れ ねェ  ', ' そっ か ー  '], [' ―― ？  ', ' ―― ――  '], [' ―― ――  ', ' スバル ！  '], [' メィリィ  ', ' 聞こえ ない わあ  '], [' メィリィ って ば  ', ' 知ら ない もぉ ん  '], [' ん ん ？  ', ' え いっ  '], [' ―― ――  ', ' だけど  '], [' ―― 痛い  ', ' ―― ッ ！ ？  '], [' ほ ー  ', ' ふわ … …  '], [' 注文 は ？  ', ' ミルク 、 冷たい の  '], [' ミルク 、 あったかい の  ', ' ―― ――  '], [' 頼もしい 限り や ない の  ', ' それで ？  '], [' そう しよ か  ', ' プレアデス 監視 塔  '], [' どうどう  ', ' お 、 わっ と ！  '], [' ―― ――  ', ' ―― ――  '], [' 順路 が 見え ない ？  ', ' 気付か なかっ た の かい ？  '], [' ―― ――  ', ' ―― ――  '], [' ―― ――  ', ' ―― ユリウス  '], [' … … 万歳 かしら  ', ' ―― お 兄さん  '], [' ―― ――  ', ' … … なん だ 、 あれ  '], [' ―― ――  ', ' 乗る の よ  '], [' ―― ――  ', ' ―― ――  '], [' ―― っ  ', ' ―― ――  '], [' ―― ――  ', ' どい て  '], [' どい て  ', ' ―― ――  '], [' ―― ――  ', ' ―― っ  '], [' ―― ――  ', ' ふ  '], [' … … ぅ  ', ' ―― ――  '], [' ―― っ  ', ' ―― ？  '], [' ―― ――  ', ' ―― ――  '], [' し ――  ', ' ちっ ちっ ち  '], [' ―― ―― ッ ！ ！  ', ' しま ―― っ  '], [' ―― エル ・ ヒューマ ！ ！  ', ' 走れ ―― ！ ！  '], [' この まま ――  ', ' ―― ？  '], [' なん … …  ', ' ―― ――  '], [' ―― ――  ', ' ―― ちっ ちっ ち  '], [' ―― っ  ', ' … … ぁ ？  '], [' ちっ ちっ ちっ ち  ', ' ―― っ  '], [' ゆり … …  ', ' ―― ―― ッ ！ ！  '], [' ぁ 、 ふ … …  ', ' ―― バル ！ スバル ！  '], [' スバル ？  ', ' す ば ――  '], [' ―― ――  ', ' ぁ  '], [' こ 、 ぉ  ', ' ―― ――  '], [' ―― ――  ', ' ちっ ちっ ちっ ち  '], [' ―― ？  ', ' ―― ――  '], [' ―― ――  ', ' ―― ――  '], [' ―― ――  ', ' 一 人 に し ない で  '], [' ベア 子 、 愛し てる  ', ' ―― っ ！ ？  '], [' ―― ――  ', ' ―― うん ？  '], [' そ ゆこ と ！  ', ' そう か  '], [' ―― ！ ？  ', ' ―― っ ！ ？  '], [' ―― ――  ', ' ―― Ｅ ・ Ｍ ・ Ｍ  '], [' カツ カツ な の よ ！  ', ' やれる か ！ ？  '], [' 光っ ――  ', ' 止まっ て ―― っ ！  '], [' ―― ――  ', ' これ は … …  '], [' あ ―― ？  ', ' しまっ た かしら ！  '], [' これ は ――  ', ' ―― ――  '], [' ―― ――  ', ' ―― 見つけ た  '], [' ―― ――  ', ' ―― ――  '], [' 針 だっ た わ  ', ' 針 ？  '], [' ―― ―― っ  ', ' パトラッシュ ？  '], [' ―― ――  ', ' な ―― ！ ？  '], [' ―― ―― ッ ！ ！  ', ' ―― ―― ッ ！ ！  '], [' … … 化け物 だ  ', ' ―― ――  '], [' か ふ ――  ', ' ―― ぉ ッ  '], [' ―― ――  ', ' ―― ――  '], [' ―― ぁ  ', ' 情けない 顔  '], [' … … ラム  ', ' なに ？  '], [' ―― ――  ', ' ナツキ くん ？  '], [' 体 が 、 重い … …  ', ' ―― ――  '], [' バルス  ', ' お 、 どう し た ？  '], [' うるさい  ', ' あ 、 おう … …  '], [' ラム ？  ', ' ラム ？  '], [' ―― ――  ', ' な ？  '], [' ―― く 、 あ ！ ？  ', ' ふざける な  '], [' ―― ぅ  ', ' … … ぁ 、 ぅ  '], [' ―― ――  ', ' ―― インビジブル・プロヴィデンス  '], [' … … ら  ', ' な 、 ぁ ！ ？  '], [' は 、 ぁ ？  ', ' お前 、 なんで … … ！  '], [' ナツキ くん ？  ', ' ―― ――  '], [' いや 、 なん でも ねぇ よ  ', ' ―― ――  '], [' ほんなら … …  ', ' え ？  '], [' く 、 そ … …  ', ' インビジブル・プロヴィデン … … ！ ？  '], [' ―― ――  ', ' あ … … ぁ  '], [' パトラッシュ ？  ', ' ―― ――  '], [' ―― ――  ', ' パトラッシュ ？  '], [' ―― ――  ', ' ―― ――  '], [' ひ  ', ' ―― やめ  '], [' ―― ――  ', ' 俺 、 は … …  '], [' ―― ――  ', ' うぶ … … っ  '], [' バルス ？  ', ' ―― ――  '], [' 四 人 、 ね  ', ' ―― ――  '], [' ―― ――  ', ' ―― ――  '], [' ―― ――  ', ' … … いや らしい  '], [' 忌々しい って … … アホ か  ', ' 何 か 言っ た ？  '], [' 面白い … … ？  ', ' そ  '], [' ―― ―― ッ ！ ！  ', ' ―― ―― ッ ！ ！  '], [' ―― ――  ', ' ―― ――  '], [' ―― ――  ', ' ―― ――  '], [' ―― ――  ', ' ―― ――  '], [' ―― ！ ？  ', ' ―― う  '], [' ―― ――  ', ' ―― ――  '], [' ―― っ ！  ', ' ―― ――  '], [' 自分 の 、 鳴き声 … …  ', ' バルス 、 反響 ――  '], [' ―― ―― っ ！  ', ' う お ！ わっ ！  '], [' ―― ――  ', ' ―― インビジブル・プロヴィデンス  '], [' ―― ―― ッ ！  ', ' ―― ――  '], [' ―― ―― ッ ！ ！  ', ' ―― エル ・ フーラ ！ ！  '], [' ―― ぉ  ', ' ―― インビジブル・プロヴィデンス ぅ ！ ！  '], [' ―― ―― ッ ！ ！  ', ' ぁ 、 ぅ … …  '], [' ―― ――  ', ' … … ど 、 ぅして  '], [' ―― レム が 、 泣く もの  ', ' ―― ――  '], [' ―― ――  ', ' ―― ――  '], [' ―― ―― ！ ！  ', ' ―― ッ ！ ？  '], [' ―― ――  ', ' ―― ――  '], [' ―― ―― ッ ！ ！  ', ' ―― ――  '], [' ―― ――  ', ' ―― ――  '], [' ―― ――  ', ' ―― ――  '], [' … … なに ？  ', ' 今 、 なん てっ た ？  '], [' ―― ――  ', ' ―― ――  '], [' … … 三つ  ', ' へ ？  '], [' ええ 、 と ？  ', ' ―― お 師 様  '], [' そこ 謝ん だ ！ ？  ', ' き ゅ ー  '], [' 臭い ッス  ', ' ―― ――  '], [' ―― ――  ', ' ―― ――  '], [' 名前 は レイド と ボルカニカ よ  ', ' う げ ぇ ッス  '], [' ―― ――  ', ' 当たり前 ッス  '], [' フリューゲル  ', ' … … あ ？  '], [' え ？  ', ' そう よ ね  '], [' … … 書庫 ？  ', ' そ ッス  '], [' さあ ？  ', ' さあ ！ ？  '], [' さあ  ', ' だって ～ '], [' ―― ――  ', ' スコーピオンテールッス  '], [' ―― ――  ', ' お 師 様 ？  '], [' う ぜ ぇ … … ！  ', ' あう ー  '], [' お 師 様  ', ' ん ？  '], [' こ ない の ？ バルス  ', ' … … いくよ 、 俺 も  '], [' ふ 、 うん  ', ' どうか し た の ？  '], [' じゃ 、 いっ て くる  ', ' ―― ――  '], [' 用事 って いう と ？  ', ' 乙女 の 秘密 ッス  '], [' その 意気 な の よ  ', ' その 意気 ッス  '], [' ここ は … …  ', ' 石板 … … か ？  '], [' ゼロ ―― ！  ', ' ―― っ ！ ？  '], [' ―― ――  ', ' どう し た の お ？  '], [' ひ ぃぃぃぃぃっ ！ ！  ', ' きゃ あっ ！  '], [' ん ー 。 ん ん ー  ', ' エミ リア ？  '], [' モノ リス を 見下ろす … …  ', ' ムラク 、 な の よ  '], [' よ 、 っと ！  ', ' ―― 思っ た 通り だ  '], [' オリオン … … ？  ', ' 知ら ない ッス ！  '], [' ―― ――  ', ' … … おお  '], [' … … ？  ', ' ―― ――  '], [' ―― ――  ', ' ―― 処刑 人  '], [' ―― ――  ', ' ―― ――  '], [' ―― ――  ', ' ―― ――  '], [' づぁ ―― ッ ！ ！  ', ' スバル ！  '], [' ―― はっ ！  ', ' お 、 おぉ ？  '], [' ―― へえ 、 宝石  ', ' 宝石 か … …  '], [' そんな の … …  ', ' ―― ――  '], [' … … ん ん ？  ', ' ちょっと いい ？  '], [' ―― ――  ', ' ひで ぇな 、 これ は ！  '], [' … … 母ちゃん ？  ', ' ―― ――  '], [' ―― ――  ', ' これ って … …  '], [' ―― ――  ', ' … … 重い  '], [' 怖い 、 です か ？  ', ' あんな ？  '], [' ひ ょい  ', ' ん ぎゃ ッス ！  '], [' 皮肉 だ よ ！  ', ' あー しも ッス ！  '], [' ―― ――  ', ' むちゅ ー  '], [' ん ぎゃ ー かしら ！ ？  ', ' 動揺 し すぎ だろ … …  '], [' ぁ 、 あー  ', ' ふ ぁ  '], [' ―― ――  ', ' ―― ――  '], [' ―― ――  ', ' ―― ――  '], [' ―― ――  ', ' ―― ――  '], [' 続ける かい ？  ', ' ―― ぁ 、 ぉ  '], [' 期待 し て いる よ  ', ' ―― けっ  '], [' ―― ――  ', ' うるさい  '], [' ―― ――  ', ' なぁ 、 ベア 子 … …  '], [' ―― ――  ', ' ロズワール 、 か  '], [' ―― ――  ', ' … … エキドナ  '], [' 嘘  ', ' ―― ベア トリス でしょ う  '], [' 黙れ  ', ' ―― え ？  '], [' ―― ――  ', ' ―― っ  '], [' ―― ――  ', ' ―― ッ ！  '], [' 言い残す こと は ？  ', ' 痛く し ない で ね  '], [' ―― ――  ', ' 朝 、 か  '], [' ―― ――  ', ' ―― ――  '], [' おい 、 今日 は … …  ', ' ―― ――  '], [' そう いえ ば  ', ' うん ？  '], [' うる せ ぇ ―― ！ ！  ', ' ―― ――  '], [' イワシ ？  ', ' ヒイラギ ？  '], [' うーむ  ', ' だけど … …  '], [' う 、 お ―― ！ ？  ', ' ひ ゃ  '], [' ―― ――  ', ' ―― ッ ！  '], [' き ゃっ  ', ' ひ 、 ひ … …  '], [' え 、 エミ リア … …  ', ' わ 、 かっ てる … …  '], [' ぴぎぃっ ！  ', ' ど わ ぁっ ！ ？  '], [' ―― ッ ！  ', ' ああ あ ああ ―― ！ ！  '], [' 嘘 だろ 、 お前 … …  ', ' ぶくぶく ぶくぶく … …  '], [' かっ ！  ', ' ジワルド ―― ！ ！  '], [' あぁ ン ？  ', ' アナスタシア 様 ―― ！  '], [' 寝ろ  ', ' ―― ――  '], [' わかっ てる  ', ' かっ ！  '], [' ふん ！ えい ！ てりゃ ！  ', ' かっ ！  '], [' わっ  ', ' 隙 あり  '], [' な ――  ', ' かっ ！  '], [' ご ぁっ ―― ！ ？  ', ' ぐおおおお ！  '], [' ―― っ ！  ', ' あ  '], [' どう 、 なん だ ？  ', ' ―― やめ だ  '], [' … … ぁ  ', ' は ――  '], [' 危ない わ ね  ', ' 危ない かしら  '], [' ―― そりゃ 、 どういう ？  ', ' つまり  '], [' ―― ――  ', ' ―― ――  '], [' し ―― っ ！  ', ' つま ン ねえ な 、 オメエ  '], [' ―― ――  ', ' お手本 通り か 、 オメエ  '], [' ―― っ  ', ' かっ ！  '], [' ―― ――  ', ' ―― ――  '], [' おお 、 ぁ ！  ', ' ぺい  '], [' ふ 、 く … …  ', ' ―― ――  '], [' ユリウス ―― ！ ！  ', ' は  '], [' あぁ  ', ' こ 、 こ は … …  '], [' ―― レイド・アストレア  ', ' ―― ――  '], [' ―― ――  ', ' ―― スバル  '], [' なん だ  ', ' … … すま ない  '], [' 水疱瘡 でも いい ぞ  ', ' ―― ――  '], [' あぁ 、 クソ … …  ', ' ―― ――  '], [' 俺 が  ', ' 必ず  '], [' ―― あ ？  ', ' おい ？  '], [' へ へっ  ', ' ―― ッ ！ ！  '], [' ―― そこ まで だ  ', ' ―― ――  '], [' 剣 を  ', ' どう か 、 お願い し ます  '], [' ふうん  ', ' 『 腸 狩り 』 、 エルザ・グランヒルテ  '], [' な  ', ' な 、 に が … …  '], [' ―― ――  ', ' ―― 僕 を  '], [' 一 思い に ？  ', ' いや … …  '], [' ―― ――  ', ' それ 、 でも … …  '], [' さよなら  ', ' ―― クソ ！  '], [' お 、 前 は … …  ', ' ―― ―― ッッ  '], [' ―― ――  ', ' ―― そこ まで よ 、 悪党  '], [' どうして ？  ', ' ―― 愛し てる  '], [' ―― ――  ', ' ―― ――  '], [' ノーパソ は 違 ぇだろ … …  ', ' ―― ――  '], [' スバル か ？  ', ' … … と 、 お前 か  '], [' ぷあっ ！  ', ' ―― お  '], [' シャウラ と レイド 、 か  ', ' ―― ――  '], [' ―― ――  ', ' 俺 は … …  '], [' ―― 望ま れ た から だ  ', ' ―― ――  '], [' そんな こと … …  ', ' エキドナ  '], [' ユリウス ！  ', ' ―― ――  '], [' ―― ――  ', ' ―― だが 、 それでも  '], [' ん ー ？  ', ' スバル ？  '], [' ―― ――  ', ' スバル … …  '], [' ―― ――  ', ' ―― ――  '], [' お 師 様 ～？ ', ' あ 、 えーっと … …  '], [' 少し … …  ', ' ん  '], [' ―― 。 うん  ', ' バルス  '], [' ―― ――  ', ' うん ？  '], [' ら 、 む ？  ', ' … … お願い  '], [' 文字通り 、 記憶 の 彼方 ってか  ', ' ―― 。 そういう こと だ ね  '], [' ひ ぃっ ！ 殺さ れる ！  ', ' なんて 目 つき や ！  '], [' お  ', ' ハリベル おじさん ！  '], [' ―― ――  ', ' ぁ ー 、 に ー に  '], [' こいつ が 鬼  ', ' ―― 眠れ ない の ？  '], [' 『 ティア 』 な ！  ', ' リゲルー ？  '], [' うーん  ', ' 要するに 、 だ  '], [' お 兄さん ？  ', ' ―― ッ ！  '], [' 使え ねぇ  ', ' あ ひん  '], [' それとも  ', ' う ひ  '], [' ―― ――  ', ' ぁ ？  '], [' ―― ご ぇっ  ', ' おかあさん  '], [' え ？ なに 、 夢 ？  ', ' ―― ？  '], [' 待つ かしら 、 スバル  ', ' うん ？  '], [' ―― ――  ', ' ―― ――  '], [' ―― ――  ', ' ―― ――  '], [' ―― っ  ', ' ―― ――  '], [' ―― ぁ  ', ' あ '], ['あ ', 'あ '], ['あ ', 'あ '], ['あ ', 'あ '], ['あ ', 'あ '], ['あ ', 'あ '], ['あ ', '―― ッ ！ ？  '], [' ―― ――  ', ' ―― ――  '], [' ぁ 、 か … … ぅ  ', ' ぶ 、 く 、 く  '], [' ―― 何 が 、 おかしい の  ', ' ―― ――  '], [' ―― 何 が 、 おかしい の  ', ' ふ 、 へ 、 へ へ  '], [' ―― 何 が 、 おかしい の  ', ' 何 が 、 おかしい ――  '], [' ―― づ  ', ' ―― ぜ 、 ぁ  '], [' ―― ――  ', ' ―― ――  '], [' ―― ――  ', ' ―― ぇむ  '], [' ―― ――  ', ' ―― ――  '], [' ラム 、 レム … …  ', ' ―― ラム  '], [' ―― ――  ', ' ―― ――  '], [' 天 剣  ', ' ええ  '], [' やはり 、 君 だっ た か  ', ' なんて 、 皮肉 な の かしら  '], [' 違い ねぇ  ', ' ハリベル 、 クナイ を  '], [' … … ええ の ？  ', ' クナイ を  '], [' ―― ――  ', ' ぉ 、 まえ が  '], [' ―― ――  ', ' シグルム さん ？  '], [' ―― ――  ', ' ―― ――  '], [' ぁ  ', ' シグルム さん ？  '], [' ん  ', ' ―― ――  '], [' ―― ？  ', ' 裏  '], [' ―― ――  ', ' ―― ――  '], [' ―― ――  ', ' … … スバル の 、 オタンコナス  '], [' ん  ', ' 旦那 さ ――  '], [' フレデリカ  ', ' ―― 表  '], [' へえ  ', ' 何 色 が 多い ？  '], [' ―― ――  ', ' ―― 剣客 、 セシルス・セグムント  '], [' ―― ――  ', ' ここ に い て くれ  '], [' ―― ――  ', ' スバル の 、 オタンコナス … …  '], [' 旦那 様 ―― ！  ', ' 御 覚悟 ―― ッ ！  '], [' スー さん ？  ', ' ―― ひ  '], [' フレデリカ  ', ' ―― ――  '], [' ―― ――  ', ' ―― ぇ  '], [' ―― エミ リア 様 ！  ', ' ラインハルト … …  '], [' エミ リア 、 さま  ', ' あ  '], [' ―― ――  ', ' う 、 ぉあ ！  '], [' スバル … … ？  ', ' う 、 そ だ … …  '], [' ―― ！ ！  ', ' ―― ！ ！  '], [' ―― ぁ  ', ' 落ち着い た ？  '], [' ひ  ', ' ―― ――  '], [' ―― ッ  ', ' ―― ――  '], [' ひ  ', ' ―― ッ ！  '], [' 失せろ 、 稚魚  ', ' が  '], [' 予知 … … 夢 … …  ', ' ―― ――  '], [' ぐ 、 ふ … … っ  ', ' … … 俺 は 、 死ぬ  '], [' ―― 愛し てる  ', ' ―― 愛し てる  '], [' ―― ――  ', ' ―― 愛し てる  '], [' ―― 愛し てる  ', ' ―― はっ  '], [' ―― ――  ', ' 俺 を … …  '], [' ―― ――  ', ' へ  '], [' ―― ――  ', ' それなら … …  '], [' ―― ――  ', ' ―― ッ  '], [' つい 、 た … … っ  ', ' でかい 、 扉 … …  '], [' へ  ', ' ―― ――  '], [' だから … …  ', ' ―― え  '], [' 何 が … …  ', ' ―― ――  '], [' ―― ッッッ ！ ！  ', ' ―― ――  '], [' ―― し ぃっ ！ ！  ', ' … … は ぁっ ！  '], [' この まま ―― ッ ！ ！  ', ' ―― ――  '], [' る  ', ' お 、 ぁ  '], [' ―― ――  ', ' ―― ぁ  '], [' これ … … ぇ  ', ' ―― ――  '], [' ―― ？  ', ' ―― ――  '], [' だっ たら … … ！  ', ' ―― あっ た  '], [' ―― ――  ', ' へ  '], [' ―― 出口  ', ' ―― ――  '], [' ―― 扉  ', ' 見える  '], [' ―― 俺 以外 に  ', ' ―― ――  '], [' ―― ぁ  ', ' は  '], [' ―― ッ  ', ' ば  '], [' ―― ――  ', ' ひ は  '], [' ―― ――  ', ' ―― ――  '], [' ―― は  ', ' ―― ぶ  '], [' 俺 も 、 か  ', ' と に 、 かく … …  '], [' 血 は … …  ', ' ―― ――  '], [' これ で … …  ', ' ―― ――  '], [' ―― ―― ッッ  ', ' う ―― ！ ？  '], [' 影 の 、 腕 … …  ', ' お前 … … ッ ！  '], [' ―― ―― ッ ！  ', ' ―― ――  '], [' お前 ――  ', ' ―― ―― ッ  '], [' ―― う 、 ぁ ！ ？  ', ' あ 、 え … … ？  '], [' トカゲ … … っ ！  ', ' なん 、 なん だ  '], [' ―― ――  ', ' は  '], [' ―― ――  ', ' ―― ――  '], [' ―― っ  ', ' そう ね  '], [' ―― つまり 、 ここ は  ', ' ―― ―― ッ  '], [' ―― ――  ', ' あ 、 スバル 、 いきすぎよ ？  '], [' なん で だ よ ！  ', ' ハッ ！  '], [' う ぷ  ', ' ―― ――  '], [' ―― ――  ', ' ―― お前 か  '], [' その 願い 、 純情 越え  ', ' お 師 様 いけ ず ッス ～！ '], [' ―― ――  ', ' お 師 様 ぁ … …  '], [' ―― ぁ ？  ', ' ―― ――  '], [' ―― は ？  ', ' ―― ――  '], [' ―― ――  ', ' ―― ――  '], [' … … ぴったり 、 だ  ', ' ―― ぅ 、 げ ぉ  '], [' ―― ――  ', ' ―― まさか  '], [' ―― ――  ', ' ―― は  '], [' ―― ――  ', ' 悪い 、 ちょっと トイレ  '], [' ―― ――  ', ' ―― ？  '], [' ―― ――  ', ' … … 馬鹿馬鹿しい  '], [' ―― ――  ', ' スバル ！  '], [' ―― ――  ', ' ―― ぁ  '], [' ―― うん  ', ' 俺 は … …  '], [' ―― 三 番目 の  ', ' 一番 右  '], [' 嘘 … …  ', ' ―― メィリィ・ポートルート  '], [' ―― っ  ', ' ―― ――  '], [' ―― っ  ', ' … … お前  '], [' ―― いく  ', ' ―― ――  '], [' ―― ――  ', ' ―― ――  '], [' スバル … …  ', ' ―― ――  '], [' いや … …  ', ' ―― ――  '], [' ―― ――  ', ' ―― ――  '], [' ―― ――  ', ' ―― ――  '], [' スバル ？  ', ' ―― ――  '], [' ―― ――  ', ' ―― ――  '], [' ―― ――  ', ' ―― ――  '], [' 精霊 の 、 部屋 … …  ', ' パトラッシュ … …  '], [' ―― ――  ', ' ―― ――  '], [' ―― ――  ', ' ―― ――  '], [' ―― ――  ', ' ―― っ  '], [' ―― ―― っ  ', ' ―― ――  '], [' ―― ――  ', ' ―― ――  '], [' ―― ――  ', ' ―― は ？  '], [' ―― ――  ', ' な 、 ぅ … …  '], [' ただ ？  ', ' ―― ――  '], [' ―― ――  ', ' ―― ――  '], [' ―― っ  ', ' ―― ぅ  '], [' きゃ あっ ！  ', ' ―― っ  '], [' ―― ――  ', ' ―― っ  '], [' み 、 ぎめ … …  ', ' ああ ン ？  '], [' は ？  ', ' オメエ よ  '], [' かっ  ', ' レイド ！  '], [' ―― ――  ', ' ―― ――  '], [' ―― ――  ', ' ―― は ？  '], [' ―― しっ ！  ', ' ―― ユリウス ！  '], [' ―― ッッ ！ ！  ', ' ―― ――  '], [' ―― ――  ', ' ―― ッッ ！ ！  '], [' くっ ！  ', ' ―― ッッ ！ ！  '], [' ―― ――  ', ' ―― ――  '], [' ―― ―― ッッ ！ ！  ', ' ―― ――  '], [' ―― ――  ', ' ―― っ ！  '], [' ―― ――  ', ' ―― スバル ！  '], [' もう 、 いい  ', ' スバル ？  '], [' ―― ――  ', ' は  '], [' スバル ！ ！  ', ' う ぁ ！ ？  '], ['', ' ―― ――  '], [' ―― ぅ 、 あ ！  ', ' ―― ッ ！  '], [' ―― ッ ！ ！  ', ' ―― っ  '], [' ―― ムラク  ', ' エル ・ ジワルド ―― ！ ！  '], [' ―― ――  ', ' ―― ぁ  '], [' ―― ――  ', ' ―― ？  '], [' … … エキドナ  ', ' ―― ――  '], [' ―― ――  ', ' … … ぁ  '], [' … … こんな  ', ' … … ナツキ くん  '], [' ―― ――  ', ' ―― ――  '], [' ―― ――  ', ' ―― ――  '], [' ―― そこ まで よ  ', ' ―― ――  '], [' ―― そこ まで よ  ', ' ―― ――  '], [' ―― スバル ！  ', ' ―― っ  '], [' り 、 や ぁっ ！ ！  ', ' ―― もう 、 十分 だ  '], [' ―― ――  ', ' … … は  '], [' ―― ぁ ？  ', ' ―― ――  '], [' ―― スバル 、 私 は  ', ' ―― っ  '], [' ―― エミ リア ！  ', ' スバル … … っ  '], [' ―― ――  ', ' ―― ――  '], [' ―― ――  ', ' ―― ――  '], [' ―― ――  ', ' ―― ――  '], [' え えと … …  ', ' う 、 ぁ … …  '], [' あわわ 、 あわわ … …  ', ' あわわ … … ？  '], [' ―― スバル ？  ', ' … … ぅ 、 く  '], [' お願い 、 信じ て あげ て  ', ' ―― ――  '], [' 何 か 言っ た ？  ', ' 言っ て ませ ん  '], [' ―― わかる よ  ', ' ―― ――  '], [' ―― ――  ', ' ―― エルザ・グランヒルテ  '], [' ―― ふ  ', ' ―― ――  '], [' あ  ', ' なるほど 、 そういう こと かしら ！  '], [' それ な  ', ' そっ か  '], [' ―― ――  ', ' スバル ？  '], [' ナツキ くん  ', ' うん ？  '], [' 任せる  ', ' ここ は 任せろ  '], [' お前 な … …  ', ' ただ  '], [' ―― ――  ', ' ―― ――  '], [' … … バカ  ', ' … … あ ？  '], [' ―― お前 は  ', ' ―― ――  '], [' ―― ――  ', ' ―― わかる よ 、 お 兄さん  '], [' 魂 を 、 濾す ？  ', ' そう そう  '], [' さ ァ  ', ' ―― ――  '], [' ―― ――  ', ' 嫌 だ … …  '], [' ―― ――  ', ' ―― ――  '], [' ―― 立ち なさい ！ ！  ', ' 立ち なさい ！  '], [' 立ち なさい ！ ！  ', ' 立ち なさい ！  '], [' 立ち なさい ―― ！  ', ' 立ち なさい ―― ！  '], [' ―― ――  ', ' ―― は  '], [' ―― ――  ', ' ―― お 兄さん ？  '], [' ―― ――  ', ' 続き を … …  '], [' ―― ――  ', ' ―― ――  '], [' ―― ――  ', ' あ ァ … …  '], [' 飽食  ', ' そもそも ！  '], [' ある ぞ  ', ' あ は ッ  '], [' ―― それ だ よ  ', ' … … あ ？  '], [' これ 、 出口 か ！ ？  ', ' ―― ――  '], [' ん … …  ', ' ―― ――  '], [' 足音 ？  ', ' ああ  '], [' ―― ッ  ', ' スバル ！  '], [' ―― ――  ', ' ―― シャウラ ！  '], [' はあ ？  ', ' う ー  '], [' ―― っ  ', ' だって  '], [' ―― ――  ', ' ―― ぅ 、 く  '], [' ―― ええ 、 やってき なさい  ', ' ―― ――  '], [' そい や ―― っ ！ ！  ', ' ―― ッ ！ ？  '], [' ―― ッ ！ 急 に  ', ' 動き が 変わっ た ！ ？  '], [' ―― ッ  ', ' ―― ――  '], [' ユリウス ！ そこ ダメ ！  ', ' く … … っ  '], [' ―― づ ッ  ', ' ぐ 、 ぇ … … っ  '], [' しっ ！  ', ' ―― ――  '], [' ―― し ゃぁぁぁぁぁ ！ ！  ', ' 野郎 … … っ ！  '], [' ―― ――  ', ' ―― ぐ  '], [' ―― ――  ', ' は 、 ぁ … …  '], [' ―― ――  ', ' ―― ？  '], [' ―― ベア トリス ！  ', ' ひ ゃんっ ！  '], [' が 、 ぐおおおお ！  ', ' ―― ――  '], [' ―― ――  ', ' ―― スバル ！  '], [' スバル ！  ', ' スバル ！ ！  '], [' ―― ――  ', ' ―― ――  '], [' ―― スバル  ', ' ―― っ ！  '], [' やっと 起き た わあ  ', ' ―― ――  '], [' ―― 落ち着く かしら ！  ', ' いひ ゃいっ ！  '], [' ―― 立ち なさい 、 だ  ', ' え ？  '], [' ―― アイスブランドアーツ ！  ', ' エミ リア 様 ！  '], [' ぶ がん っ ！ ？  ', ' ―― ――  '], [' せ いっ ！  ', ' きゃあ ああ ！  '], [' ―― 拳 王 の 掌 ！  ', ' やる ぅ ！  '], [' ―― ラム 、 危ない ！  ', ' は は ッ ！  '], [' ぐ … … っ  ', ' う 、 やぁ ―― ！ ！  '], [' ―― ？ そりゃ どういう … …  ', ' ―― ――  '], [' ―― ――  ', ' は ―― っ ！  '], [' が 、 ぁ … …  ', ' ―― あ ァ ？  '], [' はぁ ッ ！ ！  ', ' い ぎゃ … … ぐへっ ！  '], [' 遅い ！  ', ' … … 体 が 軽い ？  '], [' この まま … …  ', ' ―― ？  '], [' ―― これ 、 誰 だ ？  ', ' ベア トリス ！  '], [' ―― っ ！ ミーニャ ！ ！  ', ' ―― ――  '], [' い 、 いいえ … …  ', ' ―― そう か  '], [' そんな の ふやける じゃん … …  ', ' や やっ ！  '], [' 離れろ  ', ' ぎゃふん っ  '], [' あら ほら さっ さ ー  ', ' ごめん な  '], [' ―― っ 、 はぁ  ', ' はぁ 、 はぁ … …  '], [' ―― 俺 を 救っ て くれ  ', ' わかっ てる  '], [' ―― リカード 、 君 は 本当に  ', ' ―― ――  '], [' ―― ！ ？  ', ' ぐ 、 うう うう ！  '], [' ―― ッ ！  ', ' ―― ガーフィール  '], [' ―― はい 、 どー ん ！  ', ' な  '], [' ―― オットー 、 お前 だ よ  ', ' … … は ？  '], [' ちゃんと 相談 し た ん だ  ', ' ―― ――  '], [' ―― ――  ', ' ―― そこ まで だ  '], [' ふぐ っ … …  ', ' ―― ――  '], [' はーい  ', ' わかっ た の よ  '], [' ―― ――  ', ' お 師 様 ？  '], [' でも  ', ' でも ？  '], [' ―― ――  ', ' お … …  '], [' そ 、 やぁ ！ ！  ', ' ラム ！ ！  '], [' ―― ――  ', ' ―― 馬鹿 ね  '], [' スバル ！ ？  ', ' バルス 、 やめ なさい ！  '], [' う ひ ぇ  ', ' ―― ―― ッ  '], [' 任せ て ！  ', ' う おわ ！  '], [' う ぐぅ  ', ' やっぱり  '], [' … … 最悪 の 展開 ね  ', ' あなた … …  '], [' ごめん ね  ', ' ―― は ン ！  '], [' ―― か 、 ふ  ', ' ラム ！ ！  '], [' スバル ！  ', ' ―― シャウラ  '], [' ―― ――  ', ' ―― ムラク ！  '], [' ―― ぁ  ', ' ―― ――  '], [' ―― ――  ', ' ―― 失敗 し た  '], [' ぐ 、 ぇ  ', ' ―― ぅ  '], [' ―― っ  ', ' ―― まだ 、 何 か  '], [' だけど … …  ', ' だから 、 俺 は ――  '], [' ―― ――  ', ' … … そう 、 か  '], [' シャウラ  ', ' ―― ――  '], [' ―― ＮＧ ッス  ', ' … … ＮＧ ？  '], [' ―― 四 日 、 ッス よ  ', ' … … あ ？  '], [' ―― いや  ', ' ―― ぁ  '], [' お 師 様  ', ' お 師 様 の 、 女たらし  '], [' え ？  ', ' お ――  '], [' ―― ――  ', ' ―― お 師 様 ！ ！  '], [' ―― ――  ', ' ―― 必ず 、 助け て やる  '], [' ―― ――  ', ' ―― だから どう し た  '], [' ―― ――  ', ' 必ず 、 助け て やる  '], [' ―― スバル 、 つく ぞ ！  ', ' ―― ――  '], [' おら よ  ', ' が はっ ！  '], [' ―― レイド・アストレア  ', ' ―― ぁ  '], [' ―― オメエ 、 気持ち 悪 ぃな  ', ' ―― ――  '], [' ―― ――  ', ' ちっ  '], [' ―― ウル・シャマク  ', ' あれ 、 は … …  '], [' が 、 ぁぁぁ ！ ！  ', ' スバル ！ ！  '], [' ―― ――  ', ' … … ぁ  '], [' ―― ――  ', ' ―― ミーニャ ！ ！  '], [' ―― ――  ', ' ―― っ ！ ？  '], [' ベア トリス  ', ' スバ ――  '], [' か  ', ' スバル ―― っ ！ ！  '], [' ―― ――  ', ' 死ね 、 馬鹿  '], [' ―― ――  ', ' はぁ 、 は ぁっ  '], [' メィ ――  ', ' ―― ―― ッッッ  '], [' ―― ぁ  ', ' ぐ ―― っ ！  '], [' ―― シャウラ  ', ' お 兄 さ ―― っ  '], [' ―― ―― ッッ  ', ' が 、 ぐ  '], [' ―― ――  ', ' ―― ユリウス ！  '], [' な ン だ ぁ ？  ', ' ぬかっ た 、 わ ね  '], [' ―― 覚悟 ！  ', ' ―― クソ  '], [' ベア トリス … …  ', ' スバル ？  '], [' 落ち着く かしら 、 スバル  ', ' え ？  '], [' ―― ？  ', ' ―― ――  '], [' ―― この 、 反応 は  ', ' ―― ――  '], [' ―― 菜月 ・ 昴  ', ' ―― ――  '], [' ―― っ  ', ' ―― ――  '], [' ―― ――  ', ' ―― バル ？  '], [' ―― ――  ', ' ―― っ ！  '], [' ―― ――  ', ' … … って いろ  '], [' 俺 が 、 必ず ――  ', ' が ―― っ  '], [' う 、 ぶ … … っ  ', ' はぁ 、 はぁ … …  '], [' ま 、 だ … …  ', ' ―― ――  '], [' ―― 九 冊 、 目  ', ' 何 か が … … っ  '], [' おっ と 、 危 ねぇ  ', ' ―― っ 、 触る な ！  '], [' でも  ', ' ―― ？  '], [' 俺 の  ', ' ―― ――  '], [' ―― ――  ', ' エミ リア を … …  '], [' ああ  ', ' ―― ――  '], [' ―― ――  ', ' ―― っ  '], [' 幸せ に 、 なり たい  ', ' 幸せ に なり たい  '], [' 幸せ に なり たい  ', ' 幸せ に なり たい  '], [' ―― ナツキ・スバル  ', ' イタダキマス  '], [' ―― え  ', ' ―― ――  '], [' ―― 絶対 、 後悔 する ってな  ', ' ―― ――  '], [' ―― Ｅ ・ Ｍ ・ Ｔ  ', ' おい  '], [' ひっ ！  ', ' … … ビビり すぎ だろ  '], [' ―― ――  ', ' ―― ――  '], [' ち 、 違う ッ ！  ', ' ひ  '], [' ―― 死に たく ない  ', ' ―― アイスブランドアーツ ！ ！  '], [' ―― アイシクルライン  ', ' わ お  '], [' ―― ――  ', ' あ … …  '], [' ―― ――  ', ' ―― ライ・バテンカイトス ！ ！  '], [' スバル ―― っ ！ ！  ', ' わ ぶっ ！ ？  '], [' が 、 ぶ ッ  ', ' う 、 り ゃぁぁぁぁ ！  '], [' スバル ！  ', ' ベア 子 ！ ！  '], [' ―― ――  ', ' あー 、 姉 様 ？  '], [' ―― レム  ', ' ―― ――  '], [' ええ ！  ', ' 当然 な の よ  '], [' ―― ――  ', ' ―― ？ スバル ？  '], [' ああ 、 その まさか  ', ' ―― ――  '], [' ―― ？ 何 が だ ？  ', ' そう  '], [' いい から 、 早く 分け なさい  ', ' いい か ？  '], [' ―― バルス  ', ' ん あ ？  '], [' ふ ふっ  ', ' なん な の よ  '], [' ―― ―― ッッ  ', ' ―― ―― ッッ  '], [' ―― ――  ', ' ―― ――  '], [' ―― ――  ', ' ―― シャウラ ！  '], [' ―― ――  ', ' … … 皮肉 な 話 だ  '], [' ―― シャウラ ！  ', ' お 師 様 … … ？  '], [' ―― ――  ', ' ―― ムラク  '], [' ―― ―― ッッ  ', ' 羽 土竜 ちゃん ！  '], [' ―― ――  ', ' メィリィ ！ エキドナ ！  '], [' ―― ――  ', ' いや 、 特に ねぇ よ  '], [' ―― ―― ッッ  ', ' ―― ――  '], [' ―― ――  ', ' って 、 オイオイオイオイ ！  '], [' ―― ―― ッッ  ', ' う お ！ ？  '], [' ―― ――  ', ' ボク は … …  '], [' ―― ――  ', ' ぐ 、 く ―― っ ！  '], [' っ ら ぁ ！ ！  ', ' 飛び散っ ちまえ 、 オメエ  '], [' ―― っ  ', ' ―― そこ まで よ  '], [' ああ ン ？  ', ' ―― ――  '], [' ―― ――  ', ' は  '], [' ―― 出 た ！  ', ' え … … ？  '], [' めちゃめちゃ うるさい かしら ！ ！  ', ' あれ ？  '], [' 特訓 ？  ', ' はい  '], [' 神 です  ', ' そう な の か … …  '], [' ―― ――  ', ' ―― ――  '], [' 痛い かしら ！  ', ' ―― あ ？  '], [' スバル ？  ', ' ―― ――  '], [' ―― 『 神 龍 』 ボルカニカ  ', ' ―― ――  '], [' もしか し て … …  ', ' ―― 冷たい  '], [' … … 必死 さ 、 か  ', ' ―― ――  '], [' へえ  ', ' おおし 、 そいつ だ ！  '], [' いい や 、 違う ！  ', ' ああ ン ？  '], [' スバル ！  ', ' ―― ッ  '], [' ―― ――  ', ' ―― ―― ッッ  '], [' ―― メィリィ ！ ！  ', ' ―― え ？  '], [' ―― ぁ  ', ' ―― ――  '], [' ひひ ッ  ', ' この 程度 ――  '], [' ―― ――  ', ' レム を ――  '], [' ―― 『 千里眼 』  ', ' ―― ――  '], [' ハッ ！  ', ' 鬼 の 栄光 なんて … …  '], [' ―― ――  ', ' ―― ■ ■  '], [' ■ ■ … …  ', ' ―― ――  '], [' ―― ――  ', ' それ は … …  '], [' ―― 姉 様  ', ' 泣い て ください 、 姉 様  '], [' 怒っ て ください 、 姉 様  ', ' 笑っ て ください 、 姉 様  '], [' 泣い て  ', ' 怒っ て  '], [' 笑っ て  ', ' 苦しん で  '], [' 微笑ん で  ', ' 痛 がっ て  '], [' むくれ て  ', ' 昂っ て  '], [' 恥じらっ て  ', ' 微睡ん で  '], [' 赤面 し て  ', ' むずがって  '], [' 驚い て  ', ' 言祝い で  '], [' 姉 様  ', ' 姉 様  '], [' 姉 様  ', ' 姉 様  '], [' 姉 様  ', ' 姉 様  '], [' 姉 様  ', ' 姉 様  '], [' 姉 様  ', ' 姉 様  '], [' 姉 様  ', ' 姉 様  '], [' 姉 様  ', ' 姉 様  '], [' 姉 様  ', ' 姉 様  '], [' 姉 様  ', ' 姉 様  '], [' 姉 様  ', ' 姉 様  '], [' 姉 様  ', ' 姉 様  '], [' 姉 様  ', ' 姉 様  '], [' 姉 様  ', ' 姉 様  '], [' 姉 様  ', ' 姉 様  '], [' 姉 様  ', ' 姉 様  '], [' 姉 様  ', ' 姉 様  '], [' 姉 様  ', ' 姉 様  '], [' 姉 様  ', ' 姉 様  '], [' 姉 様  ', ' 姉 様  '], [' 姉 様  ', ' 姉 様  '], [' 姉 様  ', ' 姉 様  '], [' 姉 様  ', ' 姉 様  '], [' 姉 様  ', ' 姉 様  '], [' 姉 様  ', ' 姉 様  '], [' 姉 様  ', ' 姉 様  '], [' 姉 様  ', ' 姉 様  '], [' 姉 様  ', ' 姉 様  '], [' 姉 様  ', ' 姉 様  '], [' 姉 様  ', ' 姉 様  '], [' 姉 様  ', ' 姉 様  '], [' 姉 様  ', ' 姉 様  '], [' 姉 様  ', ' 姉 様  '], [' 姉 様  ', ' 姉 様  '], [' 姉 様  ', ' 姉 様  '], [' 姉 様  ', ' 姉 様  '], [' 姉 様  ', ' 姉 様  '], [' 姉 様  ', ' 姉 様  '], [' 姉 様  ', ' 姉 様  '], [' 姉 様  ', ' 姉 様  '], [' 姉 様  ', ' 姉 様  '], [' 姉 様  ', ' 姉 様  '], [' 姉 様  ', ' 姉 様  '], [' 姉 様  ', ' 姉 様  '], [' 姉 様  ', ' 姉 様  '], [' 姉 様  ', ' その ―― っ  '], [' ―― ――  ', ' ―― ――  '], [' ―― ッッ  ', ' あ ァ 、 見つけ まし た  '], [' 訂正 する わ  ', ' ―― っ 、 ねえ さ  '], [' ―― っ  ', ' ―― ぁ  '], [' きゃあ ！  ', ' もしか し て … …  '], [' ―― 兵隊 さん  ', ' きゃあ あ ああ ！ ！  '], [' ―― は  ', ' 泣かし て やる よ  '], [' いざ ――  ', ' 適当 に  '], [' ―― は  ', ' イア ！ アロ ！  '], [' クア ！ イク ！  ', ' イン ！ ネス ！  '], [' ―― ――  ', ' ―― ――  '], [' ―― ――  ', ' ―― アル ・ クラリスタ  '], [' ―― ――  ', ' ―― ――  '], [' ―― こい  ', ' ―― アル ・ クランヴェル  '], [' ―― ユリウス  ', ' ―― ――  '], [' ―― ――  ', ' ―― ぁ  '], [' ―― ぁ  ', ' 何故 … …  '], [' ―― ――  ', ' ―― お初 に お目にかかり ます  '], [' ウチ は  ', ' ―― ウチ は 、 アナスタシア・ホーシン  '], [' ―― 姉 様 、 参り ます  ', ' まず 、 一 回  '], [' ―― っ ！ ？  ', ' 二 回 目  '], [' 三 回 目  ', ' 馬鹿 ね  '], [' 皮肉 な もの だ わ  ', ' ―― ――  '], [' ―― ――  ', ' 考え て ――  '], [' アレ が 、 欲しい  ', ' おぶっ 、 う えっ  '], [' ―― ぁ ？  ', ' ―― ――  '], [' は  ', ' まさか … …  '], [' ―― ――  ', ' ひ はっ  '], [' ぶ は ァ っ  ', ' あ ァ 、 愛し て ――  '], [' ―― フーラ  ', ' ―― ――  '], [' ―― ぐ  ', ' マズ い … … ！  '], [' げ ほっ  ', ' メィリィ ！  '], [' おう ！ ？  ', ' ベア ――  '], [' ―― ―― ッッッ  ', ' ―― ――  '], [' ―― スバル  ', ' ああ  '], [' ―― ぇ ？  ', ' ―― ――  '], [' ボルカニカ … … ？  ', ' ―― ――  '], [' ―― アイシクルライン  ', ' でも … …  '], [' ―― 『 魔女 』 を  ', ' ―― ――  '], [' ―― ――  ', ' ―― ――  '], [' ―― アブソリュート・ゼロ  ', ' ―― ――  '], [' 古い 、 傷 … …  ', ' あ ―― っ ！  '], [' ダメ よ ―― ！ ！  ', ' ―― みんな ！ お願い ！ ！  '], [' ごめん ね ！  ', ' ―― ぁ  '], [' 私 も 、 諦め ない ！  ', ' ―― エミ リア 様 ！ ！  '], [' ―― っ  ', ' ―― ――  '], [' ち ぇやあああ ―― っ ！ ！  ', ' きゃあ ああ ！  '], [' あ … …  ', ' ―― ――  '], [' ―― シャウラ ！ ？  ', ' ～～ ッッ  '], [' ―― ――  ', ' ―― 雲 が 、 晴れ た  '], [' なぁ 、 シャウ ――  ', ' ―― っ ！ スバル ！ ！  '], [' ―― 短期 決戦  ', ' ―― ――  '], [' ～～ ッッ ！ ！  ', ' ミーニャ ！ ！  '], [' ―― ――  ', ' ―― スバル ！ ！  '], [' あ  ', ' 根性 ―― ッ ！  '], [' ―― ムラク ！  ', ' わ ――  '], [' し ―― っ ！  ', ' ―― アル ・ クランヴェル  '], [' ―― シャウラ ！  ', ' ―― ――  '], [' だって  ', ' だって  '], [' シャウラ 、 シャウラ … …  ', ' ―― ぁ  '], [' ―― ――  ', ' お前 は 、 馬鹿 だ  '], [' ―― ――  ', ' ―― それ は 、 ない  '], [' ユリウス が あれこれ … …  ', ' ―― ――  '], [' ボルカニカ ？  ', ' ―― なに ？  '], [' う … …  ', ' … … パトラッシュ 、 か  '], [' ハッ  ', ' くすくす  '], [' ―― 馬鹿 ね  ', ' 姉 様 ？  '], [' ―― っ ！ ？  ', ' なん だ ！ ？  '], [' ―― は ？  ', ' … … 女の子 ？  '], [' ぐあ ！  ', ' ま 、 さ か … …  '], [' パトラッシュ ！ ラム を ―― ！  ', ' ―― ッッ ！  '], [' あー ぅ ？  ', ' あー 、 う … … ？  '], [' ―― ――  ', ' ―― え  '], [' ―― ――  ', ' ―― ぁ  '], [' れ … …  ', ' ―― レム  '], [' ―― ぅ  ', ' ―― た は  '], [' ―― ――  ', ' ―― ――  '], [' ―― ――  ', ' ―― ラム ！  '], [' ―― 。 まだ よ  ', ' ―― ？ あの 話 ？  '], [' … … えい 、 ゆう  ', ' ああ 、 ああ  '], [' レム ？  ', ' ―― ぅ  '], [' ―― こ ぁ  ', ' お ぇ 、 あ … …  '], [' ―― きゃあ ！ ？  ', ' げ ほっ ！ げ ほっ ！  '], [' ―― レム だ  ', ' え ？  '], [' ―― ――  ', ' あー 、 あー う ー  '], [' え  ', ' ―― が  '], [' ―― ――  ', ' ―― ぁ  '], [' ―― ――  ', ' れ ――  '], [' ―― ぁ ？  ', ' ご 、 ぶ … … っ  '], [' … … わから ねぇ な  ', ' ―― ッ  '], [' ―― あ ？  ', ' ―― ――  '], [' ―― ――  ', ' ほう  '], [' ―― ッ ！ ？  ', ' げ おっ  '], [' ―― あっ た  ', ' ―― ――  '], [' ―― はあ あ ぁぁぁ ！  ', ' ぐおあ ！  '], [' ―― ぁ  ', ' ―― ――  '], [' ―― ――  ', ' ―― レム ！ ！  '], [' う おわ ！  ', ' あ べし ！  '], [' ―― しっ ！  ', ' う おお おお ！ ！  '], [' ―― 早い です ！ ！  ', ' ―― っ  '], [' ―― あ ？  ', ' ―― ―― ッッ ！ ！  '], [' 魔 獣 ―― っ ！ ！  ', ' ―― ―― ッッ  '], [' ―― ―― ッッ ！ ？  ', ' う ぁ ？  '], [' いいえ  ', ' その 上 、 で ―― ！  '], [' あ だ ぁっ ！  ', ' いて て  '], [' ―― ――  ', ' が ぼ が ぼ  '], [' が ぼ が ぼ  ', ' が ぼ が ぼ  '], [' が ぼ が ぼ  ', ' ―― げ ほっ  '], [' お えっ 、 ぶ え えっ  ', ' げ ほっ 、 お ほっ  '], [' ―― ――  ', ' げ ほっ  '], [' はぁ 、 はぁ … …  ', ' ぶ じ 、 に … …  '], [' れ 、 むを … …  ', ' ―― ぁ  '], [' ちっ  ', ' やれやれ  '], [' ぐぬぬ … … ！  ', ' は  '], [' ―― ジャ マル  ', ' わかっ た よ  '], [' ―― ――  ', ' どう し た ？  '], [' いや … …  ', ' おい 、 どう し た ？  '], [' え ？  ', ' だって  '], [' ―― ――  ', ' ―― 神聖 ヴォラキア 帝国  '], [' ―― ヴォラキア 万 歳 ！  ', ' う お ！ ？  '], [' ヴォラキア 万 歳 ？  ', ' ヴォラキア 万 歳  '], [' ―― ――  ', ' 絶対 無理 だ  '], [' ―― ぁ  ', ' レム ！  '], [' う わぁ 、 痛 そう  ', ' く はっ  '], [' なん だ ？  ', ' どこ だ  '], [' あー う ー あー ！ ！  ', ' ぐあ  '], [' 治癒 魔法 、 ね  ', ' ―― ？ トッド さん ？  '], [' あー  ', ' また あなた は … …  '], [' う ー ！  ', ' ちっ  '], [' え ？  ', ' これ は ？  '], [' げ え 、 藪 蛇  ', ' ふっ ふっ ふ  '], [' ―― う お ！ ？  ', ' ぐ … … っ  '], [' あー う ー ！  ', ' ああ ？  '], [' おい 、 子ども だ ぞ ！  ', ' あー ！  '], [' う ー ！  ', ' おいおい  '], [' あ … …  ', ' ぐ … … っ  '], [' ん あ ？  ', ' … … トッド さん ？  '], [' あ 、 悪い 、 レム  ', ' まったく … …  '], [' ―― へ ？  ', ' これ は … …  '], [' ―― ――  ', ' ―― っ  '], [' ―― ――  ', ' 触ら ない で 、 ください  '], [' ―― 矢 羽根  ', ' ―― ぁ  '], [' ―― ――  ', ' きゃあ あ ああ ―― っ ！  '], [' ―― ――  ', ' ―― ――  '], [' あ 、 がく … … ッ  ', ' ―― ――  '], [' ちっ  ', ' やれやれ  '], [' … … やっぱり  ', ' ―― ――  '], [' 死ん だ 、 の か  ', ' ―― ――  '], [' ―― ――  ', ' ―― ――  '], [' ―― それ も そう だ な  ', ' ―― ッ  '], [' ―― ――  ', ' へえ  '], [' ―― ？  ', ' ―― ぁ ？  '], [' う おお おお ！ ！  ', ' ―― ―― ッッ ！ ！  '], [' ―― っ  ', ' ―― ――  '], [' ―― ッ  ', ' がっ ！ ？  '], [' ―― ――  ', ' それから 、 俺 は … …  '], [' ミー に 教え な キャ  ', ' 待っ て くれ ！  '], [' ―― ――  ', ' ―― 俺 を  '], [' くどい ゾ ！  ', ' ―― っ ！  '], [' ―― っ 、 それ って まさか  ', ' ―― ――  '], [' う ぐ … … っ  ', ' だが  '], [' ―― ――  ', ' ―― そんな 覚悟 は ない  '], [' あん だ と ？  ', ' ここ ダ  '], [' ―― くる ぞ  ', ' … … おいおい 、 冗談 だろ  '], [' まさか 、 エルギーナ … … ？  ', ' ―― ―― ッッ ！ ！  '], [' わあ ―― ！  ', ' ―― くる ぞ 、 ナツキ・スバル ！  '], [' ベア ――  ', ' まず … … っ  '], [' ああ 、 わか ――  ', ' ―― っ  '], [' ―― ゴーア  ', ' ―― ―― ッッ  '], [' く … … っ ！  ', ' もっ ぱぁつ ！ ！  '], [' ―― ―― ッッ ！ ！  ', ' はあ あ ぁぁぁ ―― ！ ！  '], [' ―― ―― ッッ  ', ' が ―― ッ  '], [' ―― ――  ', ' は  '], [' れ む 、 を … …  ', ' なん だ ！ ！  '], [' た 、 すけ て … …  ', ' ―― ――  '], [' あ 、 あ … … ？  ', ' お前 、 は … …  '], [' それ 、 は … …  ', ' でも 、 レム を … …  '], [' ―― 見ろ  ', ' ―― ぁ ？  '], [' ―― っ ！ ！  ', ' これ 、 は … …  '], [' ―― っ  ', ' ―― ――  '], [' ―― ヴィンセント・アベルクス  ', ' … … は ？  '], [' は  ', ' ミゼルダ さん 、 言い方 … …  '], [' ―― ――  ', ' どうして な ん です か  '], [' あー う ー ？  ', ' ―― ぁ  '], [' う あう ー  ', ' … … これ って  '], [' ―― うべ  ', ' … … 知ら ない 天井 だ  '], [' って 、 手 ？  ', ' ―― ――  '], [' すぅ 、 すぅ … …  ', ' な 、 ぁ … …  '], [' ミゼルダ さん … …  ', ' ところ デ  '], [' ほう ？  ', ' お イ  '], [' 臭い 人 … …  ', ' では  '], [' なん で ッス か ！ ？  ', ' やり まし た ！  '], [' ここ で 終わり そう ！  ', ' わ 、 息 ぴったり  '], [' スバル き ゅんのお 馬鹿 さん  ', ' にゃ におう ！ ？  '], [' 桜 祭り も 楽しい けど さ  ', ' え ？  '], [' うだうだ と うるさい 男 だ  ', ' ―― ――  '], [' ―― 待て よ 、 おかしい だろ  ', ' 何 が だ ？  '], [' ―― ――  ', ' 俺 に は … …  '], [' ―― ――  ', ' それ だけ で … …  '], [' … … そう か  ', ' 死ぬ な よ 、 ウタカタ  '], [' 同胞 … …  ', ' 気 に 病む ナ 、 スバル  '], [' ―― 果たさ れん こと ヲ ！  ', ' おう ！  '], [' ―― ――  ', ' ―― いっ て き ます ！  '], [' う ー ！  ', ' ―― ッ ！  '], [' よかっ た ノー  ', ' … … 意地っ張り  '], [' ―― ――  ', ' あー う あー  '], [' 兄弟 … …  ', ' うん ？  '], [' ん  ', ' わから ない ん です  '], [' クーナ 以外 は 、 な ノー  ', ' う グ っ  '], [' うる せ ーナ ！  ', ' それに … …  '], [' いく ぞ  ', ' ―― 検問  '], [' う ー ？  ', ' どうして … …  '], [' 怒っ て い ませ ん  ', ' 本当に 本当 ？  '], [' ―― ――  ', ' でも 、 なんで … … ？  '], [' ―― 復讐 だ とも ！  ', ' … … え ？  '], [' ―― ぉ  ', ' ぁ 、 か ！ ？  '], [' がぶ … … ッ  ', ' ぇ 、 む … …  '], [' え ？  ', ' ―― っ  '], [' な ―― っ ！ ？  ', ' 旦那 くん 、 あぶな ――  '], [' ―― ぁ 、 く  ', ' し 、 し … …  '], [' ―― っ  ', ' どういう こと だ ？  '], [' ぐあ ―― っ ！ ？  ', ' フロップ さん ！  '], [' ―― ッ ！ ？  ', ' こん 、 な … …  '], [' ロウアン さ ――  ', ' ―― ――  '], [' ひ  ', ' ―― ――  '], [' ―― ――  ', ' なん 、 で … …  '], [' なんで … … なんで ！  ', ' なん で ぇ ！  '], [' ―― ――  ', ' いや … …  '], [' レム なら … …  ', ' フロップ さん 、 頼む ！  '], [' しま ―― っ  ', ' が あっ ！ ？  '], [' やめ … …  ', ' せ ー のっ ！  '], [' 俺 を … …  ', ' うん ？  '], [' とにかく … …  ', ' クソ 、 クソ … …  '], [' ―― ――  ', ' あと は … …  '], [' ―― そういう 、 こと か  ', ' 旦那 くん ？  '], [' レム ！  ', ' ―― っ  '], [' 可愛い 妹 だ ！  ', ' う ー ！ う ー ！  '], [' は ？  ', ' 急 に 離さ ない で ！  '], [' わかっ て くれる か ！  ', ' これ なら … …  '], [' ―― 妹 よ ！  ', ' ―― 頑張れ ！ ！  '], [' う ぎい ！  ', ' それ は ダメ だ  '], [' ―― 眼帯 の 人 ！  ', ' ああ ？  '], [' 捕まえ た ！  ', ' 合点 承知 ！  '], [' ―― ――  ', ' おお おお あ ！  '], [' ぐぐ … … ！  ', ' あー う ー ！ ！  '], [' 見りゃ わかる だろ  ', ' おんぶ  '], [' 待 テ 、 スバル  ', ' いい カ  '], [' 本人 ダ  ', ' な ノー  '], [' フロップ さん ！  ', ' うん ？  '], [' チシャ … … ？  ', ' 黙れ 、 自覚 は ある  '], [' 姉 上 … …  ', ' 感謝 する ！  '], [' ―― ――  ', ' ふ 、 フロップ さん … …  '], [' レム … …  ', ' ―― ――  '], [' ―― あなた を  ', ' ―― ――  '], [' あー う ー ！ ！  ', ' ぐおっ ！ ？  '], [' ルイ ちゃん  ', ' う ー ！  '], [' … … はい  ', ' あなた なら … …  '], [' ―― ――  ', ' ―― ――  '], [' ―― ぁ  ', ' ―― ――  '], [' ―― ――  ', ' いや  '], [' なに ？  ', ' 旦那 くん ？  '], [' ―― ――  ', ' ―― ――  '], [' 物 って … …  ', ' ―― 毒 だ  '], [' フロップ さん … …  ', ' ふん  '], [' 顔 ？  ', ' そう カ 、 確か に ナ  '], [' ふざけ てる ん です か ？  ', ' え ！ ？  '], [' は ？  ', ' ―― 狙い は 、 ズィクル・オスマン か  '], [' ―― これ が 、 わたくし  ', ' ―― ――  '], [' ―― 見事 ダ  ', ' み … …  '], [' なん だこ レ  ', ' な ノー  '], [' 美しい から だ ね ！  ', ' う つく 、 しい … …  '], [' ―― っ ！  ', ' あら まあ  '], [' ―― ――  ', ' まったく 、 悔しい です こと  '], [' ―― ――  ', ' ―― ――  '], [' あ ちゃ  ', ' 見つかっ た か … …  '], [' タリッタ さん ？  ', ' ―― タリッタ  '], [' アベル ―― ！  ', ' ―― クッ  '], [' 殺し ちゃ ダメ だ ！ ！  ', ' ―― っ  '], [' が あっ ！ ？  ', ' ―― ぁ  '], [' ―― 嘘 だろ  ', ' ―― ナツ ミ ・ シュバルツ  '], [' ―― ――  ', ' れ 、 レム … …  '], [' し まし た よ  ', ' へ ？  '], [' ―― ッッ ！ ！  ', ' ―― ッ 、 ホーリィ ！ ！  '], [' えらい  ', ' ―― ――  '], [' ―― ――  ', ' か  '], [' ―― れ 、 むは  ', ' あ べ る … …  '], [' うん ？  ', ' ―― うそ  '], [' あ 、 鬼 だ 。 珍しい  ', ' あなた は … … っ  ']]\n",
            ">  いい や 、 違う ！  \n",
            "=  ああ ン ？  \n",
            "<  ―― ―― ――   <EOS>\n",
            "\n",
            ">  う にゃ ！  \n",
            "=  ぷっ  \n",
            "<  ―― ―― ――   <EOS>\n",
            "\n",
            ">  さて 、 と  \n",
            "=  ―― ―― ！  \n",
            "<  ―― ―― ――   <EOS>\n",
            "\n",
            ">  ―― レイド・アストレア  \n",
            "=  ―― ――  \n",
            "<  ―― ―― ――   <EOS>\n",
            "\n",
            ">  ―― 俺 以外 に  \n",
            "=  ―― ――  \n",
            "<  ―― ―― ――   <EOS>\n",
            "\n",
            ">  ―― ―― ！ ？  \n",
            "=  岩 豚 ちゃん ！ ？  \n",
            "<  ―― ―― ――   <EOS>\n",
            "\n",
            ">  あ ？  \n",
            "=  なん 、 だ ？  \n",
            "<  ―― ―― ――   <EOS>\n",
            "\n",
            ">  ベア … …  \n",
            "=  やめ … … ベア トリス ！  \n",
            "<  ―― ―― ――   <EOS>\n",
            "\n",
            ">  その 価値 は 、 ある か  \n",
            "=  … … あ ァ ？  \n",
            "<  ―― ―― ――   <EOS>\n",
            "\n",
            ">  ―― ――  \n",
            "=  げ ほっ  \n",
            "<  ―― ―― ――   <EOS>\n",
            "\n"
          ]
        }
      ]
    },
    {
      "cell_type": "code",
      "metadata": {
        "id": "pSo3slGwR6Q7",
        "colab": {
          "base_uri": "https://localhost:8080/",
          "height": 350
        },
        "outputId": "89fbafab-ff42-489b-d939-94f5a4d7c2f0"
      },
      "source": [
        "output_words, attentions = evaluate(\n",
        "    encoder1, attn_decoder1, \"?\")\n",
        "plt.matshow(attentions.numpy())"
      ],
      "execution_count": 29,
      "outputs": [
        {
          "output_type": "error",
          "ename": "KeyError",
          "evalue": "ignored",
          "traceback": [
            "\u001b[0;31m---------------------------------------------------------------------------\u001b[0m",
            "\u001b[0;31mKeyError\u001b[0m                                  Traceback (most recent call last)",
            "\u001b[0;32m<ipython-input-29-065496b776b5>\u001b[0m in \u001b[0;36m<module>\u001b[0;34m\u001b[0m\n\u001b[1;32m      1\u001b[0m output_words, attentions = evaluate(\n\u001b[0;32m----> 2\u001b[0;31m     encoder1, attn_decoder1, \"?\")\n\u001b[0m\u001b[1;32m      3\u001b[0m \u001b[0mplt\u001b[0m\u001b[0;34m.\u001b[0m\u001b[0mmatshow\u001b[0m\u001b[0;34m(\u001b[0m\u001b[0mattentions\u001b[0m\u001b[0;34m.\u001b[0m\u001b[0mnumpy\u001b[0m\u001b[0;34m(\u001b[0m\u001b[0;34m)\u001b[0m\u001b[0;34m)\u001b[0m\u001b[0;34m\u001b[0m\u001b[0;34m\u001b[0m\u001b[0m\n",
            "\u001b[0;32m<ipython-input-24-881d27a56888>\u001b[0m in \u001b[0;36mevaluate\u001b[0;34m(encoder, decoder, sentence, max_length)\u001b[0m\n\u001b[1;32m      1\u001b[0m \u001b[0;32mdef\u001b[0m \u001b[0mevaluate\u001b[0m\u001b[0;34m(\u001b[0m\u001b[0mencoder\u001b[0m\u001b[0;34m,\u001b[0m \u001b[0mdecoder\u001b[0m\u001b[0;34m,\u001b[0m \u001b[0msentence\u001b[0m\u001b[0;34m,\u001b[0m \u001b[0mmax_length\u001b[0m\u001b[0;34m=\u001b[0m\u001b[0mMAX_LENGTH\u001b[0m\u001b[0;34m)\u001b[0m\u001b[0;34m:\u001b[0m\u001b[0;34m\u001b[0m\u001b[0;34m\u001b[0m\u001b[0m\n\u001b[1;32m      2\u001b[0m     \u001b[0;32mwith\u001b[0m \u001b[0mtorch\u001b[0m\u001b[0;34m.\u001b[0m\u001b[0mno_grad\u001b[0m\u001b[0;34m(\u001b[0m\u001b[0;34m)\u001b[0m\u001b[0;34m:\u001b[0m\u001b[0;34m\u001b[0m\u001b[0;34m\u001b[0m\u001b[0m\n\u001b[0;32m----> 3\u001b[0;31m         \u001b[0minput_tensor\u001b[0m \u001b[0;34m=\u001b[0m \u001b[0mtensorFromSentence\u001b[0m\u001b[0;34m(\u001b[0m\u001b[0minput_lang\u001b[0m\u001b[0;34m,\u001b[0m \u001b[0msentence\u001b[0m\u001b[0;34m)\u001b[0m\u001b[0;34m\u001b[0m\u001b[0;34m\u001b[0m\u001b[0m\n\u001b[0m\u001b[1;32m      4\u001b[0m         \u001b[0minput_length\u001b[0m \u001b[0;34m=\u001b[0m \u001b[0minput_tensor\u001b[0m\u001b[0;34m.\u001b[0m\u001b[0msize\u001b[0m\u001b[0;34m(\u001b[0m\u001b[0;34m)\u001b[0m\u001b[0;34m[\u001b[0m\u001b[0;36m0\u001b[0m\u001b[0;34m]\u001b[0m\u001b[0;34m\u001b[0m\u001b[0;34m\u001b[0m\u001b[0m\n\u001b[1;32m      5\u001b[0m         \u001b[0mencoder_hidden\u001b[0m \u001b[0;34m=\u001b[0m \u001b[0mencoder\u001b[0m\u001b[0;34m.\u001b[0m\u001b[0minitHidden\u001b[0m\u001b[0;34m(\u001b[0m\u001b[0;34m)\u001b[0m\u001b[0;34m\u001b[0m\u001b[0;34m\u001b[0m\u001b[0m\n",
            "\u001b[0;32m<ipython-input-19-bb69e91c7422>\u001b[0m in \u001b[0;36mtensorFromSentence\u001b[0;34m(lang, sentence)\u001b[0m\n\u001b[1;32m      4\u001b[0m \u001b[0;34m\u001b[0m\u001b[0m\n\u001b[1;32m      5\u001b[0m \u001b[0;32mdef\u001b[0m \u001b[0mtensorFromSentence\u001b[0m\u001b[0;34m(\u001b[0m\u001b[0mlang\u001b[0m\u001b[0;34m,\u001b[0m \u001b[0msentence\u001b[0m\u001b[0;34m)\u001b[0m\u001b[0;34m:\u001b[0m\u001b[0;34m\u001b[0m\u001b[0;34m\u001b[0m\u001b[0m\n\u001b[0;32m----> 6\u001b[0;31m     \u001b[0mindexes\u001b[0m \u001b[0;34m=\u001b[0m \u001b[0mindexesFromSentence\u001b[0m\u001b[0;34m(\u001b[0m\u001b[0mlang\u001b[0m\u001b[0;34m,\u001b[0m \u001b[0msentence\u001b[0m\u001b[0;34m)\u001b[0m\u001b[0;34m\u001b[0m\u001b[0;34m\u001b[0m\u001b[0m\n\u001b[0m\u001b[1;32m      7\u001b[0m     \u001b[0mindexes\u001b[0m\u001b[0;34m.\u001b[0m\u001b[0mappend\u001b[0m\u001b[0;34m(\u001b[0m\u001b[0mEOS_token\u001b[0m\u001b[0;34m)\u001b[0m\u001b[0;34m\u001b[0m\u001b[0;34m\u001b[0m\u001b[0m\n\u001b[1;32m      8\u001b[0m     \u001b[0;32mreturn\u001b[0m \u001b[0mtorch\u001b[0m\u001b[0;34m.\u001b[0m\u001b[0mtensor\u001b[0m\u001b[0;34m(\u001b[0m\u001b[0mindexes\u001b[0m\u001b[0;34m,\u001b[0m \u001b[0mdtype\u001b[0m\u001b[0;34m=\u001b[0m\u001b[0mtorch\u001b[0m\u001b[0;34m.\u001b[0m\u001b[0mlong\u001b[0m\u001b[0;34m,\u001b[0m \u001b[0mdevice\u001b[0m\u001b[0;34m=\u001b[0m\u001b[0mdevice\u001b[0m\u001b[0;34m)\u001b[0m\u001b[0;34m.\u001b[0m\u001b[0mview\u001b[0m\u001b[0;34m(\u001b[0m\u001b[0;34m-\u001b[0m\u001b[0;36m1\u001b[0m\u001b[0;34m,\u001b[0m \u001b[0;36m1\u001b[0m\u001b[0;34m)\u001b[0m\u001b[0;34m\u001b[0m\u001b[0;34m\u001b[0m\u001b[0m\n",
            "\u001b[0;32m<ipython-input-19-bb69e91c7422>\u001b[0m in \u001b[0;36mindexesFromSentence\u001b[0;34m(lang, sentence)\u001b[0m\n\u001b[1;32m      1\u001b[0m \u001b[0;32mdef\u001b[0m \u001b[0mindexesFromSentence\u001b[0m\u001b[0;34m(\u001b[0m\u001b[0mlang\u001b[0m\u001b[0;34m,\u001b[0m \u001b[0msentence\u001b[0m\u001b[0;34m)\u001b[0m\u001b[0;34m:\u001b[0m\u001b[0;34m\u001b[0m\u001b[0;34m\u001b[0m\u001b[0m\n\u001b[0;32m----> 2\u001b[0;31m     \u001b[0;32mreturn\u001b[0m \u001b[0;34m[\u001b[0m\u001b[0mlang\u001b[0m\u001b[0;34m.\u001b[0m\u001b[0mword2index\u001b[0m\u001b[0;34m[\u001b[0m\u001b[0mword\u001b[0m\u001b[0;34m]\u001b[0m \u001b[0;32mfor\u001b[0m \u001b[0mword\u001b[0m \u001b[0;32min\u001b[0m \u001b[0msentence\u001b[0m\u001b[0;34m.\u001b[0m\u001b[0msplit\u001b[0m\u001b[0;34m(\u001b[0m\u001b[0;34m' '\u001b[0m\u001b[0;34m)\u001b[0m\u001b[0;34m]\u001b[0m\u001b[0;34m\u001b[0m\u001b[0;34m\u001b[0m\u001b[0m\n\u001b[0m\u001b[1;32m      3\u001b[0m \u001b[0;34m\u001b[0m\u001b[0m\n\u001b[1;32m      4\u001b[0m \u001b[0;34m\u001b[0m\u001b[0m\n\u001b[1;32m      5\u001b[0m \u001b[0;32mdef\u001b[0m \u001b[0mtensorFromSentence\u001b[0m\u001b[0;34m(\u001b[0m\u001b[0mlang\u001b[0m\u001b[0;34m,\u001b[0m \u001b[0msentence\u001b[0m\u001b[0;34m)\u001b[0m\u001b[0;34m:\u001b[0m\u001b[0;34m\u001b[0m\u001b[0;34m\u001b[0m\u001b[0m\n",
            "\u001b[0;32m<ipython-input-19-bb69e91c7422>\u001b[0m in \u001b[0;36m<listcomp>\u001b[0;34m(.0)\u001b[0m\n\u001b[1;32m      1\u001b[0m \u001b[0;32mdef\u001b[0m \u001b[0mindexesFromSentence\u001b[0m\u001b[0;34m(\u001b[0m\u001b[0mlang\u001b[0m\u001b[0;34m,\u001b[0m \u001b[0msentence\u001b[0m\u001b[0;34m)\u001b[0m\u001b[0;34m:\u001b[0m\u001b[0;34m\u001b[0m\u001b[0;34m\u001b[0m\u001b[0m\n\u001b[0;32m----> 2\u001b[0;31m     \u001b[0;32mreturn\u001b[0m \u001b[0;34m[\u001b[0m\u001b[0mlang\u001b[0m\u001b[0;34m.\u001b[0m\u001b[0mword2index\u001b[0m\u001b[0;34m[\u001b[0m\u001b[0mword\u001b[0m\u001b[0;34m]\u001b[0m \u001b[0;32mfor\u001b[0m \u001b[0mword\u001b[0m \u001b[0;32min\u001b[0m \u001b[0msentence\u001b[0m\u001b[0;34m.\u001b[0m\u001b[0msplit\u001b[0m\u001b[0;34m(\u001b[0m\u001b[0;34m' '\u001b[0m\u001b[0;34m)\u001b[0m\u001b[0;34m]\u001b[0m\u001b[0;34m\u001b[0m\u001b[0;34m\u001b[0m\u001b[0m\n\u001b[0m\u001b[1;32m      3\u001b[0m \u001b[0;34m\u001b[0m\u001b[0m\n\u001b[1;32m      4\u001b[0m \u001b[0;34m\u001b[0m\u001b[0m\n\u001b[1;32m      5\u001b[0m \u001b[0;32mdef\u001b[0m \u001b[0mtensorFromSentence\u001b[0m\u001b[0;34m(\u001b[0m\u001b[0mlang\u001b[0m\u001b[0;34m,\u001b[0m \u001b[0msentence\u001b[0m\u001b[0;34m)\u001b[0m\u001b[0;34m:\u001b[0m\u001b[0;34m\u001b[0m\u001b[0;34m\u001b[0m\u001b[0m\n",
            "\u001b[0;31mKeyError\u001b[0m: '?'"
          ]
        }
      ]
    },
    {
      "cell_type": "code",
      "metadata": {
        "id": "jeQUdVIVR9V-",
        "colab": {
          "base_uri": "https://localhost:8080/",
          "height": 437
        },
        "outputId": "9dc4618b-4fde-42f9-d4f4-5588be64496a"
      },
      "source": [
        "def showAttention(input_sentence, output_words, attentions):\n",
        "    # Set up figure with colorbar\n",
        "    fig = plt.figure()\n",
        "    ax = fig.add_subplot(111)\n",
        "    cax = ax.matshow(attentions.numpy(), cmap='bone')\n",
        "    fig.colorbar(cax)\n",
        "\n",
        "    #kakasi = pykakasi.kakasi() # インスタンスの作成\n",
        "    #kakasi.setMode('H', 'a') # ひらがなをローマ字に変換するように設定\n",
        "    #kakasi.setMode('K', 'a') # カタカナをローマ字に変換するように設定\n",
        "    #kakasi.setMode('J', 'a') # 漢字をローマ字に変換するように設定\n",
        "    #conversion = kakasi.getConverter() # 上記モード設定の適用\n",
        "\n",
        "    #eng_output_words=[]\n",
        "\n",
        "    #for i in range(len(output_words)):\n",
        "    #  eng_output_words += conversion.do(output_words[i])\n",
        "\n",
        "    #print(eng_output_words)\n",
        "\n",
        "    # Set up axes\n",
        "    ax.set_xticklabels([''] + input_sentence.split(' ') +['<EOS>'], rotation=90)\n",
        "    ax.set_xticklabels([''])\n",
        "    ax.set_yticklabels([''] + output_words)\n",
        "    ax.set_yticklabels([''])\n",
        "\n",
        "    # Show label at every tick\n",
        "    ax.xaxis.set_major_locator(ticker.MultipleLocator(1))\n",
        "    ax.yaxis.set_major_locator(ticker.MultipleLocator(1))\n",
        "\n",
        "    plt.show()\n",
        "    plt.close\n",
        "\n",
        "def evaluateAndShowAttention(input_sentence):\n",
        "    output_words, attentions = evaluate(\n",
        "        encoder1, attn_decoder1, input_sentence)\n",
        "    print('input =', input_sentence)\n",
        "    print('output =', ' '.join(output_words))\n",
        "    showAttention(input_sentence, output_words, attentions)\n",
        "    plt.close\n",
        "\n",
        "while 1:\n",
        "  x = input()\n",
        "  if(x == \"exit\"):break\n",
        "  evaluateAndShowAttention(x)\n"
      ],
      "execution_count": 34,
      "outputs": [
        {
          "output_type": "stream",
          "name": "stdout",
          "text": [
            "ー\n",
            "input = ー\n",
            "output =  ―― ――   <EOS>\n"
          ]
        },
        {
          "output_type": "error",
          "ename": "KeyboardInterrupt",
          "evalue": "ignored",
          "traceback": [
            "\u001b[0;31m---------------------------------------------------------------------------\u001b[0m",
            "\u001b[0;31mKeyboardInterrupt\u001b[0m                         Traceback (most recent call last)",
            "\u001b[0;32m<ipython-input-34-a885c23926fb>\u001b[0m in \u001b[0;36m<module>\u001b[0;34m\u001b[0m\n\u001b[1;32m     41\u001b[0m \u001b[0;34m\u001b[0m\u001b[0m\n\u001b[1;32m     42\u001b[0m \u001b[0;32mwhile\u001b[0m \u001b[0;36m1\u001b[0m\u001b[0;34m:\u001b[0m\u001b[0;34m\u001b[0m\u001b[0;34m\u001b[0m\u001b[0m\n\u001b[0;32m---> 43\u001b[0;31m   \u001b[0mx\u001b[0m \u001b[0;34m=\u001b[0m \u001b[0minput\u001b[0m\u001b[0;34m(\u001b[0m\u001b[0;34m)\u001b[0m\u001b[0;34m\u001b[0m\u001b[0;34m\u001b[0m\u001b[0m\n\u001b[0m\u001b[1;32m     44\u001b[0m   \u001b[0;32mif\u001b[0m\u001b[0;34m(\u001b[0m\u001b[0mx\u001b[0m \u001b[0;34m==\u001b[0m \u001b[0;34m\"exit\"\u001b[0m\u001b[0;34m)\u001b[0m\u001b[0;34m:\u001b[0m\u001b[0;32mbreak\u001b[0m\u001b[0;34m\u001b[0m\u001b[0;34m\u001b[0m\u001b[0m\n\u001b[1;32m     45\u001b[0m   \u001b[0mevaluateAndShowAttention\u001b[0m\u001b[0;34m(\u001b[0m\u001b[0mx\u001b[0m\u001b[0;34m)\u001b[0m\u001b[0;34m\u001b[0m\u001b[0;34m\u001b[0m\u001b[0m\n",
            "\u001b[0;32m/usr/local/lib/python3.7/dist-packages/ipykernel/kernelbase.py\u001b[0m in \u001b[0;36mraw_input\u001b[0;34m(self, prompt)\u001b[0m\n\u001b[1;32m    861\u001b[0m             \u001b[0mself\u001b[0m\u001b[0;34m.\u001b[0m\u001b[0m_parent_ident\u001b[0m\u001b[0;34m,\u001b[0m\u001b[0;34m\u001b[0m\u001b[0;34m\u001b[0m\u001b[0m\n\u001b[1;32m    862\u001b[0m             \u001b[0mself\u001b[0m\u001b[0;34m.\u001b[0m\u001b[0m_parent_header\u001b[0m\u001b[0;34m,\u001b[0m\u001b[0;34m\u001b[0m\u001b[0;34m\u001b[0m\u001b[0m\n\u001b[0;32m--> 863\u001b[0;31m             \u001b[0mpassword\u001b[0m\u001b[0;34m=\u001b[0m\u001b[0;32mFalse\u001b[0m\u001b[0;34m,\u001b[0m\u001b[0;34m\u001b[0m\u001b[0;34m\u001b[0m\u001b[0m\n\u001b[0m\u001b[1;32m    864\u001b[0m         )\n\u001b[1;32m    865\u001b[0m \u001b[0;34m\u001b[0m\u001b[0m\n",
            "\u001b[0;32m/usr/local/lib/python3.7/dist-packages/ipykernel/kernelbase.py\u001b[0m in \u001b[0;36m_input_request\u001b[0;34m(self, prompt, ident, parent, password)\u001b[0m\n\u001b[1;32m    902\u001b[0m             \u001b[0;32mexcept\u001b[0m \u001b[0mKeyboardInterrupt\u001b[0m\u001b[0;34m:\u001b[0m\u001b[0;34m\u001b[0m\u001b[0;34m\u001b[0m\u001b[0m\n\u001b[1;32m    903\u001b[0m                 \u001b[0;31m# re-raise KeyboardInterrupt, to truncate traceback\u001b[0m\u001b[0;34m\u001b[0m\u001b[0;34m\u001b[0m\u001b[0;34m\u001b[0m\u001b[0m\n\u001b[0;32m--> 904\u001b[0;31m                 \u001b[0;32mraise\u001b[0m \u001b[0mKeyboardInterrupt\u001b[0m\u001b[0;34m(\u001b[0m\u001b[0;34m\"Interrupted by user\"\u001b[0m\u001b[0;34m)\u001b[0m \u001b[0;32mfrom\u001b[0m \u001b[0;32mNone\u001b[0m\u001b[0;34m\u001b[0m\u001b[0;34m\u001b[0m\u001b[0m\n\u001b[0m\u001b[1;32m    905\u001b[0m             \u001b[0;32mexcept\u001b[0m \u001b[0mException\u001b[0m \u001b[0;32mas\u001b[0m \u001b[0me\u001b[0m\u001b[0;34m:\u001b[0m\u001b[0;34m\u001b[0m\u001b[0;34m\u001b[0m\u001b[0m\n\u001b[1;32m    906\u001b[0m                 \u001b[0mself\u001b[0m\u001b[0;34m.\u001b[0m\u001b[0mlog\u001b[0m\u001b[0;34m.\u001b[0m\u001b[0mwarning\u001b[0m\u001b[0;34m(\u001b[0m\u001b[0;34m\"Invalid Message:\"\u001b[0m\u001b[0;34m,\u001b[0m \u001b[0mexc_info\u001b[0m\u001b[0;34m=\u001b[0m\u001b[0;32mTrue\u001b[0m\u001b[0;34m)\u001b[0m\u001b[0;34m\u001b[0m\u001b[0;34m\u001b[0m\u001b[0m\n",
            "\u001b[0;31mKeyboardInterrupt\u001b[0m: Interrupted by user"
          ]
        }
      ]
    },
    {
      "cell_type": "code",
      "metadata": {
        "id": "QXVQEnEiEbxd"
      },
      "source": [
        "print(Lang.word2index)\n",
        "print(random.choice(pairs))"
      ],
      "execution_count": null,
      "outputs": []
    }
  ]
}